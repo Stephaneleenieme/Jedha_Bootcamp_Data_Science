{
 "cells": [
  {
   "cell_type": "markdown",
   "metadata": {
    "application/vnd.databricks.v1+cell": {
     "inputWidgets": {},
     "nuid": "5a3b5c42-9391-4c78-9684-bba82fae16f1",
     "showTitle": false,
     "title": ""
    }
   },
   "source": [
    "# Redshift's ingestion"
   ]
  },
  {
   "cell_type": "markdown",
   "metadata": {
    "application/vnd.databricks.v1+cell": {
     "inputWidgets": {},
     "nuid": "5bbcbcc3-219a-4aca-8117-9bb4746ff568",
     "showTitle": false,
     "title": ""
    }
   },
   "source": [
    "## Loading our data from S3"
   ]
  },
  {
   "cell_type": "code",
   "execution_count": null,
   "metadata": {
    "application/vnd.databricks.v1+cell": {
     "inputWidgets": {},
     "nuid": "d611e013-f353-412e-9123-c5e031f5ca74",
     "showTitle": false,
     "title": ""
    }
   },
   "outputs": [
    {
     "data": {
      "text/html": [
       "<style scoped>\n",
       "  .ansiout {\n",
       "    display: block;\n",
       "    unicode-bidi: embed;\n",
       "    white-space: pre-wrap;\n",
       "    word-wrap: break-word;\n",
       "    word-break: break-all;\n",
       "    font-family: \"Source Code Pro\", \"Menlo\", monospace;;\n",
       "    font-size: 13px;\n",
       "    color: #555;\n",
       "    margin-left: 4px;\n",
       "    line-height: 19px;\n",
       "  }\n",
       "</style>\n",
       "<div class=\"ansiout\"></div>"
      ]
     },
     "metadata": {
      "application/vnd.databricks.v1+output": {
       "addedWidgets": {},
       "arguments": {},
       "data": "<div class=\"ansiout\"></div>",
       "datasetInfos": [],
       "removedWidgets": [],
       "type": "html"
      }
     },
     "output_type": "display_data"
    }
   ],
   "source": [
    "import pyspark\n",
    "import boto3\n",
    "sc = spark.sparkContext\n",
    "from pyspark.sql import functions as F"
   ]
  },
  {
   "cell_type": "code",
   "execution_count": null,
   "metadata": {
    "application/vnd.databricks.v1+cell": {
     "inputWidgets": {},
     "nuid": "3f8af544-3fb9-4fd2-a330-396b185e4853",
     "showTitle": false,
     "title": ""
    }
   },
   "outputs": [
    {
     "data": {
      "text/html": [
       "<style scoped>\n",
       "  .ansiout {\n",
       "    display: block;\n",
       "    unicode-bidi: embed;\n",
       "    white-space: pre-wrap;\n",
       "    word-wrap: break-word;\n",
       "    word-break: break-all;\n",
       "    font-family: \"Source Code Pro\", \"Menlo\", monospace;;\n",
       "    font-size: 13px;\n",
       "    color: #555;\n",
       "    margin-left: 4px;\n",
       "    line-height: 19px;\n",
       "  }\n",
       "</style>\n",
       "<div class=\"ansiout\"></div>"
      ]
     },
     "metadata": {
      "application/vnd.databricks.v1+output": {
       "addedWidgets": {},
       "arguments": {},
       "data": "<div class=\"ansiout\"></div>",
       "datasetInfos": [],
       "removedWidgets": [],
       "type": "html"
      }
     },
     "output_type": "display_data"
    }
   ],
   "source": [
    "# TODO: using your previously created constants:\n",
    "#       - create a s3 resource\n",
    "#       - and a s3 bucket\n",
    "### BEGIN STRIP ###\n",
    "\n",
    "SCHEME = 's3'\n",
    "\n",
    "ACCESS_KEY_ID = \"****\" # cle du compte student\n",
    "SECRET_ACCESS_KEY = \"****\" # secret key du compte student\n",
    "hadoop_conf = spark._jsc.hadoopConfiguration()\n",
    "hadoop_conf.set(\"fs.s3a.access.key\", ACCESS_KEY_ID)\n",
    "hadoop_conf.set(\"fs.s3a.secret.key\", SECRET_ACCESS_KEY)\n",
    "hadoop_conf.set(\"fs.s3a.impl\",\"org.apache.hadoop.fs.s3a.S3AFileSystem\") \n",
    "\n",
    "session = boto3.Session(\n",
    "    aws_access_key_id='****',\n",
    "    aws_secret_access_key='****'\n",
    ")\n",
    "\n",
    "BUCKET_NAME = \"full-stack-bigdata-datasets\"\n",
    "PREFIX = \"Big_Data/YOUTUBE/interim\"\n",
    "### END STRIP ###"
   ]
  },
  {
   "cell_type": "code",
   "execution_count": null,
   "metadata": {
    "application/vnd.databricks.v1+cell": {
     "inputWidgets": {},
     "nuid": "747ed38a-1ae7-4b41-acf2-a7d7e685627f",
     "showTitle": false,
     "title": ""
    }
   },
   "outputs": [
    {
     "data": {
      "text/html": [
       "<style scoped>\n",
       "  .ansiout {\n",
       "    display: block;\n",
       "    unicode-bidi: embed;\n",
       "    white-space: pre-wrap;\n",
       "    word-wrap: break-word;\n",
       "    word-break: break-all;\n",
       "    font-family: \"Source Code Pro\", \"Menlo\", monospace;;\n",
       "    font-size: 13px;\n",
       "    color: #555;\n",
       "    margin-left: 4px;\n",
       "    line-height: 19px;\n",
       "  }\n",
       "</style>\n",
       "<div class=\"ansiout\"></div>"
      ]
     },
     "metadata": {
      "application/vnd.databricks.v1+output": {
       "addedWidgets": {},
       "arguments": {},
       "data": "<div class=\"ansiout\"></div>",
       "datasetInfos": [],
       "removedWidgets": [],
       "type": "html"
      }
     },
     "output_type": "display_data"
    }
   ],
   "source": [
    "# We create a S3 resource and a Bucket from this same resource\n",
    "s3 = session.resource('s3')\n",
    "bucket = s3.Bucket(BUCKET_NAME)"
   ]
  },
  {
   "cell_type": "code",
   "execution_count": null,
   "metadata": {
    "application/vnd.databricks.v1+cell": {
     "inputWidgets": {},
     "nuid": "477537e0-f6ee-4a20-8e46-1d64b72dc6a0",
     "showTitle": false,
     "title": ""
    }
   },
   "outputs": [
    {
     "data": {
      "text/html": [
       "<style scoped>\n",
       "  .ansiout {\n",
       "    display: block;\n",
       "    unicode-bidi: embed;\n",
       "    white-space: pre-wrap;\n",
       "    word-wrap: break-word;\n",
       "    word-break: break-all;\n",
       "    font-family: \"Source Code Pro\", \"Menlo\", monospace;;\n",
       "    font-size: 13px;\n",
       "    color: #555;\n",
       "    margin-left: 4px;\n",
       "    line-height: 19px;\n",
       "  }\n",
       "</style>\n",
       "<div class=\"ansiout\">Out[7]: &#39;s3://full-stack-bigdata-datasets/Big_Data/YOUTUBE/interim/df_songs_flattened.parquet&#39;</div>"
      ]
     },
     "metadata": {
      "application/vnd.databricks.v1+output": {
       "addedWidgets": {},
       "arguments": {},
       "data": "<div class=\"ansiout\">Out[7]: &#39;s3://full-stack-bigdata-datasets/Big_Data/YOUTUBE/interim/df_songs_flattened.parquet&#39;</div>",
       "datasetInfos": [],
       "removedWidgets": [],
       "type": "html"
      }
     },
     "output_type": "display_data"
    }
   ],
   "source": [
    "# We define a helper function to easily get the full S3 path of an object, given its key\n",
    "def get_s3_path(key, prefix, bucket_name=BUCKET_NAME, scheme=SCHEME):\n",
    "  return f\"{scheme}://{bucket_name}/{prefix}/{key}\"\n",
    "\n",
    "file_path = get_s3_path('df_songs_flattened.parquet',PREFIX, BUCKET_NAME, SCHEME)\n",
    "file_path"
   ]
  },
  {
   "cell_type": "code",
   "execution_count": null,
   "metadata": {
    "application/vnd.databricks.v1+cell": {
     "inputWidgets": {},
     "nuid": "1bc08b4b-4305-416c-aeea-7dc2c0f75392",
     "showTitle": false,
     "title": ""
    }
   },
   "outputs": [
    {
     "data": {
      "text/html": [
       "<style scoped>\n",
       "  .ansiout {\n",
       "    display: block;\n",
       "    unicode-bidi: embed;\n",
       "    white-space: pre-wrap;\n",
       "    word-wrap: break-word;\n",
       "    word-break: break-all;\n",
       "    font-family: \"Source Code Pro\", \"Menlo\", monospace;;\n",
       "    font-size: 13px;\n",
       "    color: #555;\n",
       "    margin-left: 4px;\n",
       "    line-height: 19px;\n",
       "  }\n",
       "</style>\n",
       "<div class=\"ansiout\">Out[8]: 3907</div>"
      ]
     },
     "metadata": {
      "application/vnd.databricks.v1+output": {
       "addedWidgets": {},
       "arguments": {},
       "data": "<div class=\"ansiout\">Out[8]: 3907</div>",
       "datasetInfos": [
        {
         "name": "df",
         "schema": {
          "fields": [
           {
            "metadata": {},
            "name": "etag",
            "nullable": true,
            "type": "string"
           },
           {
            "metadata": {},
            "name": "kind",
            "nullable": true,
            "type": "string"
           },
           {
            "metadata": {},
            "name": "items.contentDetails.caption",
            "nullable": true,
            "type": "string"
           },
           {
            "metadata": {},
            "name": "items.contentDetails.contentRating.ytRating",
            "nullable": true,
            "type": "string"
           },
           {
            "metadata": {},
            "name": "items.contentDetails.definition",
            "nullable": true,
            "type": "string"
           },
           {
            "metadata": {},
            "name": "items.contentDetails.dimension",
            "nullable": true,
            "type": "string"
           },
           {
            "metadata": {},
            "name": "items.contentDetails.duration",
            "nullable": true,
            "type": "string"
           },
           {
            "metadata": {},
            "name": "items.contentDetails.licensedContent",
            "nullable": true,
            "type": "boolean"
           },
           {
            "metadata": {},
            "name": "items.contentDetails.projection",
            "nullable": true,
            "type": "string"
           },
           {
            "metadata": {},
            "name": "items.etag",
            "nullable": true,
            "type": "string"
           },
           {
            "metadata": {},
            "name": "items.id",
            "nullable": true,
            "type": "string"
           },
           {
            "metadata": {},
            "name": "items.kind",
            "nullable": true,
            "type": "string"
           },
           {
            "metadata": {},
            "name": "items.snippet.categoryId",
            "nullable": true,
            "type": "string"
           },
           {
            "metadata": {},
            "name": "items.snippet.channelId",
            "nullable": true,
            "type": "string"
           },
           {
            "metadata": {},
            "name": "items.snippet.channelTitle",
            "nullable": true,
            "type": "string"
           },
           {
            "metadata": {},
            "name": "items.snippet.defaultAudioLanguage",
            "nullable": true,
            "type": "string"
           },
           {
            "metadata": {},
            "name": "items.snippet.defaultLanguage",
            "nullable": true,
            "type": "string"
           },
           {
            "metadata": {},
            "name": "items.snippet.description",
            "nullable": true,
            "type": "string"
           },
           {
            "metadata": {},
            "name": "items.snippet.liveBroadcastContent",
            "nullable": true,
            "type": "string"
           },
           {
            "metadata": {},
            "name": "items.snippet.localized.description",
            "nullable": true,
            "type": "string"
           },
           {
            "metadata": {},
            "name": "items.snippet.localized.title",
            "nullable": true,
            "type": "string"
           },
           {
            "metadata": {},
            "name": "items.snippet.publishedAt",
            "nullable": true,
            "type": "string"
           },
           {
            "metadata": {},
            "name": "items.snippet.thumbnails.default.height",
            "nullable": true,
            "type": "long"
           },
           {
            "metadata": {},
            "name": "items.snippet.thumbnails.default.url",
            "nullable": true,
            "type": "string"
           },
           {
            "metadata": {},
            "name": "items.snippet.thumbnails.default.width",
            "nullable": true,
            "type": "long"
           },
           {
            "metadata": {},
            "name": "items.snippet.thumbnails.high.height",
            "nullable": true,
            "type": "long"
           },
           {
            "metadata": {},
            "name": "items.snippet.thumbnails.high.url",
            "nullable": true,
            "type": "string"
           },
           {
            "metadata": {},
            "name": "items.snippet.thumbnails.high.width",
            "nullable": true,
            "type": "long"
           },
           {
            "metadata": {},
            "name": "items.snippet.thumbnails.maxres.height",
            "nullable": true,
            "type": "long"
           },
           {
            "metadata": {},
            "name": "items.snippet.thumbnails.maxres.url",
            "nullable": true,
            "type": "string"
           },
           {
            "metadata": {},
            "name": "items.snippet.thumbnails.maxres.width",
            "nullable": true,
            "type": "long"
           },
           {
            "metadata": {},
            "name": "items.snippet.thumbnails.medium.height",
            "nullable": true,
            "type": "long"
           },
           {
            "metadata": {},
            "name": "items.snippet.thumbnails.medium.url",
            "nullable": true,
            "type": "string"
           },
           {
            "metadata": {},
            "name": "items.snippet.thumbnails.medium.width",
            "nullable": true,
            "type": "long"
           },
           {
            "metadata": {},
            "name": "items.snippet.thumbnails.standard.height",
            "nullable": true,
            "type": "long"
           },
           {
            "metadata": {},
            "name": "items.snippet.thumbnails.standard.url",
            "nullable": true,
            "type": "string"
           },
           {
            "metadata": {},
            "name": "items.snippet.thumbnails.standard.width",
            "nullable": true,
            "type": "long"
           },
           {
            "metadata": {},
            "name": "items.snippet.title",
            "nullable": true,
            "type": "string"
           },
           {
            "metadata": {},
            "name": "items.statistics.commentCount",
            "nullable": true,
            "type": "string"
           },
           {
            "metadata": {},
            "name": "items.statistics.dislikeCount",
            "nullable": true,
            "type": "string"
           },
           {
            "metadata": {},
            "name": "items.statistics.favoriteCount",
            "nullable": true,
            "type": "string"
           },
           {
            "metadata": {},
            "name": "items.statistics.likeCount",
            "nullable": true,
            "type": "string"
           },
           {
            "metadata": {},
            "name": "items.statistics.viewCount",
            "nullable": true,
            "type": "string"
           },
           {
            "metadata": {},
            "name": "items.status.embeddable",
            "nullable": true,
            "type": "boolean"
           },
           {
            "metadata": {},
            "name": "items.status.license",
            "nullable": true,
            "type": "string"
           },
           {
            "metadata": {},
            "name": "items.status.madeForKids",
            "nullable": true,
            "type": "boolean"
           },
           {
            "metadata": {},
            "name": "items.status.privacyStatus",
            "nullable": true,
            "type": "string"
           },
           {
            "metadata": {},
            "name": "items.status.publicStatsViewable",
            "nullable": true,
            "type": "boolean"
           },
           {
            "metadata": {},
            "name": "items.status.uploadStatus",
            "nullable": true,
            "type": "string"
           },
           {
            "metadata": {},
            "name": "pageInfo.resultsPerPage",
            "nullable": true,
            "type": "long"
           },
           {
            "metadata": {},
            "name": "pageInfo.totalResults",
            "nullable": true,
            "type": "long"
           }
          ],
          "type": "struct"
         },
         "tableIdentifier": null,
         "typeStr": "pyspark.sql.dataframe.DataFrame"
        }
       ],
       "removedWidgets": [],
       "type": "html"
      }
     },
     "output_type": "display_data"
    }
   ],
   "source": [
    "# TODO: load the parquet file into a PySpark DataFrame: `df`\n",
    "# NOTE: as a reminder, parquet is the default file format for loading with PySpark\n",
    "#\n",
    "# TODO: as a sanity check, count the rows in the DataFrame\n",
    "### BEGIN STRIP ###\n",
    "df = (spark.read.load(file_path, multiline=True))\n",
    "df.count()\n",
    "### END STRIP ###"
   ]
  },
  {
   "cell_type": "code",
   "execution_count": null,
   "metadata": {
    "application/vnd.databricks.v1+cell": {
     "inputWidgets": {},
     "nuid": "99754e0e-b6b7-4b9b-9bf6-94c78ff5a224",
     "showTitle": false,
     "title": ""
    }
   },
   "outputs": [
    {
     "data": {
      "text/html": [
       "<style scoped>\n",
       "  .ansiout {\n",
       "    display: block;\n",
       "    unicode-bidi: embed;\n",
       "    white-space: pre-wrap;\n",
       "    word-wrap: break-word;\n",
       "    word-break: break-all;\n",
       "    font-family: \"Source Code Pro\", \"Menlo\", monospace;;\n",
       "    font-size: 13px;\n",
       "    color: #555;\n",
       "    margin-left: 4px;\n",
       "    line-height: 19px;\n",
       "  }\n",
       "</style>\n",
       "<div class=\"ansiout\">root\n",
       "-- etag: string (nullable = true)\n",
       "-- kind: string (nullable = true)\n",
       "-- items.contentDetails.caption: string (nullable = true)\n",
       "-- items.contentDetails.contentRating.ytRating: string (nullable = true)\n",
       "-- items.contentDetails.definition: string (nullable = true)\n",
       "-- items.contentDetails.dimension: string (nullable = true)\n",
       "-- items.contentDetails.duration: string (nullable = true)\n",
       "-- items.contentDetails.licensedContent: boolean (nullable = true)\n",
       "-- items.contentDetails.projection: string (nullable = true)\n",
       "-- items.etag: string (nullable = true)\n",
       "-- items.id: string (nullable = true)\n",
       "-- items.kind: string (nullable = true)\n",
       "-- items.snippet.categoryId: string (nullable = true)\n",
       "-- items.snippet.channelId: string (nullable = true)\n",
       "-- items.snippet.channelTitle: string (nullable = true)\n",
       "-- items.snippet.defaultAudioLanguage: string (nullable = true)\n",
       "-- items.snippet.defaultLanguage: string (nullable = true)\n",
       "-- items.snippet.description: string (nullable = true)\n",
       "-- items.snippet.liveBroadcastContent: string (nullable = true)\n",
       "-- items.snippet.localized.description: string (nullable = true)\n",
       "-- items.snippet.localized.title: string (nullable = true)\n",
       "-- items.snippet.publishedAt: string (nullable = true)\n",
       "-- items.snippet.thumbnails.default.height: long (nullable = true)\n",
       "-- items.snippet.thumbnails.default.url: string (nullable = true)\n",
       "-- items.snippet.thumbnails.default.width: long (nullable = true)\n",
       "-- items.snippet.thumbnails.high.height: long (nullable = true)\n",
       "-- items.snippet.thumbnails.high.url: string (nullable = true)\n",
       "-- items.snippet.thumbnails.high.width: long (nullable = true)\n",
       "-- items.snippet.thumbnails.maxres.height: long (nullable = true)\n",
       "-- items.snippet.thumbnails.maxres.url: string (nullable = true)\n",
       "-- items.snippet.thumbnails.maxres.width: long (nullable = true)\n",
       "-- items.snippet.thumbnails.medium.height: long (nullable = true)\n",
       "-- items.snippet.thumbnails.medium.url: string (nullable = true)\n",
       "-- items.snippet.thumbnails.medium.width: long (nullable = true)\n",
       "-- items.snippet.thumbnails.standard.height: long (nullable = true)\n",
       "-- items.snippet.thumbnails.standard.url: string (nullable = true)\n",
       "-- items.snippet.thumbnails.standard.width: long (nullable = true)\n",
       "-- items.snippet.title: string (nullable = true)\n",
       "-- items.statistics.commentCount: string (nullable = true)\n",
       "-- items.statistics.dislikeCount: string (nullable = true)\n",
       "-- items.statistics.favoriteCount: string (nullable = true)\n",
       "-- items.statistics.likeCount: string (nullable = true)\n",
       "-- items.statistics.viewCount: string (nullable = true)\n",
       "-- items.status.embeddable: boolean (nullable = true)\n",
       "-- items.status.license: string (nullable = true)\n",
       "-- items.status.madeForKids: boolean (nullable = true)\n",
       "-- items.status.privacyStatus: string (nullable = true)\n",
       "-- items.status.publicStatsViewable: boolean (nullable = true)\n",
       "-- items.status.uploadStatus: string (nullable = true)\n",
       "-- pageInfo.resultsPerPage: long (nullable = true)\n",
       "-- pageInfo.totalResults: long (nullable = true)\n",
       "\n",
       "</div>"
      ]
     },
     "metadata": {
      "application/vnd.databricks.v1+output": {
       "addedWidgets": {},
       "arguments": {},
       "data": "<div class=\"ansiout\">root\n |-- etag: string (nullable = true)\n |-- kind: string (nullable = true)\n |-- items.contentDetails.caption: string (nullable = true)\n |-- items.contentDetails.contentRating.ytRating: string (nullable = true)\n |-- items.contentDetails.definition: string (nullable = true)\n |-- items.contentDetails.dimension: string (nullable = true)\n |-- items.contentDetails.duration: string (nullable = true)\n |-- items.contentDetails.licensedContent: boolean (nullable = true)\n |-- items.contentDetails.projection: string (nullable = true)\n |-- items.etag: string (nullable = true)\n |-- items.id: string (nullable = true)\n |-- items.kind: string (nullable = true)\n |-- items.snippet.categoryId: string (nullable = true)\n |-- items.snippet.channelId: string (nullable = true)\n |-- items.snippet.channelTitle: string (nullable = true)\n |-- items.snippet.defaultAudioLanguage: string (nullable = true)\n |-- items.snippet.defaultLanguage: string (nullable = true)\n |-- items.snippet.description: string (nullable = true)\n |-- items.snippet.liveBroadcastContent: string (nullable = true)\n |-- items.snippet.localized.description: string (nullable = true)\n |-- items.snippet.localized.title: string (nullable = true)\n |-- items.snippet.publishedAt: string (nullable = true)\n |-- items.snippet.thumbnails.default.height: long (nullable = true)\n |-- items.snippet.thumbnails.default.url: string (nullable = true)\n |-- items.snippet.thumbnails.default.width: long (nullable = true)\n |-- items.snippet.thumbnails.high.height: long (nullable = true)\n |-- items.snippet.thumbnails.high.url: string (nullable = true)\n |-- items.snippet.thumbnails.high.width: long (nullable = true)\n |-- items.snippet.thumbnails.maxres.height: long (nullable = true)\n |-- items.snippet.thumbnails.maxres.url: string (nullable = true)\n |-- items.snippet.thumbnails.maxres.width: long (nullable = true)\n |-- items.snippet.thumbnails.medium.height: long (nullable = true)\n |-- items.snippet.thumbnails.medium.url: string (nullable = true)\n |-- items.snippet.thumbnails.medium.width: long (nullable = true)\n |-- items.snippet.thumbnails.standard.height: long (nullable = true)\n |-- items.snippet.thumbnails.standard.url: string (nullable = true)\n |-- items.snippet.thumbnails.standard.width: long (nullable = true)\n |-- items.snippet.title: string (nullable = true)\n |-- items.statistics.commentCount: string (nullable = true)\n |-- items.statistics.dislikeCount: string (nullable = true)\n |-- items.statistics.favoriteCount: string (nullable = true)\n |-- items.statistics.likeCount: string (nullable = true)\n |-- items.statistics.viewCount: string (nullable = true)\n |-- items.status.embeddable: boolean (nullable = true)\n |-- items.status.license: string (nullable = true)\n |-- items.status.madeForKids: boolean (nullable = true)\n |-- items.status.privacyStatus: string (nullable = true)\n |-- items.status.publicStatsViewable: boolean (nullable = true)\n |-- items.status.uploadStatus: string (nullable = true)\n |-- pageInfo.resultsPerPage: long (nullable = true)\n |-- pageInfo.totalResults: long (nullable = true)\n\n</div>",
       "datasetInfos": [],
       "removedWidgets": [],
       "type": "html"
      }
     },
     "output_type": "display_data"
    }
   ],
   "source": [
    "# TODO: print out our DataFrame's schema\n",
    "### BEGIN STRIP ###\n",
    "df.printSchema()\n",
    "### END STRIP ###"
   ]
  },
  {
   "cell_type": "code",
   "execution_count": null,
   "metadata": {
    "application/vnd.databricks.v1+cell": {
     "inputWidgets": {},
     "nuid": "6f4692b7-e556-49aa-964f-1e4d414eadfd",
     "showTitle": false,
     "title": ""
    }
   },
   "outputs": [
    {
     "data": {
      "text/html": [
       "<div>\n",
       "<style scoped>\n",
       "    .dataframe tbody tr th:only-of-type {\n",
       "        vertical-align: middle;\n",
       "    }\n",
       "\n",
       "    .dataframe tbody tr th {\n",
       "        vertical-align: top;\n",
       "    }\n",
       "\n",
       "    .dataframe thead th {\n",
       "        text-align: right;\n",
       "    }\n",
       "</style>\n",
       "<table border=\"1\" class=\"dataframe\">\n",
       "  <thead>\n",
       "    <tr style=\"text-align: right;\">\n",
       "      <th></th>\n",
       "      <th>etag</th>\n",
       "      <th>kind</th>\n",
       "      <th>items.contentDetails.caption</th>\n",
       "      <th>items.contentDetails.contentRating.ytRating</th>\n",
       "      <th>items.contentDetails.definition</th>\n",
       "      <th>items.contentDetails.dimension</th>\n",
       "      <th>items.contentDetails.duration</th>\n",
       "      <th>items.contentDetails.licensedContent</th>\n",
       "      <th>items.contentDetails.projection</th>\n",
       "      <th>items.etag</th>\n",
       "      <th>items.id</th>\n",
       "      <th>items.kind</th>\n",
       "      <th>items.snippet.categoryId</th>\n",
       "      <th>items.snippet.channelId</th>\n",
       "      <th>items.snippet.channelTitle</th>\n",
       "      <th>items.snippet.defaultAudioLanguage</th>\n",
       "      <th>items.snippet.defaultLanguage</th>\n",
       "      <th>items.snippet.description</th>\n",
       "      <th>items.snippet.liveBroadcastContent</th>\n",
       "      <th>items.snippet.localized.description</th>\n",
       "      <th>items.snippet.localized.title</th>\n",
       "      <th>items.snippet.publishedAt</th>\n",
       "      <th>items.snippet.thumbnails.default.height</th>\n",
       "      <th>items.snippet.thumbnails.default.url</th>\n",
       "      <th>items.snippet.thumbnails.default.width</th>\n",
       "      <th>items.snippet.thumbnails.high.height</th>\n",
       "      <th>items.snippet.thumbnails.high.url</th>\n",
       "      <th>items.snippet.thumbnails.high.width</th>\n",
       "      <th>items.snippet.thumbnails.maxres.height</th>\n",
       "      <th>items.snippet.thumbnails.maxres.url</th>\n",
       "      <th>items.snippet.thumbnails.maxres.width</th>\n",
       "      <th>items.snippet.thumbnails.medium.height</th>\n",
       "      <th>items.snippet.thumbnails.medium.url</th>\n",
       "      <th>items.snippet.thumbnails.medium.width</th>\n",
       "      <th>items.snippet.thumbnails.standard.height</th>\n",
       "      <th>items.snippet.thumbnails.standard.url</th>\n",
       "      <th>items.snippet.thumbnails.standard.width</th>\n",
       "      <th>items.snippet.title</th>\n",
       "      <th>items.statistics.commentCount</th>\n",
       "      <th>items.statistics.dislikeCount</th>\n",
       "      <th>items.statistics.favoriteCount</th>\n",
       "      <th>items.statistics.likeCount</th>\n",
       "      <th>items.statistics.viewCount</th>\n",
       "      <th>items.status.embeddable</th>\n",
       "      <th>items.status.license</th>\n",
       "      <th>items.status.madeForKids</th>\n",
       "      <th>items.status.privacyStatus</th>\n",
       "      <th>items.status.publicStatsViewable</th>\n",
       "      <th>items.status.uploadStatus</th>\n",
       "      <th>pageInfo.resultsPerPage</th>\n",
       "      <th>pageInfo.totalResults</th>\n",
       "    </tr>\n",
       "  </thead>\n",
       "  <tbody>\n",
       "    <tr>\n",
       "      <th>0</th>\n",
       "      <td>U0fncx_GV9jD5SKQr15LMvwuPcs</td>\n",
       "      <td>youtube#videoListResponse</td>\n",
       "      <td>false</td>\n",
       "      <td>None</td>\n",
       "      <td>sd</td>\n",
       "      <td>2d</td>\n",
       "      <td>PT3M33S</td>\n",
       "      <td>True</td>\n",
       "      <td>rectangular</td>\n",
       "      <td>SqP7uUVSol30dxvuScN6JUny6T4</td>\n",
       "      <td>t1l8Z6gLPzo</td>\n",
       "      <td>youtube#video</td>\n",
       "      <td>10</td>\n",
       "      <td>UCUERSOitwgUq_37kGslN96w</td>\n",
       "      <td>VOLO</td>\n",
       "      <td>None</td>\n",
       "      <td>None</td>\n",
       "      <td>Enregistré et mixé par Cyrille PELTIER au \"Kee...</td>\n",
       "      <td>none</td>\n",
       "      <td>Enregistré et mixé par Cyrille PELTIER au \"Kee...</td>\n",
       "      <td>VOLO. \"L'air d'un con\"</td>\n",
       "      <td>2013-07-22T12:09:11Z</td>\n",
       "      <td>90</td>\n",
       "      <td>https://i.ytimg.com/vi/t1l8Z6gLPzo/default.jpg</td>\n",
       "      <td>120</td>\n",
       "      <td>360</td>\n",
       "      <td>https://i.ytimg.com/vi/t1l8Z6gLPzo/hqdefault.jpg</td>\n",
       "      <td>480</td>\n",
       "      <td>NaN</td>\n",
       "      <td>None</td>\n",
       "      <td>NaN</td>\n",
       "      <td>180</td>\n",
       "      <td>https://i.ytimg.com/vi/t1l8Z6gLPzo/mqdefault.jpg</td>\n",
       "      <td>320</td>\n",
       "      <td>480.0</td>\n",
       "      <td>https://i.ytimg.com/vi/t1l8Z6gLPzo/sddefault.jpg</td>\n",
       "      <td>640.0</td>\n",
       "      <td>VOLO. \"L'air d'un con\"</td>\n",
       "      <td>38</td>\n",
       "      <td>26</td>\n",
       "      <td>0</td>\n",
       "      <td>1028</td>\n",
       "      <td>223172</td>\n",
       "      <td>True</td>\n",
       "      <td>youtube</td>\n",
       "      <td>False</td>\n",
       "      <td>public</td>\n",
       "      <td>True</td>\n",
       "      <td>processed</td>\n",
       "      <td>38</td>\n",
       "      <td>38</td>\n",
       "    </tr>\n",
       "    <tr>\n",
       "      <th>1</th>\n",
       "      <td>U0fncx_GV9jD5SKQr15LMvwuPcs</td>\n",
       "      <td>youtube#videoListResponse</td>\n",
       "      <td>false</td>\n",
       "      <td>None</td>\n",
       "      <td>hd</td>\n",
       "      <td>2d</td>\n",
       "      <td>PT7M46S</td>\n",
       "      <td>False</td>\n",
       "      <td>rectangular</td>\n",
       "      <td>m3DnhzTEw9ABiqzBvdasfk5Av_8</td>\n",
       "      <td>we5gzZq5Avg</td>\n",
       "      <td>youtube#video</td>\n",
       "      <td>10</td>\n",
       "      <td>UCson549gpvRhPnJ3Whs5onA</td>\n",
       "      <td>LongWayToDream</td>\n",
       "      <td>None</td>\n",
       "      <td>None</td>\n",
       "      <td>Air Conditionné EP</td>\n",
       "      <td>none</td>\n",
       "      <td>Air Conditionné EP</td>\n",
       "      <td>Julian Jeweil - Air Conditionné</td>\n",
       "      <td>2012-03-17T08:34:30Z</td>\n",
       "      <td>90</td>\n",
       "      <td>https://i.ytimg.com/vi/we5gzZq5Avg/default.jpg</td>\n",
       "      <td>120</td>\n",
       "      <td>360</td>\n",
       "      <td>https://i.ytimg.com/vi/we5gzZq5Avg/hqdefault.jpg</td>\n",
       "      <td>480</td>\n",
       "      <td>720.0</td>\n",
       "      <td>https://i.ytimg.com/vi/we5gzZq5Avg/maxresdefau...</td>\n",
       "      <td>1280.0</td>\n",
       "      <td>180</td>\n",
       "      <td>https://i.ytimg.com/vi/we5gzZq5Avg/mqdefault.jpg</td>\n",
       "      <td>320</td>\n",
       "      <td>480.0</td>\n",
       "      <td>https://i.ytimg.com/vi/we5gzZq5Avg/sddefault.jpg</td>\n",
       "      <td>640.0</td>\n",
       "      <td>Julian Jeweil - Air Conditionné</td>\n",
       "      <td>2</td>\n",
       "      <td>3</td>\n",
       "      <td>0</td>\n",
       "      <td>124</td>\n",
       "      <td>13409</td>\n",
       "      <td>True</td>\n",
       "      <td>youtube</td>\n",
       "      <td>False</td>\n",
       "      <td>public</td>\n",
       "      <td>True</td>\n",
       "      <td>processed</td>\n",
       "      <td>38</td>\n",
       "      <td>38</td>\n",
       "    </tr>\n",
       "    <tr>\n",
       "      <th>2</th>\n",
       "      <td>U0fncx_GV9jD5SKQr15LMvwuPcs</td>\n",
       "      <td>youtube#videoListResponse</td>\n",
       "      <td>false</td>\n",
       "      <td>None</td>\n",
       "      <td>sd</td>\n",
       "      <td>2d</td>\n",
       "      <td>PT3M7S</td>\n",
       "      <td>False</td>\n",
       "      <td>rectangular</td>\n",
       "      <td>zyzs7STAR3NG-_pZe-0nGkbKoqg</td>\n",
       "      <td>49esza4eiK4</td>\n",
       "      <td>youtube#video</td>\n",
       "      <td>10</td>\n",
       "      <td>UCcHYZ8Ez4gG_2bHEuBL8IfQ</td>\n",
       "      <td>Downtown Records</td>\n",
       "      <td>None</td>\n",
       "      <td>None</td>\n",
       "      <td>myspace.com/etjusticepourtous\\r\\n(Downtown / E...</td>\n",
       "      <td>none</td>\n",
       "      <td>myspace.com/etjusticepourtous\\r\\n(Downtown / E...</td>\n",
       "      <td>Justice - D.A.N.C.E</td>\n",
       "      <td>2007-09-08T02:02:07Z</td>\n",
       "      <td>90</td>\n",
       "      <td>https://i.ytimg.com/vi/49esza4eiK4/default.jpg</td>\n",
       "      <td>120</td>\n",
       "      <td>360</td>\n",
       "      <td>https://i.ytimg.com/vi/49esza4eiK4/hqdefault.jpg</td>\n",
       "      <td>480</td>\n",
       "      <td>NaN</td>\n",
       "      <td>None</td>\n",
       "      <td>NaN</td>\n",
       "      <td>180</td>\n",
       "      <td>https://i.ytimg.com/vi/49esza4eiK4/mqdefault.jpg</td>\n",
       "      <td>320</td>\n",
       "      <td>NaN</td>\n",
       "      <td>None</td>\n",
       "      <td>NaN</td>\n",
       "      <td>Justice - D.A.N.C.E</td>\n",
       "      <td>3168</td>\n",
       "      <td>780</td>\n",
       "      <td>0</td>\n",
       "      <td>25540</td>\n",
       "      <td>10106655</td>\n",
       "      <td>True</td>\n",
       "      <td>youtube</td>\n",
       "      <td>False</td>\n",
       "      <td>public</td>\n",
       "      <td>True</td>\n",
       "      <td>processed</td>\n",
       "      <td>38</td>\n",
       "      <td>38</td>\n",
       "    </tr>\n",
       "    <tr>\n",
       "      <th>3</th>\n",
       "      <td>U0fncx_GV9jD5SKQr15LMvwuPcs</td>\n",
       "      <td>youtube#videoListResponse</td>\n",
       "      <td>false</td>\n",
       "      <td>None</td>\n",
       "      <td>hd</td>\n",
       "      <td>2d</td>\n",
       "      <td>PT3M43S</td>\n",
       "      <td>False</td>\n",
       "      <td>rectangular</td>\n",
       "      <td>hX2C15F6fdO5A-stUFMU5Az2PvI</td>\n",
       "      <td>BoO6LfR7ca0</td>\n",
       "      <td>youtube#video</td>\n",
       "      <td>22</td>\n",
       "      <td>UCQ0wLCF7u23gZKJkHFs1Tpg</td>\n",
       "      <td>Music Is Our Drug</td>\n",
       "      <td>None</td>\n",
       "      <td>None</td>\n",
       "      <td>♫ Music Is Our Drug - Spotify Playlist: https:...</td>\n",
       "      <td>none</td>\n",
       "      <td>♫ Music Is Our Drug - Spotify Playlist: https:...</td>\n",
       "      <td>Gramatik - Torture (feat. Eric Krasno)</td>\n",
       "      <td>2014-01-24T12:52:38Z</td>\n",
       "      <td>90</td>\n",
       "      <td>https://i.ytimg.com/vi/BoO6LfR7ca0/default.jpg</td>\n",
       "      <td>120</td>\n",
       "      <td>360</td>\n",
       "      <td>https://i.ytimg.com/vi/BoO6LfR7ca0/hqdefault.jpg</td>\n",
       "      <td>480</td>\n",
       "      <td>720.0</td>\n",
       "      <td>https://i.ytimg.com/vi/BoO6LfR7ca0/maxresdefau...</td>\n",
       "      <td>1280.0</td>\n",
       "      <td>180</td>\n",
       "      <td>https://i.ytimg.com/vi/BoO6LfR7ca0/mqdefault.jpg</td>\n",
       "      <td>320</td>\n",
       "      <td>480.0</td>\n",
       "      <td>https://i.ytimg.com/vi/BoO6LfR7ca0/sddefault.jpg</td>\n",
       "      <td>640.0</td>\n",
       "      <td>Gramatik - Torture (feat. Eric Krasno)</td>\n",
       "      <td>6</td>\n",
       "      <td>0</td>\n",
       "      <td>0</td>\n",
       "      <td>255</td>\n",
       "      <td>29153</td>\n",
       "      <td>True</td>\n",
       "      <td>youtube</td>\n",
       "      <td>False</td>\n",
       "      <td>public</td>\n",
       "      <td>True</td>\n",
       "      <td>processed</td>\n",
       "      <td>38</td>\n",
       "      <td>38</td>\n",
       "    </tr>\n",
       "    <tr>\n",
       "      <th>4</th>\n",
       "      <td>U0fncx_GV9jD5SKQr15LMvwuPcs</td>\n",
       "      <td>youtube#videoListResponse</td>\n",
       "      <td>false</td>\n",
       "      <td>None</td>\n",
       "      <td>hd</td>\n",
       "      <td>2d</td>\n",
       "      <td>PT5M</td>\n",
       "      <td>False</td>\n",
       "      <td>rectangular</td>\n",
       "      <td>rYHoV38PLpMbRuX_zhGTVBKNotw</td>\n",
       "      <td>DaH4W1rY9us</td>\n",
       "      <td>youtube#video</td>\n",
       "      <td>10</td>\n",
       "      <td>UCJsTMPZxYD-Q3kEmL4Qijpg</td>\n",
       "      <td>Harvey Pearson</td>\n",
       "      <td>None</td>\n",
       "      <td>None</td>\n",
       "      <td>Buy The Burgh Island EP now:\\nhttps://itunes.a...</td>\n",
       "      <td>none</td>\n",
       "      <td>Buy The Burgh Island EP now:\\nhttps://itunes.a...</td>\n",
       "      <td>Ben Howard - Oats In The Water</td>\n",
       "      <td>2012-12-02T12:41:13Z</td>\n",
       "      <td>90</td>\n",
       "      <td>https://i.ytimg.com/vi/DaH4W1rY9us/default.jpg</td>\n",
       "      <td>120</td>\n",
       "      <td>360</td>\n",
       "      <td>https://i.ytimg.com/vi/DaH4W1rY9us/hqdefault.jpg</td>\n",
       "      <td>480</td>\n",
       "      <td>720.0</td>\n",
       "      <td>https://i.ytimg.com/vi/DaH4W1rY9us/maxresdefau...</td>\n",
       "      <td>1280.0</td>\n",
       "      <td>180</td>\n",
       "      <td>https://i.ytimg.com/vi/DaH4W1rY9us/mqdefault.jpg</td>\n",
       "      <td>320</td>\n",
       "      <td>480.0</td>\n",
       "      <td>https://i.ytimg.com/vi/DaH4W1rY9us/sddefault.jpg</td>\n",
       "      <td>640.0</td>\n",
       "      <td>Ben Howard - Oats In The Water</td>\n",
       "      <td>5303</td>\n",
       "      <td>1784</td>\n",
       "      <td>0</td>\n",
       "      <td>136033</td>\n",
       "      <td>16488714</td>\n",
       "      <td>True</td>\n",
       "      <td>youtube</td>\n",
       "      <td>False</td>\n",
       "      <td>public</td>\n",
       "      <td>True</td>\n",
       "      <td>processed</td>\n",
       "      <td>38</td>\n",
       "      <td>38</td>\n",
       "    </tr>\n",
       "  </tbody>\n",
       "</table>\n",
       "</div>"
      ]
     },
     "metadata": {
      "application/vnd.databricks.v1+output": {
       "addedWidgets": {},
       "arguments": {},
       "data": "<div>\n<style scoped>\n    .dataframe tbody tr th:only-of-type {\n        vertical-align: middle;\n    }\n\n    .dataframe tbody tr th {\n        vertical-align: top;\n    }\n\n    .dataframe thead th {\n        text-align: right;\n    }\n</style>\n<table border=\"1\" class=\"dataframe\">\n  <thead>\n    <tr style=\"text-align: right;\">\n      <th></th>\n      <th>etag</th>\n      <th>kind</th>\n      <th>items.contentDetails.caption</th>\n      <th>items.contentDetails.contentRating.ytRating</th>\n      <th>items.contentDetails.definition</th>\n      <th>items.contentDetails.dimension</th>\n      <th>items.contentDetails.duration</th>\n      <th>items.contentDetails.licensedContent</th>\n      <th>items.contentDetails.projection</th>\n      <th>items.etag</th>\n      <th>items.id</th>\n      <th>items.kind</th>\n      <th>items.snippet.categoryId</th>\n      <th>items.snippet.channelId</th>\n      <th>items.snippet.channelTitle</th>\n      <th>items.snippet.defaultAudioLanguage</th>\n      <th>items.snippet.defaultLanguage</th>\n      <th>items.snippet.description</th>\n      <th>items.snippet.liveBroadcastContent</th>\n      <th>items.snippet.localized.description</th>\n      <th>items.snippet.localized.title</th>\n      <th>items.snippet.publishedAt</th>\n      <th>items.snippet.thumbnails.default.height</th>\n      <th>items.snippet.thumbnails.default.url</th>\n      <th>items.snippet.thumbnails.default.width</th>\n      <th>items.snippet.thumbnails.high.height</th>\n      <th>items.snippet.thumbnails.high.url</th>\n      <th>items.snippet.thumbnails.high.width</th>\n      <th>items.snippet.thumbnails.maxres.height</th>\n      <th>items.snippet.thumbnails.maxres.url</th>\n      <th>items.snippet.thumbnails.maxres.width</th>\n      <th>items.snippet.thumbnails.medium.height</th>\n      <th>items.snippet.thumbnails.medium.url</th>\n      <th>items.snippet.thumbnails.medium.width</th>\n      <th>items.snippet.thumbnails.standard.height</th>\n      <th>items.snippet.thumbnails.standard.url</th>\n      <th>items.snippet.thumbnails.standard.width</th>\n      <th>items.snippet.title</th>\n      <th>items.statistics.commentCount</th>\n      <th>items.statistics.dislikeCount</th>\n      <th>items.statistics.favoriteCount</th>\n      <th>items.statistics.likeCount</th>\n      <th>items.statistics.viewCount</th>\n      <th>items.status.embeddable</th>\n      <th>items.status.license</th>\n      <th>items.status.madeForKids</th>\n      <th>items.status.privacyStatus</th>\n      <th>items.status.publicStatsViewable</th>\n      <th>items.status.uploadStatus</th>\n      <th>pageInfo.resultsPerPage</th>\n      <th>pageInfo.totalResults</th>\n    </tr>\n  </thead>\n  <tbody>\n    <tr>\n      <th>0</th>\n      <td>U0fncx_GV9jD5SKQr15LMvwuPcs</td>\n      <td>youtube#videoListResponse</td>\n      <td>false</td>\n      <td>None</td>\n      <td>sd</td>\n      <td>2d</td>\n      <td>PT3M33S</td>\n      <td>True</td>\n      <td>rectangular</td>\n      <td>SqP7uUVSol30dxvuScN6JUny6T4</td>\n      <td>t1l8Z6gLPzo</td>\n      <td>youtube#video</td>\n      <td>10</td>\n      <td>UCUERSOitwgUq_37kGslN96w</td>\n      <td>VOLO</td>\n      <td>None</td>\n      <td>None</td>\n      <td>Enregistré et mixé par Cyrille PELTIER au \"Kee...</td>\n      <td>none</td>\n      <td>Enregistré et mixé par Cyrille PELTIER au \"Kee...</td>\n      <td>VOLO. \"L'air d'un con\"</td>\n      <td>2013-07-22T12:09:11Z</td>\n      <td>90</td>\n      <td>https://i.ytimg.com/vi/t1l8Z6gLPzo/default.jpg</td>\n      <td>120</td>\n      <td>360</td>\n      <td>https://i.ytimg.com/vi/t1l8Z6gLPzo/hqdefault.jpg</td>\n      <td>480</td>\n      <td>NaN</td>\n      <td>None</td>\n      <td>NaN</td>\n      <td>180</td>\n      <td>https://i.ytimg.com/vi/t1l8Z6gLPzo/mqdefault.jpg</td>\n      <td>320</td>\n      <td>480.0</td>\n      <td>https://i.ytimg.com/vi/t1l8Z6gLPzo/sddefault.jpg</td>\n      <td>640.0</td>\n      <td>VOLO. \"L'air d'un con\"</td>\n      <td>38</td>\n      <td>26</td>\n      <td>0</td>\n      <td>1028</td>\n      <td>223172</td>\n      <td>True</td>\n      <td>youtube</td>\n      <td>False</td>\n      <td>public</td>\n      <td>True</td>\n      <td>processed</td>\n      <td>38</td>\n      <td>38</td>\n    </tr>\n    <tr>\n      <th>1</th>\n      <td>U0fncx_GV9jD5SKQr15LMvwuPcs</td>\n      <td>youtube#videoListResponse</td>\n      <td>false</td>\n      <td>None</td>\n      <td>hd</td>\n      <td>2d</td>\n      <td>PT7M46S</td>\n      <td>False</td>\n      <td>rectangular</td>\n      <td>m3DnhzTEw9ABiqzBvdasfk5Av_8</td>\n      <td>we5gzZq5Avg</td>\n      <td>youtube#video</td>\n      <td>10</td>\n      <td>UCson549gpvRhPnJ3Whs5onA</td>\n      <td>LongWayToDream</td>\n      <td>None</td>\n      <td>None</td>\n      <td>Air Conditionné EP</td>\n      <td>none</td>\n      <td>Air Conditionné EP</td>\n      <td>Julian Jeweil - Air Conditionné</td>\n      <td>2012-03-17T08:34:30Z</td>\n      <td>90</td>\n      <td>https://i.ytimg.com/vi/we5gzZq5Avg/default.jpg</td>\n      <td>120</td>\n      <td>360</td>\n      <td>https://i.ytimg.com/vi/we5gzZq5Avg/hqdefault.jpg</td>\n      <td>480</td>\n      <td>720.0</td>\n      <td>https://i.ytimg.com/vi/we5gzZq5Avg/maxresdefau...</td>\n      <td>1280.0</td>\n      <td>180</td>\n      <td>https://i.ytimg.com/vi/we5gzZq5Avg/mqdefault.jpg</td>\n      <td>320</td>\n      <td>480.0</td>\n      <td>https://i.ytimg.com/vi/we5gzZq5Avg/sddefault.jpg</td>\n      <td>640.0</td>\n      <td>Julian Jeweil - Air Conditionné</td>\n      <td>2</td>\n      <td>3</td>\n      <td>0</td>\n      <td>124</td>\n      <td>13409</td>\n      <td>True</td>\n      <td>youtube</td>\n      <td>False</td>\n      <td>public</td>\n      <td>True</td>\n      <td>processed</td>\n      <td>38</td>\n      <td>38</td>\n    </tr>\n    <tr>\n      <th>2</th>\n      <td>U0fncx_GV9jD5SKQr15LMvwuPcs</td>\n      <td>youtube#videoListResponse</td>\n      <td>false</td>\n      <td>None</td>\n      <td>sd</td>\n      <td>2d</td>\n      <td>PT3M7S</td>\n      <td>False</td>\n      <td>rectangular</td>\n      <td>zyzs7STAR3NG-_pZe-0nGkbKoqg</td>\n      <td>49esza4eiK4</td>\n      <td>youtube#video</td>\n      <td>10</td>\n      <td>UCcHYZ8Ez4gG_2bHEuBL8IfQ</td>\n      <td>Downtown Records</td>\n      <td>None</td>\n      <td>None</td>\n      <td>myspace.com/etjusticepourtous\\r\\n(Downtown / E...</td>\n      <td>none</td>\n      <td>myspace.com/etjusticepourtous\\r\\n(Downtown / E...</td>\n      <td>Justice - D.A.N.C.E</td>\n      <td>2007-09-08T02:02:07Z</td>\n      <td>90</td>\n      <td>https://i.ytimg.com/vi/49esza4eiK4/default.jpg</td>\n      <td>120</td>\n      <td>360</td>\n      <td>https://i.ytimg.com/vi/49esza4eiK4/hqdefault.jpg</td>\n      <td>480</td>\n      <td>NaN</td>\n      <td>None</td>\n      <td>NaN</td>\n      <td>180</td>\n      <td>https://i.ytimg.com/vi/49esza4eiK4/mqdefault.jpg</td>\n      <td>320</td>\n      <td>NaN</td>\n      <td>None</td>\n      <td>NaN</td>\n      <td>Justice - D.A.N.C.E</td>\n      <td>3168</td>\n      <td>780</td>\n      <td>0</td>\n      <td>25540</td>\n      <td>10106655</td>\n      <td>True</td>\n      <td>youtube</td>\n      <td>False</td>\n      <td>public</td>\n      <td>True</td>\n      <td>processed</td>\n      <td>38</td>\n      <td>38</td>\n    </tr>\n    <tr>\n      <th>3</th>\n      <td>U0fncx_GV9jD5SKQr15LMvwuPcs</td>\n      <td>youtube#videoListResponse</td>\n      <td>false</td>\n      <td>None</td>\n      <td>hd</td>\n      <td>2d</td>\n      <td>PT3M43S</td>\n      <td>False</td>\n      <td>rectangular</td>\n      <td>hX2C15F6fdO5A-stUFMU5Az2PvI</td>\n      <td>BoO6LfR7ca0</td>\n      <td>youtube#video</td>\n      <td>22</td>\n      <td>UCQ0wLCF7u23gZKJkHFs1Tpg</td>\n      <td>Music Is Our Drug</td>\n      <td>None</td>\n      <td>None</td>\n      <td>♫ Music Is Our Drug - Spotify Playlist: https:...</td>\n      <td>none</td>\n      <td>♫ Music Is Our Drug - Spotify Playlist: https:...</td>\n      <td>Gramatik - Torture (feat. Eric Krasno)</td>\n      <td>2014-01-24T12:52:38Z</td>\n      <td>90</td>\n      <td>https://i.ytimg.com/vi/BoO6LfR7ca0/default.jpg</td>\n      <td>120</td>\n      <td>360</td>\n      <td>https://i.ytimg.com/vi/BoO6LfR7ca0/hqdefault.jpg</td>\n      <td>480</td>\n      <td>720.0</td>\n      <td>https://i.ytimg.com/vi/BoO6LfR7ca0/maxresdefau...</td>\n      <td>1280.0</td>\n      <td>180</td>\n      <td>https://i.ytimg.com/vi/BoO6LfR7ca0/mqdefault.jpg</td>\n      <td>320</td>\n      <td>480.0</td>\n      <td>https://i.ytimg.com/vi/BoO6LfR7ca0/sddefault.jpg</td>\n      <td>640.0</td>\n      <td>Gramatik - Torture (feat. Eric Krasno)</td>\n      <td>6</td>\n      <td>0</td>\n      <td>0</td>\n      <td>255</td>\n      <td>29153</td>\n      <td>True</td>\n      <td>youtube</td>\n      <td>False</td>\n      <td>public</td>\n      <td>True</td>\n      <td>processed</td>\n      <td>38</td>\n      <td>38</td>\n    </tr>\n    <tr>\n      <th>4</th>\n      <td>U0fncx_GV9jD5SKQr15LMvwuPcs</td>\n      <td>youtube#videoListResponse</td>\n      <td>false</td>\n      <td>None</td>\n      <td>hd</td>\n      <td>2d</td>\n      <td>PT5M</td>\n      <td>False</td>\n      <td>rectangular</td>\n      <td>rYHoV38PLpMbRuX_zhGTVBKNotw</td>\n      <td>DaH4W1rY9us</td>\n      <td>youtube#video</td>\n      <td>10</td>\n      <td>UCJsTMPZxYD-Q3kEmL4Qijpg</td>\n      <td>Harvey Pearson</td>\n      <td>None</td>\n      <td>None</td>\n      <td>Buy The Burgh Island EP now:\\nhttps://itunes.a...</td>\n      <td>none</td>\n      <td>Buy The Burgh Island EP now:\\nhttps://itunes.a...</td>\n      <td>Ben Howard - Oats In The Water</td>\n      <td>2012-12-02T12:41:13Z</td>\n      <td>90</td>\n      <td>https://i.ytimg.com/vi/DaH4W1rY9us/default.jpg</td>\n      <td>120</td>\n      <td>360</td>\n      <td>https://i.ytimg.com/vi/DaH4W1rY9us/hqdefault.jpg</td>\n      <td>480</td>\n      <td>720.0</td>\n      <td>https://i.ytimg.com/vi/DaH4W1rY9us/maxresdefau...</td>\n      <td>1280.0</td>\n      <td>180</td>\n      <td>https://i.ytimg.com/vi/DaH4W1rY9us/mqdefault.jpg</td>\n      <td>320</td>\n      <td>480.0</td>\n      <td>https://i.ytimg.com/vi/DaH4W1rY9us/sddefault.jpg</td>\n      <td>640.0</td>\n      <td>Ben Howard - Oats In The Water</td>\n      <td>5303</td>\n      <td>1784</td>\n      <td>0</td>\n      <td>136033</td>\n      <td>16488714</td>\n      <td>True</td>\n      <td>youtube</td>\n      <td>False</td>\n      <td>public</td>\n      <td>True</td>\n      <td>processed</td>\n      <td>38</td>\n      <td>38</td>\n    </tr>\n  </tbody>\n</table>\n</div>",
       "datasetInfos": [],
       "removedWidgets": [],
       "textData": "<div class=\"ansiout\">Out[10]: </div>",
       "type": "htmlSandbox"
      }
     },
     "output_type": "display_data"
    }
   ],
   "source": [
    "# TODO: display the first 5 rows of df\n",
    "### BEGIN STRIP ###\n",
    "df.toPandas().head(5)\n",
    "### END STRIP ###"
   ]
  },
  {
   "cell_type": "code",
   "execution_count": null,
   "metadata": {
    "application/vnd.databricks.v1+cell": {
     "inputWidgets": {},
     "nuid": "65ded255-a510-4a9a-9074-8c7a3b30a103",
     "showTitle": false,
     "title": ""
    }
   },
   "outputs": [
    {
     "data": {
      "text/html": [
       "<div>\n",
       "<style scoped>\n",
       "    .dataframe tbody tr th:only-of-type {\n",
       "        vertical-align: middle;\n",
       "    }\n",
       "\n",
       "    .dataframe tbody tr th {\n",
       "        vertical-align: top;\n",
       "    }\n",
       "\n",
       "    .dataframe thead th {\n",
       "        text-align: right;\n",
       "    }\n",
       "</style>\n",
       "<table border=\"1\" class=\"dataframe\">\n",
       "  <thead>\n",
       "    <tr style=\"text-align: right;\">\n",
       "      <th></th>\n",
       "      <th>summary</th>\n",
       "      <th>etag</th>\n",
       "      <th>kind</th>\n",
       "      <th>items.contentDetails.caption</th>\n",
       "      <th>items.contentDetails.contentRating.ytRating</th>\n",
       "      <th>items.contentDetails.definition</th>\n",
       "      <th>items.contentDetails.dimension</th>\n",
       "      <th>items.contentDetails.duration</th>\n",
       "      <th>items.contentDetails.projection</th>\n",
       "      <th>items.etag</th>\n",
       "      <th>items.id</th>\n",
       "      <th>items.kind</th>\n",
       "      <th>items.snippet.categoryId</th>\n",
       "      <th>items.snippet.channelId</th>\n",
       "      <th>items.snippet.channelTitle</th>\n",
       "      <th>items.snippet.defaultAudioLanguage</th>\n",
       "      <th>items.snippet.defaultLanguage</th>\n",
       "      <th>items.snippet.description</th>\n",
       "      <th>items.snippet.liveBroadcastContent</th>\n",
       "      <th>items.snippet.localized.description</th>\n",
       "      <th>items.snippet.localized.title</th>\n",
       "      <th>items.snippet.publishedAt</th>\n",
       "      <th>items.snippet.thumbnails.default.height</th>\n",
       "      <th>items.snippet.thumbnails.default.url</th>\n",
       "      <th>items.snippet.thumbnails.default.width</th>\n",
       "      <th>items.snippet.thumbnails.high.height</th>\n",
       "      <th>items.snippet.thumbnails.high.url</th>\n",
       "      <th>items.snippet.thumbnails.high.width</th>\n",
       "      <th>items.snippet.thumbnails.maxres.height</th>\n",
       "      <th>items.snippet.thumbnails.maxres.url</th>\n",
       "      <th>items.snippet.thumbnails.maxres.width</th>\n",
       "      <th>items.snippet.thumbnails.medium.height</th>\n",
       "      <th>items.snippet.thumbnails.medium.url</th>\n",
       "      <th>items.snippet.thumbnails.medium.width</th>\n",
       "      <th>items.snippet.thumbnails.standard.height</th>\n",
       "      <th>items.snippet.thumbnails.standard.url</th>\n",
       "      <th>items.snippet.thumbnails.standard.width</th>\n",
       "      <th>items.snippet.title</th>\n",
       "      <th>items.statistics.commentCount</th>\n",
       "      <th>items.statistics.dislikeCount</th>\n",
       "      <th>items.statistics.favoriteCount</th>\n",
       "      <th>items.statistics.likeCount</th>\n",
       "      <th>items.statistics.viewCount</th>\n",
       "      <th>items.status.license</th>\n",
       "      <th>items.status.privacyStatus</th>\n",
       "      <th>items.status.uploadStatus</th>\n",
       "      <th>pageInfo.resultsPerPage</th>\n",
       "      <th>pageInfo.totalResults</th>\n",
       "    </tr>\n",
       "  </thead>\n",
       "  <tbody>\n",
       "    <tr>\n",
       "      <th>0</th>\n",
       "      <td>count</td>\n",
       "      <td>3907</td>\n",
       "      <td>3907</td>\n",
       "      <td>3907</td>\n",
       "      <td>27</td>\n",
       "      <td>3907</td>\n",
       "      <td>3907</td>\n",
       "      <td>3907</td>\n",
       "      <td>3907</td>\n",
       "      <td>3907</td>\n",
       "      <td>3907</td>\n",
       "      <td>3907</td>\n",
       "      <td>3907</td>\n",
       "      <td>3907</td>\n",
       "      <td>3907</td>\n",
       "      <td>276</td>\n",
       "      <td>10</td>\n",
       "      <td>3907</td>\n",
       "      <td>3907</td>\n",
       "      <td>3907</td>\n",
       "      <td>3907</td>\n",
       "      <td>3907</td>\n",
       "      <td>3907</td>\n",
       "      <td>3907</td>\n",
       "      <td>3907</td>\n",
       "      <td>3907</td>\n",
       "      <td>3907</td>\n",
       "      <td>3907</td>\n",
       "      <td>1963</td>\n",
       "      <td>1963</td>\n",
       "      <td>1963</td>\n",
       "      <td>3907</td>\n",
       "      <td>3907</td>\n",
       "      <td>3907</td>\n",
       "      <td>2730</td>\n",
       "      <td>2730</td>\n",
       "      <td>2730</td>\n",
       "      <td>3907</td>\n",
       "      <td>3880</td>\n",
       "      <td>3893</td>\n",
       "      <td>3907</td>\n",
       "      <td>3893</td>\n",
       "      <td>3907</td>\n",
       "      <td>3907</td>\n",
       "      <td>3907</td>\n",
       "      <td>3907</td>\n",
       "      <td>3907</td>\n",
       "      <td>3907</td>\n",
       "    </tr>\n",
       "    <tr>\n",
       "      <th>1</th>\n",
       "      <td>mean</td>\n",
       "      <td>None</td>\n",
       "      <td>None</td>\n",
       "      <td>None</td>\n",
       "      <td>None</td>\n",
       "      <td>None</td>\n",
       "      <td>2.0</td>\n",
       "      <td>None</td>\n",
       "      <td>None</td>\n",
       "      <td>None</td>\n",
       "      <td>None</td>\n",
       "      <td>None</td>\n",
       "      <td>11.134118249296135</td>\n",
       "      <td>None</td>\n",
       "      <td>7.296272962E9</td>\n",
       "      <td>None</td>\n",
       "      <td>None</td>\n",
       "      <td>1982.0</td>\n",
       "      <td>None</td>\n",
       "      <td>1982.0</td>\n",
       "      <td>None</td>\n",
       "      <td>None</td>\n",
       "      <td>90.0</td>\n",
       "      <td>None</td>\n",
       "      <td>120.0</td>\n",
       "      <td>360.0</td>\n",
       "      <td>None</td>\n",
       "      <td>480.0</td>\n",
       "      <td>720.0</td>\n",
       "      <td>None</td>\n",
       "      <td>1280.0</td>\n",
       "      <td>180.0</td>\n",
       "      <td>None</td>\n",
       "      <td>320.0</td>\n",
       "      <td>480.0</td>\n",
       "      <td>None</td>\n",
       "      <td>640.0</td>\n",
       "      <td>None</td>\n",
       "      <td>6134.878865979382</td>\n",
       "      <td>4669.332391471872</td>\n",
       "      <td>0.0</td>\n",
       "      <td>117062.20524017468</td>\n",
       "      <td>2.0763860959815715E7</td>\n",
       "      <td>None</td>\n",
       "      <td>None</td>\n",
       "      <td>None</td>\n",
       "      <td>39.327617097517276</td>\n",
       "      <td>39.327617097517276</td>\n",
       "    </tr>\n",
       "    <tr>\n",
       "      <th>2</th>\n",
       "      <td>stddev</td>\n",
       "      <td>None</td>\n",
       "      <td>None</td>\n",
       "      <td>None</td>\n",
       "      <td>None</td>\n",
       "      <td>None</td>\n",
       "      <td>0.0</td>\n",
       "      <td>None</td>\n",
       "      <td>None</td>\n",
       "      <td>None</td>\n",
       "      <td>None</td>\n",
       "      <td>None</td>\n",
       "      <td>4.022457504074627</td>\n",
       "      <td>None</td>\n",
       "      <td>0.0</td>\n",
       "      <td>None</td>\n",
       "      <td>None</td>\n",
       "      <td>14.730919862656235</td>\n",
       "      <td>None</td>\n",
       "      <td>14.730919862656235</td>\n",
       "      <td>None</td>\n",
       "      <td>None</td>\n",
       "      <td>0.0</td>\n",
       "      <td>None</td>\n",
       "      <td>0.0</td>\n",
       "      <td>0.0</td>\n",
       "      <td>None</td>\n",
       "      <td>0.0</td>\n",
       "      <td>0.0</td>\n",
       "      <td>None</td>\n",
       "      <td>0.0</td>\n",
       "      <td>0.0</td>\n",
       "      <td>None</td>\n",
       "      <td>0.0</td>\n",
       "      <td>0.0</td>\n",
       "      <td>None</td>\n",
       "      <td>0.0</td>\n",
       "      <td>None</td>\n",
       "      <td>38535.66393506117</td>\n",
       "      <td>34768.35562984628</td>\n",
       "      <td>0.0</td>\n",
       "      <td>648689.5270756684</td>\n",
       "      <td>1.2295665130505532E8</td>\n",
       "      <td>None</td>\n",
       "      <td>None</td>\n",
       "      <td>None</td>\n",
       "      <td>3.125824012821922</td>\n",
       "      <td>3.125824012821922</td>\n",
       "    </tr>\n",
       "    <tr>\n",
       "      <th>3</th>\n",
       "      <td>min</td>\n",
       "      <td>-wYcqHxxpbDl3rkojFGyVePuYhw</td>\n",
       "      <td>youtube#videoListResponse</td>\n",
       "      <td>false</td>\n",
       "      <td>ytAgeRestricted</td>\n",
       "      <td>hd</td>\n",
       "      <td>2d</td>\n",
       "      <td>PT10M</td>\n",
       "      <td>rectangular</td>\n",
       "      <td>--Ziwh4kQKLl92uSDbkiTfCENfI</td>\n",
       "      <td>--RRkree8kM</td>\n",
       "      <td>youtube#video</td>\n",
       "      <td>1</td>\n",
       "      <td>UC--yIemFNSgwQ0JxyYsABAQ</td>\n",
       "      <td>!!! (Chk Chk Chk)</td>\n",
       "      <td>ar</td>\n",
       "      <td>en</td>\n",
       "      <td></td>\n",
       "      <td>none</td>\n",
       "      <td></td>\n",
       "      <td>!!! - One Girl/One Boy</td>\n",
       "      <td>2005-11-02T22:02:48Z</td>\n",
       "      <td>90</td>\n",
       "      <td>https://i.ytimg.com/vi/--RRkree8kM/default.jpg</td>\n",
       "      <td>120</td>\n",
       "      <td>360</td>\n",
       "      <td>https://i.ytimg.com/vi/--RRkree8kM/hqdefault.jpg</td>\n",
       "      <td>480</td>\n",
       "      <td>720</td>\n",
       "      <td>https://i.ytimg.com/vi/--RRkree8kM/maxresdefau...</td>\n",
       "      <td>1280</td>\n",
       "      <td>180</td>\n",
       "      <td>https://i.ytimg.com/vi/--RRkree8kM/mqdefault.jpg</td>\n",
       "      <td>320</td>\n",
       "      <td>480</td>\n",
       "      <td>https://i.ytimg.com/vi/--RRkree8kM/sddefault.jpg</td>\n",
       "      <td>640</td>\n",
       "      <td>!!! - One Girl/One Boy</td>\n",
       "      <td>0</td>\n",
       "      <td>0</td>\n",
       "      <td>0</td>\n",
       "      <td>0</td>\n",
       "      <td>100011</td>\n",
       "      <td>creativeCommon</td>\n",
       "      <td>public</td>\n",
       "      <td>processed</td>\n",
       "      <td>31</td>\n",
       "      <td>31</td>\n",
       "    </tr>\n",
       "    <tr>\n",
       "      <th>4</th>\n",
       "      <td>max</td>\n",
       "      <td>yUNbDErOOYnJJqhQSk2NAEYk4MY</td>\n",
       "      <td>youtube#videoListResponse</td>\n",
       "      <td>true</td>\n",
       "      <td>ytAgeRestricted</td>\n",
       "      <td>sd</td>\n",
       "      <td>2d</td>\n",
       "      <td>PT9M7S</td>\n",
       "      <td>rectangular</td>\n",
       "      <td>zzz4gKlE3f6QaY5wxNh8wj_jNRA</td>\n",
       "      <td>zzrNI66FUWE</td>\n",
       "      <td>youtube#video</td>\n",
       "      <td>29</td>\n",
       "      <td>UCzz_ERveHOdZve_Qsthwhnw</td>\n",
       "      <td>さむい者おげし</td>\n",
       "      <td>tr</td>\n",
       "      <td>iw</td>\n",
       "      <td>🎶 Spotify Playlist http://spoti.fi/1Vr9N0E\\n📱 ...</td>\n",
       "      <td>none</td>\n",
       "      <td>🎶 Spotify Playlist http://spoti.fi/1Vr9N0E\\n📱 ...</td>\n",
       "      <td>📺 Danakil - Le rêve [Official Video]</td>\n",
       "      <td>2019-11-04T14:55:48Z</td>\n",
       "      <td>90</td>\n",
       "      <td>https://i.ytimg.com/vi/zzrNI66FUWE/default.jpg</td>\n",
       "      <td>120</td>\n",
       "      <td>360</td>\n",
       "      <td>https://i.ytimg.com/vi/zzrNI66FUWE/hqdefault.jpg</td>\n",
       "      <td>480</td>\n",
       "      <td>720</td>\n",
       "      <td>https://i.ytimg.com/vi/zzrNI66FUWE/maxresdefau...</td>\n",
       "      <td>1280</td>\n",
       "      <td>180</td>\n",
       "      <td>https://i.ytimg.com/vi/zzrNI66FUWE/mqdefault.jpg</td>\n",
       "      <td>320</td>\n",
       "      <td>480</td>\n",
       "      <td>https://i.ytimg.com/vi/zzrNI66FUWE/sddefault.jpg</td>\n",
       "      <td>640</td>\n",
       "      <td>📺 Danakil - Le rêve [Official Video]</td>\n",
       "      <td>9995</td>\n",
       "      <td>9970</td>\n",
       "      <td>0</td>\n",
       "      <td>99930</td>\n",
       "      <td>9998165</td>\n",
       "      <td>youtube</td>\n",
       "      <td>unlisted</td>\n",
       "      <td>processed</td>\n",
       "      <td>45</td>\n",
       "      <td>45</td>\n",
       "    </tr>\n",
       "  </tbody>\n",
       "</table>\n",
       "</div>"
      ]
     },
     "metadata": {
      "application/vnd.databricks.v1+output": {
       "addedWidgets": {},
       "arguments": {},
       "data": "<div>\n<style scoped>\n    .dataframe tbody tr th:only-of-type {\n        vertical-align: middle;\n    }\n\n    .dataframe tbody tr th {\n        vertical-align: top;\n    }\n\n    .dataframe thead th {\n        text-align: right;\n    }\n</style>\n<table border=\"1\" class=\"dataframe\">\n  <thead>\n    <tr style=\"text-align: right;\">\n      <th></th>\n      <th>summary</th>\n      <th>etag</th>\n      <th>kind</th>\n      <th>items.contentDetails.caption</th>\n      <th>items.contentDetails.contentRating.ytRating</th>\n      <th>items.contentDetails.definition</th>\n      <th>items.contentDetails.dimension</th>\n      <th>items.contentDetails.duration</th>\n      <th>items.contentDetails.projection</th>\n      <th>items.etag</th>\n      <th>items.id</th>\n      <th>items.kind</th>\n      <th>items.snippet.categoryId</th>\n      <th>items.snippet.channelId</th>\n      <th>items.snippet.channelTitle</th>\n      <th>items.snippet.defaultAudioLanguage</th>\n      <th>items.snippet.defaultLanguage</th>\n      <th>items.snippet.description</th>\n      <th>items.snippet.liveBroadcastContent</th>\n      <th>items.snippet.localized.description</th>\n      <th>items.snippet.localized.title</th>\n      <th>items.snippet.publishedAt</th>\n      <th>items.snippet.thumbnails.default.height</th>\n      <th>items.snippet.thumbnails.default.url</th>\n      <th>items.snippet.thumbnails.default.width</th>\n      <th>items.snippet.thumbnails.high.height</th>\n      <th>items.snippet.thumbnails.high.url</th>\n      <th>items.snippet.thumbnails.high.width</th>\n      <th>items.snippet.thumbnails.maxres.height</th>\n      <th>items.snippet.thumbnails.maxres.url</th>\n      <th>items.snippet.thumbnails.maxres.width</th>\n      <th>items.snippet.thumbnails.medium.height</th>\n      <th>items.snippet.thumbnails.medium.url</th>\n      <th>items.snippet.thumbnails.medium.width</th>\n      <th>items.snippet.thumbnails.standard.height</th>\n      <th>items.snippet.thumbnails.standard.url</th>\n      <th>items.snippet.thumbnails.standard.width</th>\n      <th>items.snippet.title</th>\n      <th>items.statistics.commentCount</th>\n      <th>items.statistics.dislikeCount</th>\n      <th>items.statistics.favoriteCount</th>\n      <th>items.statistics.likeCount</th>\n      <th>items.statistics.viewCount</th>\n      <th>items.status.license</th>\n      <th>items.status.privacyStatus</th>\n      <th>items.status.uploadStatus</th>\n      <th>pageInfo.resultsPerPage</th>\n      <th>pageInfo.totalResults</th>\n    </tr>\n  </thead>\n  <tbody>\n    <tr>\n      <th>0</th>\n      <td>count</td>\n      <td>3907</td>\n      <td>3907</td>\n      <td>3907</td>\n      <td>27</td>\n      <td>3907</td>\n      <td>3907</td>\n      <td>3907</td>\n      <td>3907</td>\n      <td>3907</td>\n      <td>3907</td>\n      <td>3907</td>\n      <td>3907</td>\n      <td>3907</td>\n      <td>3907</td>\n      <td>276</td>\n      <td>10</td>\n      <td>3907</td>\n      <td>3907</td>\n      <td>3907</td>\n      <td>3907</td>\n      <td>3907</td>\n      <td>3907</td>\n      <td>3907</td>\n      <td>3907</td>\n      <td>3907</td>\n      <td>3907</td>\n      <td>3907</td>\n      <td>1963</td>\n      <td>1963</td>\n      <td>1963</td>\n      <td>3907</td>\n      <td>3907</td>\n      <td>3907</td>\n      <td>2730</td>\n      <td>2730</td>\n      <td>2730</td>\n      <td>3907</td>\n      <td>3880</td>\n      <td>3893</td>\n      <td>3907</td>\n      <td>3893</td>\n      <td>3907</td>\n      <td>3907</td>\n      <td>3907</td>\n      <td>3907</td>\n      <td>3907</td>\n      <td>3907</td>\n    </tr>\n    <tr>\n      <th>1</th>\n      <td>mean</td>\n      <td>None</td>\n      <td>None</td>\n      <td>None</td>\n      <td>None</td>\n      <td>None</td>\n      <td>2.0</td>\n      <td>None</td>\n      <td>None</td>\n      <td>None</td>\n      <td>None</td>\n      <td>None</td>\n      <td>11.134118249296135</td>\n      <td>None</td>\n      <td>7.296272962E9</td>\n      <td>None</td>\n      <td>None</td>\n      <td>1982.0</td>\n      <td>None</td>\n      <td>1982.0</td>\n      <td>None</td>\n      <td>None</td>\n      <td>90.0</td>\n      <td>None</td>\n      <td>120.0</td>\n      <td>360.0</td>\n      <td>None</td>\n      <td>480.0</td>\n      <td>720.0</td>\n      <td>None</td>\n      <td>1280.0</td>\n      <td>180.0</td>\n      <td>None</td>\n      <td>320.0</td>\n      <td>480.0</td>\n      <td>None</td>\n      <td>640.0</td>\n      <td>None</td>\n      <td>6134.878865979382</td>\n      <td>4669.332391471872</td>\n      <td>0.0</td>\n      <td>117062.20524017468</td>\n      <td>2.0763860959815715E7</td>\n      <td>None</td>\n      <td>None</td>\n      <td>None</td>\n      <td>39.327617097517276</td>\n      <td>39.327617097517276</td>\n    </tr>\n    <tr>\n      <th>2</th>\n      <td>stddev</td>\n      <td>None</td>\n      <td>None</td>\n      <td>None</td>\n      <td>None</td>\n      <td>None</td>\n      <td>0.0</td>\n      <td>None</td>\n      <td>None</td>\n      <td>None</td>\n      <td>None</td>\n      <td>None</td>\n      <td>4.022457504074627</td>\n      <td>None</td>\n      <td>0.0</td>\n      <td>None</td>\n      <td>None</td>\n      <td>14.730919862656235</td>\n      <td>None</td>\n      <td>14.730919862656235</td>\n      <td>None</td>\n      <td>None</td>\n      <td>0.0</td>\n      <td>None</td>\n      <td>0.0</td>\n      <td>0.0</td>\n      <td>None</td>\n      <td>0.0</td>\n      <td>0.0</td>\n      <td>None</td>\n      <td>0.0</td>\n      <td>0.0</td>\n      <td>None</td>\n      <td>0.0</td>\n      <td>0.0</td>\n      <td>None</td>\n      <td>0.0</td>\n      <td>None</td>\n      <td>38535.66393506117</td>\n      <td>34768.35562984628</td>\n      <td>0.0</td>\n      <td>648689.5270756684</td>\n      <td>1.2295665130505532E8</td>\n      <td>None</td>\n      <td>None</td>\n      <td>None</td>\n      <td>3.125824012821922</td>\n      <td>3.125824012821922</td>\n    </tr>\n    <tr>\n      <th>3</th>\n      <td>min</td>\n      <td>-wYcqHxxpbDl3rkojFGyVePuYhw</td>\n      <td>youtube#videoListResponse</td>\n      <td>false</td>\n      <td>ytAgeRestricted</td>\n      <td>hd</td>\n      <td>2d</td>\n      <td>PT10M</td>\n      <td>rectangular</td>\n      <td>--Ziwh4kQKLl92uSDbkiTfCENfI</td>\n      <td>--RRkree8kM</td>\n      <td>youtube#video</td>\n      <td>1</td>\n      <td>UC--yIemFNSgwQ0JxyYsABAQ</td>\n      <td>!!! (Chk Chk Chk)</td>\n      <td>ar</td>\n      <td>en</td>\n      <td></td>\n      <td>none</td>\n      <td></td>\n      <td>!!! - One Girl/One Boy</td>\n      <td>2005-11-02T22:02:48Z</td>\n      <td>90</td>\n      <td>https://i.ytimg.com/vi/--RRkree8kM/default.jpg</td>\n      <td>120</td>\n      <td>360</td>\n      <td>https://i.ytimg.com/vi/--RRkree8kM/hqdefault.jpg</td>\n      <td>480</td>\n      <td>720</td>\n      <td>https://i.ytimg.com/vi/--RRkree8kM/maxresdefau...</td>\n      <td>1280</td>\n      <td>180</td>\n      <td>https://i.ytimg.com/vi/--RRkree8kM/mqdefault.jpg</td>\n      <td>320</td>\n      <td>480</td>\n      <td>https://i.ytimg.com/vi/--RRkree8kM/sddefault.jpg</td>\n      <td>640</td>\n      <td>!!! - One Girl/One Boy</td>\n      <td>0</td>\n      <td>0</td>\n      <td>0</td>\n      <td>0</td>\n      <td>100011</td>\n      <td>creativeCommon</td>\n      <td>public</td>\n      <td>processed</td>\n      <td>31</td>\n      <td>31</td>\n    </tr>\n    <tr>\n      <th>4</th>\n      <td>max</td>\n      <td>yUNbDErOOYnJJqhQSk2NAEYk4MY</td>\n      <td>youtube#videoListResponse</td>\n      <td>true</td>\n      <td>ytAgeRestricted</td>\n      <td>sd</td>\n      <td>2d</td>\n      <td>PT9M7S</td>\n      <td>rectangular</td>\n      <td>zzz4gKlE3f6QaY5wxNh8wj_jNRA</td>\n      <td>zzrNI66FUWE</td>\n      <td>youtube#video</td>\n      <td>29</td>\n      <td>UCzz_ERveHOdZve_Qsthwhnw</td>\n      <td>さむい者おげし</td>\n      <td>tr</td>\n      <td>iw</td>\n      <td>🎶 Spotify Playlist http://spoti.fi/1Vr9N0E\\n📱 ...</td>\n      <td>none</td>\n      <td>🎶 Spotify Playlist http://spoti.fi/1Vr9N0E\\n📱 ...</td>\n      <td>📺 Danakil - Le rêve [Official Video]</td>\n      <td>2019-11-04T14:55:48Z</td>\n      <td>90</td>\n      <td>https://i.ytimg.com/vi/zzrNI66FUWE/default.jpg</td>\n      <td>120</td>\n      <td>360</td>\n      <td>https://i.ytimg.com/vi/zzrNI66FUWE/hqdefault.jpg</td>\n      <td>480</td>\n      <td>720</td>\n      <td>https://i.ytimg.com/vi/zzrNI66FUWE/maxresdefau...</td>\n      <td>1280</td>\n      <td>180</td>\n      <td>https://i.ytimg.com/vi/zzrNI66FUWE/mqdefault.jpg</td>\n      <td>320</td>\n      <td>480</td>\n      <td>https://i.ytimg.com/vi/zzrNI66FUWE/sddefault.jpg</td>\n      <td>640</td>\n      <td>📺 Danakil - Le rêve [Official Video]</td>\n      <td>9995</td>\n      <td>9970</td>\n      <td>0</td>\n      <td>99930</td>\n      <td>9998165</td>\n      <td>youtube</td>\n      <td>unlisted</td>\n      <td>processed</td>\n      <td>45</td>\n      <td>45</td>\n    </tr>\n  </tbody>\n</table>\n</div>",
       "datasetInfos": [],
       "removedWidgets": [],
       "textData": "<div class=\"ansiout\">Out[11]: </div>",
       "type": "htmlSandbox"
      }
     },
     "output_type": "display_data"
    }
   ],
   "source": [
    "# TODO: check your dataframe using `.describe(...)`\n",
    "### BEGIN STRIP ###\n",
    "df.describe().toPandas()\n",
    "### END STRIP ###"
   ]
  },
  {
   "cell_type": "markdown",
   "metadata": {
    "application/vnd.databricks.v1+cell": {
     "inputWidgets": {},
     "nuid": "c62515e5-3c69-4cb1-9847-631e7f4e78fc",
     "showTitle": false,
     "title": ""
    }
   },
   "source": [
    "Let's try something that will fail... accessing the columns in place:"
   ]
  },
  {
   "cell_type": "code",
   "execution_count": null,
   "metadata": {
    "application/vnd.databricks.v1+cell": {
     "inputWidgets": {},
     "nuid": "ec5bdba9-cfc2-44de-9757-97963b632de1",
     "showTitle": false,
     "title": ""
    }
   },
   "outputs": [
    {
     "data": {
      "text/html": [
       "<style scoped>\n",
       "  .ansiout {\n",
       "    display: block;\n",
       "    unicode-bidi: embed;\n",
       "    white-space: pre-wrap;\n",
       "    word-wrap: break-word;\n",
       "    word-break: break-all;\n",
       "    font-family: \"Source Code Pro\", \"Menlo\", monospace;;\n",
       "    font-size: 13px;\n",
       "    color: #555;\n",
       "    margin-left: 4px;\n",
       "    line-height: 19px;\n",
       "  }\n",
       "</style>\n",
       "<div class=\"ansiout\"></div>"
      ]
     },
     "metadata": {
      "application/vnd.databricks.v1+output": {
       "addedWidgets": {},
       "arguments": {},
       "data": "<div class=\"ansiout\"></div>",
       "datasetInfos": [],
       "removedWidgets": [],
       "type": "html"
      }
     },
     "output_type": "display_data"
    },
    {
     "data": {
      "text/html": [
       "<style scoped>\n",
       "  .ansiout {\n",
       "    display: block;\n",
       "    unicode-bidi: embed;\n",
       "    white-space: pre-wrap;\n",
       "    word-wrap: break-word;\n",
       "    word-break: break-all;\n",
       "    font-family: \"Source Code Pro\", \"Menlo\", monospace;;\n",
       "    font-size: 13px;\n",
       "    color: #555;\n",
       "    margin-left: 4px;\n",
       "    line-height: 19px;\n",
       "  }\n",
       "</style>\n",
       "<div class=\"ansiout\"><span class=\"ansi-red-fg\">---------------------------------------------------------------------------</span>\n",
       "<span class=\"ansi-red-fg\">AnalysisException</span>                         Traceback (most recent call last)\n",
       "<span class=\"ansi-green-fg\">&lt;command-2711188377281721&gt;</span> in <span class=\"ansi-cyan-fg\">&lt;module&gt;</span>\n",
       "<span class=\"ansi-green-fg\">----&gt; 1</span><span class=\"ansi-red-fg\"> </span>df<span class=\"ansi-blue-fg\">.</span>select<span class=\"ansi-blue-fg\">(</span><span class=\"ansi-blue-fg\">&#39;items.contentDetails.caption&#39;</span><span class=\"ansi-blue-fg\">)</span><span class=\"ansi-blue-fg\">.</span>show<span class=\"ansi-blue-fg\">(</span><span class=\"ansi-cyan-fg\">5</span><span class=\"ansi-blue-fg\">)</span>\n",
       "\n",
       "<span class=\"ansi-green-fg\">/databricks/spark/python/pyspark/sql/dataframe.py</span> in <span class=\"ansi-cyan-fg\">select</span><span class=\"ansi-blue-fg\">(self, *cols)</span>\n",
       "<span class=\"ansi-green-intense-fg ansi-bold\">   1437</span>         <span class=\"ansi-blue-fg\">[</span>Row<span class=\"ansi-blue-fg\">(</span>name<span class=\"ansi-blue-fg\">=</span><span class=\"ansi-blue-fg\">u&#39;Alice&#39;</span><span class=\"ansi-blue-fg\">,</span> age<span class=\"ansi-blue-fg\">=</span><span class=\"ansi-cyan-fg\">12</span><span class=\"ansi-blue-fg\">)</span><span class=\"ansi-blue-fg\">,</span> Row<span class=\"ansi-blue-fg\">(</span>name<span class=\"ansi-blue-fg\">=</span><span class=\"ansi-blue-fg\">u&#39;Bob&#39;</span><span class=\"ansi-blue-fg\">,</span> age<span class=\"ansi-blue-fg\">=</span><span class=\"ansi-cyan-fg\">15</span><span class=\"ansi-blue-fg\">)</span><span class=\"ansi-blue-fg\">]</span>\n",
       "<span class=\"ansi-green-intense-fg ansi-bold\">   1438</span>         &#34;&#34;&#34;\n",
       "<span class=\"ansi-green-fg\">-&gt; 1439</span><span class=\"ansi-red-fg\">         </span>jdf <span class=\"ansi-blue-fg\">=</span> self<span class=\"ansi-blue-fg\">.</span>_jdf<span class=\"ansi-blue-fg\">.</span>select<span class=\"ansi-blue-fg\">(</span>self<span class=\"ansi-blue-fg\">.</span>_jcols<span class=\"ansi-blue-fg\">(</span><span class=\"ansi-blue-fg\">*</span>cols<span class=\"ansi-blue-fg\">)</span><span class=\"ansi-blue-fg\">)</span>\n",
       "<span class=\"ansi-green-intense-fg ansi-bold\">   1440</span>         <span class=\"ansi-green-fg\">return</span> DataFrame<span class=\"ansi-blue-fg\">(</span>jdf<span class=\"ansi-blue-fg\">,</span> self<span class=\"ansi-blue-fg\">.</span>sql_ctx<span class=\"ansi-blue-fg\">)</span>\n",
       "<span class=\"ansi-green-intense-fg ansi-bold\">   1441</span> \n",
       "\n",
       "<span class=\"ansi-green-fg\">/databricks/spark/python/lib/py4j-0.10.9-src.zip/py4j/java_gateway.py</span> in <span class=\"ansi-cyan-fg\">__call__</span><span class=\"ansi-blue-fg\">(self, *args)</span>\n",
       "<span class=\"ansi-green-intense-fg ansi-bold\">   1303</span>         answer <span class=\"ansi-blue-fg\">=</span> self<span class=\"ansi-blue-fg\">.</span>gateway_client<span class=\"ansi-blue-fg\">.</span>send_command<span class=\"ansi-blue-fg\">(</span>command<span class=\"ansi-blue-fg\">)</span>\n",
       "<span class=\"ansi-green-intense-fg ansi-bold\">   1304</span>         return_value = get_return_value(\n",
       "<span class=\"ansi-green-fg\">-&gt; 1305</span><span class=\"ansi-red-fg\">             answer, self.gateway_client, self.target_id, self.name)\n",
       "</span><span class=\"ansi-green-intense-fg ansi-bold\">   1306</span> \n",
       "<span class=\"ansi-green-intense-fg ansi-bold\">   1307</span>         <span class=\"ansi-green-fg\">for</span> temp_arg <span class=\"ansi-green-fg\">in</span> temp_args<span class=\"ansi-blue-fg\">:</span>\n",
       "\n",
       "<span class=\"ansi-green-fg\">/databricks/spark/python/pyspark/sql/utils.py</span> in <span class=\"ansi-cyan-fg\">deco</span><span class=\"ansi-blue-fg\">(*a, **kw)</span>\n",
       "<span class=\"ansi-green-intense-fg ansi-bold\">    131</span>                 <span class=\"ansi-red-fg\"># Hide where the exception came from that shows a non-Pythonic</span>\n",
       "<span class=\"ansi-green-intense-fg ansi-bold\">    132</span>                 <span class=\"ansi-red-fg\"># JVM exception message.</span>\n",
       "<span class=\"ansi-green-fg\">--&gt; 133</span><span class=\"ansi-red-fg\">                 </span>raise_from<span class=\"ansi-blue-fg\">(</span>converted<span class=\"ansi-blue-fg\">)</span>\n",
       "<span class=\"ansi-green-intense-fg ansi-bold\">    134</span>             <span class=\"ansi-green-fg\">else</span><span class=\"ansi-blue-fg\">:</span>\n",
       "<span class=\"ansi-green-intense-fg ansi-bold\">    135</span>                 <span class=\"ansi-green-fg\">raise</span>\n",
       "\n",
       "<span class=\"ansi-green-fg\">/databricks/spark/python/pyspark/sql/utils.py</span> in <span class=\"ansi-cyan-fg\">raise_from</span><span class=\"ansi-blue-fg\">(e)</span>\n",
       "\n",
       "<span class=\"ansi-red-fg\">AnalysisException</span>: cannot resolve &#39;`items.contentDetails.caption`&#39; given input columns: [etag, items.contentDetails.caption, items.contentDetails.contentRating.ytRating, items.contentDetails.definition, items.contentDetails.dimension, items.contentDetails.duration, items.contentDetails.licensedContent, items.contentDetails.projection, items.etag, items.id, items.kind, items.snippet.categoryId, items.snippet.channelId, items.snippet.channelTitle, items.snippet.defaultAudioLanguage, items.snippet.defaultLanguage, items.snippet.description, items.snippet.liveBroadcastContent, items.snippet.localized.description, items.snippet.localized.title, items.snippet.publishedAt, items.snippet.thumbnails.default.height, items.snippet.thumbnails.default.url, items.snippet.thumbnails.default.width, items.snippet.thumbnails.high.height, items.snippet.thumbnails.high.url, items.snippet.thumbnails.high.width, items.snippet.thumbnails.maxres.height, items.snippet.thumbnails.maxres.url, items.snippet.thumbnails.maxres.width, items.snippet.thumbnails.medium.height, items.snippet.thumbnails.medium.url, items.snippet.thumbnails.medium.width, items.snippet.thumbnails.standard.height, items.snippet.thumbnails.standard.url, items.snippet.thumbnails.standard.width, items.snippet.title, items.statistics.commentCount, items.statistics.dislikeCount, items.statistics.favoriteCount, items.statistics.likeCount, items.statistics.viewCount, items.status.embeddable, items.status.license, items.status.madeForKids, items.status.privacyStatus, items.status.publicStatsViewable, items.status.uploadStatus, kind, pageInfo.resultsPerPage, pageInfo.totalResults];;\n",
       "&#39;Project [&#39;items.contentDetails.caption]\n",
       "+- Relation[etag#2261,kind#2262,items.contentDetails.caption#2263,items.contentDetails.contentRating.ytRating#2264,items.contentDetails.definition#2265,items.contentDetails.dimension#2266,items.contentDetails.duration#2267,items.contentDetails.licensedContent#2268,items.contentDetails.projection#2269,items.etag#2270,items.id#2271,items.kind#2272,items.snippet.categoryId#2273,items.snippet.channelId#2274,items.snippet.channelTitle#2275,items.snippet.defaultAudioLanguage#2276,items.snippet.defaultLanguage#2277,items.snippet.description#2278,items.snippet.liveBroadcastContent#2279,items.snippet.localized.description#2280,items.snippet.localized.title#2281,items.snippet.publishedAt#2282,items.snippet.thumbnails.default.height#2283L,items.snippet.thumbnails.default.url#2284,... 27 more fields] parquet\n",
       "</div>"
      ]
     },
     "metadata": {
      "application/vnd.databricks.v1+output": {
       "arguments": {},
       "data": "<div class=\"ansiout\"><span class=\"ansi-red-fg\">---------------------------------------------------------------------------</span>\n<span class=\"ansi-red-fg\">AnalysisException</span>                         Traceback (most recent call last)\n<span class=\"ansi-green-fg\">&lt;command-2711188377281721&gt;</span> in <span class=\"ansi-cyan-fg\">&lt;module&gt;</span>\n<span class=\"ansi-green-fg\">----&gt; 1</span><span class=\"ansi-red-fg\"> </span>df<span class=\"ansi-blue-fg\">.</span>select<span class=\"ansi-blue-fg\">(</span><span class=\"ansi-blue-fg\">&#39;items.contentDetails.caption&#39;</span><span class=\"ansi-blue-fg\">)</span><span class=\"ansi-blue-fg\">.</span>show<span class=\"ansi-blue-fg\">(</span><span class=\"ansi-cyan-fg\">5</span><span class=\"ansi-blue-fg\">)</span>\n\n<span class=\"ansi-green-fg\">/databricks/spark/python/pyspark/sql/dataframe.py</span> in <span class=\"ansi-cyan-fg\">select</span><span class=\"ansi-blue-fg\">(self, *cols)</span>\n<span class=\"ansi-green-intense-fg ansi-bold\">   1437</span>         <span class=\"ansi-blue-fg\">[</span>Row<span class=\"ansi-blue-fg\">(</span>name<span class=\"ansi-blue-fg\">=</span><span class=\"ansi-blue-fg\">u&#39;Alice&#39;</span><span class=\"ansi-blue-fg\">,</span> age<span class=\"ansi-blue-fg\">=</span><span class=\"ansi-cyan-fg\">12</span><span class=\"ansi-blue-fg\">)</span><span class=\"ansi-blue-fg\">,</span> Row<span class=\"ansi-blue-fg\">(</span>name<span class=\"ansi-blue-fg\">=</span><span class=\"ansi-blue-fg\">u&#39;Bob&#39;</span><span class=\"ansi-blue-fg\">,</span> age<span class=\"ansi-blue-fg\">=</span><span class=\"ansi-cyan-fg\">15</span><span class=\"ansi-blue-fg\">)</span><span class=\"ansi-blue-fg\">]</span>\n<span class=\"ansi-green-intense-fg ansi-bold\">   1438</span>         &#34;&#34;&#34;\n<span class=\"ansi-green-fg\">-&gt; 1439</span><span class=\"ansi-red-fg\">         </span>jdf <span class=\"ansi-blue-fg\">=</span> self<span class=\"ansi-blue-fg\">.</span>_jdf<span class=\"ansi-blue-fg\">.</span>select<span class=\"ansi-blue-fg\">(</span>self<span class=\"ansi-blue-fg\">.</span>_jcols<span class=\"ansi-blue-fg\">(</span><span class=\"ansi-blue-fg\">*</span>cols<span class=\"ansi-blue-fg\">)</span><span class=\"ansi-blue-fg\">)</span>\n<span class=\"ansi-green-intense-fg ansi-bold\">   1440</span>         <span class=\"ansi-green-fg\">return</span> DataFrame<span class=\"ansi-blue-fg\">(</span>jdf<span class=\"ansi-blue-fg\">,</span> self<span class=\"ansi-blue-fg\">.</span>sql_ctx<span class=\"ansi-blue-fg\">)</span>\n<span class=\"ansi-green-intense-fg ansi-bold\">   1441</span> \n\n<span class=\"ansi-green-fg\">/databricks/spark/python/lib/py4j-0.10.9-src.zip/py4j/java_gateway.py</span> in <span class=\"ansi-cyan-fg\">__call__</span><span class=\"ansi-blue-fg\">(self, *args)</span>\n<span class=\"ansi-green-intense-fg ansi-bold\">   1303</span>         answer <span class=\"ansi-blue-fg\">=</span> self<span class=\"ansi-blue-fg\">.</span>gateway_client<span class=\"ansi-blue-fg\">.</span>send_command<span class=\"ansi-blue-fg\">(</span>command<span class=\"ansi-blue-fg\">)</span>\n<span class=\"ansi-green-intense-fg ansi-bold\">   1304</span>         return_value = get_return_value(\n<span class=\"ansi-green-fg\">-&gt; 1305</span><span class=\"ansi-red-fg\">             answer, self.gateway_client, self.target_id, self.name)\n</span><span class=\"ansi-green-intense-fg ansi-bold\">   1306</span> \n<span class=\"ansi-green-intense-fg ansi-bold\">   1307</span>         <span class=\"ansi-green-fg\">for</span> temp_arg <span class=\"ansi-green-fg\">in</span> temp_args<span class=\"ansi-blue-fg\">:</span>\n\n<span class=\"ansi-green-fg\">/databricks/spark/python/pyspark/sql/utils.py</span> in <span class=\"ansi-cyan-fg\">deco</span><span class=\"ansi-blue-fg\">(*a, **kw)</span>\n<span class=\"ansi-green-intense-fg ansi-bold\">    131</span>                 <span class=\"ansi-red-fg\"># Hide where the exception came from that shows a non-Pythonic</span>\n<span class=\"ansi-green-intense-fg ansi-bold\">    132</span>                 <span class=\"ansi-red-fg\"># JVM exception message.</span>\n<span class=\"ansi-green-fg\">--&gt; 133</span><span class=\"ansi-red-fg\">                 </span>raise_from<span class=\"ansi-blue-fg\">(</span>converted<span class=\"ansi-blue-fg\">)</span>\n<span class=\"ansi-green-intense-fg ansi-bold\">    134</span>             <span class=\"ansi-green-fg\">else</span><span class=\"ansi-blue-fg\">:</span>\n<span class=\"ansi-green-intense-fg ansi-bold\">    135</span>                 <span class=\"ansi-green-fg\">raise</span>\n\n<span class=\"ansi-green-fg\">/databricks/spark/python/pyspark/sql/utils.py</span> in <span class=\"ansi-cyan-fg\">raise_from</span><span class=\"ansi-blue-fg\">(e)</span>\n\n<span class=\"ansi-red-fg\">AnalysisException</span>: cannot resolve &#39;`items.contentDetails.caption`&#39; given input columns: [etag, items.contentDetails.caption, items.contentDetails.contentRating.ytRating, items.contentDetails.definition, items.contentDetails.dimension, items.contentDetails.duration, items.contentDetails.licensedContent, items.contentDetails.projection, items.etag, items.id, items.kind, items.snippet.categoryId, items.snippet.channelId, items.snippet.channelTitle, items.snippet.defaultAudioLanguage, items.snippet.defaultLanguage, items.snippet.description, items.snippet.liveBroadcastContent, items.snippet.localized.description, items.snippet.localized.title, items.snippet.publishedAt, items.snippet.thumbnails.default.height, items.snippet.thumbnails.default.url, items.snippet.thumbnails.default.width, items.snippet.thumbnails.high.height, items.snippet.thumbnails.high.url, items.snippet.thumbnails.high.width, items.snippet.thumbnails.maxres.height, items.snippet.thumbnails.maxres.url, items.snippet.thumbnails.maxres.width, items.snippet.thumbnails.medium.height, items.snippet.thumbnails.medium.url, items.snippet.thumbnails.medium.width, items.snippet.thumbnails.standard.height, items.snippet.thumbnails.standard.url, items.snippet.thumbnails.standard.width, items.snippet.title, items.statistics.commentCount, items.statistics.dislikeCount, items.statistics.favoriteCount, items.statistics.likeCount, items.statistics.viewCount, items.status.embeddable, items.status.license, items.status.madeForKids, items.status.privacyStatus, items.status.publicStatsViewable, items.status.uploadStatus, kind, pageInfo.resultsPerPage, pageInfo.totalResults];;\n&#39;Project [&#39;items.contentDetails.caption]\n+- Relation[etag#2261,kind#2262,items.contentDetails.caption#2263,items.contentDetails.contentRating.ytRating#2264,items.contentDetails.definition#2265,items.contentDetails.dimension#2266,items.contentDetails.duration#2267,items.contentDetails.licensedContent#2268,items.contentDetails.projection#2269,items.etag#2270,items.id#2271,items.kind#2272,items.snippet.categoryId#2273,items.snippet.channelId#2274,items.snippet.channelTitle#2275,items.snippet.defaultAudioLanguage#2276,items.snippet.defaultLanguage#2277,items.snippet.description#2278,items.snippet.liveBroadcastContent#2279,items.snippet.localized.description#2280,items.snippet.localized.title#2281,items.snippet.publishedAt#2282,items.snippet.thumbnails.default.height#2283L,items.snippet.thumbnails.default.url#2284,... 27 more fields] parquet\n</div>",
       "errorSummary": "<span class=\"ansi-red-fg\">AnalysisException</span>: cannot resolve &#39;`items.contentDetails.caption`&#39; given input columns: [etag, items.contentDetails.caption, items.contentDetails.contentRating.ytRating, items.contentDetails.definition, items.contentDetails.dimension, items.contentDetails.duration, items.contentDetails.licensedContent, items.contentDetails.projection, items.etag, items.id, items.kind, items.snippet.categoryId, items.snippet.channelId, items.snippet.channelTitle, items.snippet.defaultAudioLanguage, items.snippet.defaultLanguage, items.snippet.description, items.snippet.liveBroadcastContent, items.snippet.localized.description, items.snippet.localized.title, items.snippet.publishedAt, items.snippet.thumbnails.default.height, items.snippet.thumbnails.default.url, items.snippet.thumbnails.default.width, items.snippet.thumbnails.high.height, items.snippet.thumbnails.high.url, items.snippet.thumbnails.high.width, items.snippet.thumbnails.maxres.height, items.snippet.thumbnails.maxres.url, items.snippet.thumbnails.maxres.width, items.snippet.thumbnails.medium.height, items.snippet.thumbnails.medium.url, items.snippet.thumbnails.medium.width, items.snippet.thumbnails.standard.height, items.snippet.thumbnails.standard.url, items.snippet.thumbnails.standard.width, items.snippet.title, items.statistics.commentCount, items.statistics.dislikeCount, items.statistics.favoriteCount, items.statistics.likeCount, items.statistics.viewCount, items.status.embeddable, items.status.license, items.status.madeForKids, items.status.privacyStatus, items.status.publicStatsViewable, items.status.uploadStatus, kind, pageInfo.resultsPerPage, pageInfo.totalResults];;",
       "type": "ipynbError"
      }
     },
     "output_type": "display_data"
    }
   ],
   "source": [
    "df.select('items.contentDetails.caption').show(5)"
   ]
  },
  {
   "cell_type": "markdown",
   "metadata": {
    "application/vnd.databricks.v1+cell": {
     "inputWidgets": {},
     "nuid": "ec7ee568-dcf8-4a02-9925-e615a1e180b8",
     "showTitle": false,
     "title": ""
    }
   },
   "source": [
    "Did you understand what happened here? Because we have dots `.` in our column name, PySpark thinks we're trying to access nested field structure when calling `select`!\n",
    "\n",
    "In the Scala programming language (in which Spark is built), we can use the backtick to identify a **string literal**. String literal is what we need to tell Scala \"Please, don't interpret the `.`: they are supposed to be taken exactly as they are.\"\n",
    "\n",
    "Hence, the solution is to enclose every column names with backticks:\n",
    "\n",
    "```\n",
    "\"hello.world\" becomes \"`hello.word`\"\n",
    "```"
   ]
  },
  {
   "cell_type": "code",
   "execution_count": null,
   "metadata": {
    "application/vnd.databricks.v1+cell": {
     "inputWidgets": {},
     "nuid": "856e78af-7e70-4812-889e-43c61f86653c",
     "showTitle": false,
     "title": ""
    }
   },
   "outputs": [
    {
     "data": {
      "text/html": [
       "<style scoped>\n",
       "  .ansiout {\n",
       "    display: block;\n",
       "    unicode-bidi: embed;\n",
       "    white-space: pre-wrap;\n",
       "    word-wrap: break-word;\n",
       "    word-break: break-all;\n",
       "    font-family: \"Source Code Pro\", \"Menlo\", monospace;;\n",
       "    font-size: 13px;\n",
       "    color: #555;\n",
       "    margin-left: 4px;\n",
       "    line-height: 19px;\n",
       "  }\n",
       "</style>\n",
       "<div class=\"ansiout\">+----------------------------+\n",
       "items.contentDetails.caption|\n",
       "+----------------------------+\n",
       "                       false|\n",
       "                       false|\n",
       "                       false|\n",
       "                       false|\n",
       "                       false|\n",
       "+----------------------------+\n",
       "only showing top 5 rows\n",
       "\n",
       "</div>"
      ]
     },
     "metadata": {
      "application/vnd.databricks.v1+output": {
       "addedWidgets": {},
       "arguments": {},
       "data": "<div class=\"ansiout\">+----------------------------+\n|items.contentDetails.caption|\n+----------------------------+\n|                       false|\n|                       false|\n|                       false|\n|                       false|\n|                       false|\n+----------------------------+\nonly showing top 5 rows\n\n</div>",
       "datasetInfos": [],
       "removedWidgets": [],
       "type": "html"
      }
     },
     "output_type": "display_data"
    }
   ],
   "source": [
    "# TODO: show the selected content of the first column, with the trick we just gave you\n",
    "### BEGIN STRIP ###\n",
    "df.select(\"`items.contentDetails.caption`\").show(5)\n",
    "\n",
    "  ### END STRIP ###"
   ]
  },
  {
   "cell_type": "markdown",
   "metadata": {
    "application/vnd.databricks.v1+cell": {
     "inputWidgets": {},
     "nuid": "19de8e70-3d5e-4d0b-8872-f8fa25915294",
     "showTitle": false,
     "title": ""
    }
   },
   "source": [
    "Ok, it works, but it's not very convenient... Also, every columns starts with `items` which is not very informative.\n",
    "\n",
    "For each column, we will:\n",
    "- drop the first part, i.e. `items.`\n",
    "- replace all `.` with `_`\n",
    "\n",
    "Let's create a function that does just this, takes a column name as a string parameter and return a sanitized version of it.  For instance, `items.content.title` becomes `content_title`.\n",
    "\n",
    "We will call this function `sanitize_column_name`."
   ]
  },
  {
   "cell_type": "code",
   "execution_count": null,
   "metadata": {
    "application/vnd.databricks.v1+cell": {
     "inputWidgets": {},
     "nuid": "d2fcb772-4c8d-4ca9-85ac-81c618aabbc8",
     "showTitle": false,
     "title": ""
    }
   },
   "outputs": [
    {
     "data": {
      "text/html": [
       "<style scoped>\n",
       "  .ansiout {\n",
       "    display: block;\n",
       "    unicode-bidi: embed;\n",
       "    white-space: pre-wrap;\n",
       "    word-wrap: break-word;\n",
       "    word-break: break-all;\n",
       "    font-family: \"Source Code Pro\", \"Menlo\", monospace;;\n",
       "    font-size: 13px;\n",
       "    color: #555;\n",
       "    margin-left: 4px;\n",
       "    line-height: 19px;\n",
       "  }\n",
       "</style>\n",
       "<div class=\"ansiout\"></div>"
      ]
     },
     "metadata": {
      "application/vnd.databricks.v1+output": {
       "addedWidgets": {},
       "arguments": {},
       "data": "<div class=\"ansiout\"></div>",
       "datasetInfos": [],
       "removedWidgets": [],
       "type": "html"
      }
     },
     "output_type": "display_data"
    }
   ],
   "source": [
    "# TODO: create the function: sanitize_column_name\n",
    "### BEGIN STRIP ###\n",
    "def sanitize_column_name(column_name) :\n",
    "  return '_'.join(column_name.split(\".\")[1:])\n",
    "  \n",
    "### END STRIP ###"
   ]
  },
  {
   "cell_type": "code",
   "execution_count": null,
   "metadata": {
    "application/vnd.databricks.v1+cell": {
     "inputWidgets": {},
     "nuid": "e8da15e4-53c6-4669-8d31-016e44fa9140",
     "showTitle": false,
     "title": ""
    }
   },
   "outputs": [
    {
     "data": {
      "text/html": [
       "<style scoped>\n",
       "  .ansiout {\n",
       "    display: block;\n",
       "    unicode-bidi: embed;\n",
       "    white-space: pre-wrap;\n",
       "    word-wrap: break-word;\n",
       "    word-break: break-all;\n",
       "    font-family: \"Source Code Pro\", \"Menlo\", monospace;;\n",
       "    font-size: 13px;\n",
       "    color: #555;\n",
       "    margin-left: 4px;\n",
       "    line-height: 19px;\n",
       "  }\n",
       "</style>\n",
       "<div class=\"ansiout\">Out[15]: &#39;contentDetails_dimension&#39;</div>"
      ]
     },
     "metadata": {
      "application/vnd.databricks.v1+output": {
       "addedWidgets": {},
       "arguments": {},
       "data": "<div class=\"ansiout\">Out[15]: &#39;contentDetails_dimension&#39;</div>",
       "datasetInfos": [],
       "removedWidgets": [],
       "type": "html"
      }
     },
     "output_type": "display_data"
    }
   ],
   "source": [
    "# TODO: use this cell to test your new function\n",
    "### BEGIN STRIP ###\n",
    "sanitize_column_name('items.contentDetails.dimension')\n",
    "### END STRIP ###"
   ]
  },
  {
   "cell_type": "code",
   "execution_count": null,
   "metadata": {
    "application/vnd.databricks.v1+cell": {
     "inputWidgets": {},
     "nuid": "2f4d5cfb-6e8b-408f-a5c0-5b34eed0c2ff",
     "showTitle": false,
     "title": ""
    }
   },
   "outputs": [
    {
     "data": {
      "text/html": [
       "<div>\n",
       "<style scoped>\n",
       "    .dataframe tbody tr th:only-of-type {\n",
       "        vertical-align: middle;\n",
       "    }\n",
       "\n",
       "    .dataframe tbody tr th {\n",
       "        vertical-align: top;\n",
       "    }\n",
       "\n",
       "    .dataframe thead th {\n",
       "        text-align: right;\n",
       "    }\n",
       "</style>\n",
       "<table border=\"1\" class=\"dataframe\">\n",
       "  <thead>\n",
       "    <tr style=\"text-align: right;\">\n",
       "      <th></th>\n",
       "      <th>items.contentDetails.caption</th>\n",
       "      <th>items.contentDetails.contentRating.ytRating</th>\n",
       "      <th>items.contentDetails.definition</th>\n",
       "      <th>items.contentDetails.dimension</th>\n",
       "      <th>items.contentDetails.duration</th>\n",
       "      <th>items.contentDetails.licensedContent</th>\n",
       "      <th>items.contentDetails.projection</th>\n",
       "      <th>items.etag</th>\n",
       "      <th>items.id</th>\n",
       "      <th>items.kind</th>\n",
       "      <th>items.snippet.categoryId</th>\n",
       "      <th>items.snippet.channelId</th>\n",
       "      <th>items.snippet.channelTitle</th>\n",
       "      <th>items.snippet.defaultAudioLanguage</th>\n",
       "      <th>items.snippet.defaultLanguage</th>\n",
       "      <th>items.snippet.description</th>\n",
       "      <th>items.snippet.liveBroadcastContent</th>\n",
       "      <th>items.snippet.localized.description</th>\n",
       "      <th>items.snippet.localized.title</th>\n",
       "      <th>items.snippet.publishedAt</th>\n",
       "      <th>items.snippet.thumbnails.default.height</th>\n",
       "      <th>items.snippet.thumbnails.default.url</th>\n",
       "      <th>items.snippet.thumbnails.default.width</th>\n",
       "      <th>items.snippet.thumbnails.high.height</th>\n",
       "      <th>items.snippet.thumbnails.high.url</th>\n",
       "      <th>items.snippet.thumbnails.high.width</th>\n",
       "      <th>items.snippet.thumbnails.maxres.height</th>\n",
       "      <th>items.snippet.thumbnails.maxres.url</th>\n",
       "      <th>items.snippet.thumbnails.maxres.width</th>\n",
       "      <th>items.snippet.thumbnails.medium.height</th>\n",
       "      <th>items.snippet.thumbnails.medium.url</th>\n",
       "      <th>items.snippet.thumbnails.medium.width</th>\n",
       "      <th>items.snippet.thumbnails.standard.height</th>\n",
       "      <th>items.snippet.thumbnails.standard.url</th>\n",
       "      <th>items.snippet.thumbnails.standard.width</th>\n",
       "      <th>items.snippet.title</th>\n",
       "      <th>items.statistics.commentCount</th>\n",
       "      <th>items.statistics.dislikeCount</th>\n",
       "      <th>items.statistics.favoriteCount</th>\n",
       "      <th>items.statistics.likeCount</th>\n",
       "      <th>items.statistics.viewCount</th>\n",
       "      <th>items.status.embeddable</th>\n",
       "      <th>items.status.license</th>\n",
       "      <th>items.status.madeForKids</th>\n",
       "      <th>items.status.privacyStatus</th>\n",
       "      <th>items.status.publicStatsViewable</th>\n",
       "      <th>items.status.uploadStatus</th>\n",
       "      <th>pageInfo.resultsPerPage</th>\n",
       "      <th>pageInfo.totalResults</th>\n",
       "    </tr>\n",
       "  </thead>\n",
       "  <tbody>\n",
       "    <tr>\n",
       "      <th>0</th>\n",
       "      <td>false</td>\n",
       "      <td>None</td>\n",
       "      <td>sd</td>\n",
       "      <td>2d</td>\n",
       "      <td>PT3M33S</td>\n",
       "      <td>True</td>\n",
       "      <td>rectangular</td>\n",
       "      <td>SqP7uUVSol30dxvuScN6JUny6T4</td>\n",
       "      <td>t1l8Z6gLPzo</td>\n",
       "      <td>youtube#video</td>\n",
       "      <td>10</td>\n",
       "      <td>UCUERSOitwgUq_37kGslN96w</td>\n",
       "      <td>VOLO</td>\n",
       "      <td>None</td>\n",
       "      <td>None</td>\n",
       "      <td>Enregistré et mixé par Cyrille PELTIER au \"Kee...</td>\n",
       "      <td>none</td>\n",
       "      <td>Enregistré et mixé par Cyrille PELTIER au \"Kee...</td>\n",
       "      <td>VOLO. \"L'air d'un con\"</td>\n",
       "      <td>2013-07-22T12:09:11Z</td>\n",
       "      <td>90</td>\n",
       "      <td>https://i.ytimg.com/vi/t1l8Z6gLPzo/default.jpg</td>\n",
       "      <td>120</td>\n",
       "      <td>360</td>\n",
       "      <td>https://i.ytimg.com/vi/t1l8Z6gLPzo/hqdefault.jpg</td>\n",
       "      <td>480</td>\n",
       "      <td>NaN</td>\n",
       "      <td>None</td>\n",
       "      <td>NaN</td>\n",
       "      <td>180</td>\n",
       "      <td>https://i.ytimg.com/vi/t1l8Z6gLPzo/mqdefault.jpg</td>\n",
       "      <td>320</td>\n",
       "      <td>480.0</td>\n",
       "      <td>https://i.ytimg.com/vi/t1l8Z6gLPzo/sddefault.jpg</td>\n",
       "      <td>640.0</td>\n",
       "      <td>VOLO. \"L'air d'un con\"</td>\n",
       "      <td>38</td>\n",
       "      <td>26</td>\n",
       "      <td>0</td>\n",
       "      <td>1028</td>\n",
       "      <td>223172</td>\n",
       "      <td>True</td>\n",
       "      <td>youtube</td>\n",
       "      <td>False</td>\n",
       "      <td>public</td>\n",
       "      <td>True</td>\n",
       "      <td>processed</td>\n",
       "      <td>38</td>\n",
       "      <td>38</td>\n",
       "    </tr>\n",
       "    <tr>\n",
       "      <th>1</th>\n",
       "      <td>false</td>\n",
       "      <td>None</td>\n",
       "      <td>hd</td>\n",
       "      <td>2d</td>\n",
       "      <td>PT7M46S</td>\n",
       "      <td>False</td>\n",
       "      <td>rectangular</td>\n",
       "      <td>m3DnhzTEw9ABiqzBvdasfk5Av_8</td>\n",
       "      <td>we5gzZq5Avg</td>\n",
       "      <td>youtube#video</td>\n",
       "      <td>10</td>\n",
       "      <td>UCson549gpvRhPnJ3Whs5onA</td>\n",
       "      <td>LongWayToDream</td>\n",
       "      <td>None</td>\n",
       "      <td>None</td>\n",
       "      <td>Air Conditionné EP</td>\n",
       "      <td>none</td>\n",
       "      <td>Air Conditionné EP</td>\n",
       "      <td>Julian Jeweil - Air Conditionné</td>\n",
       "      <td>2012-03-17T08:34:30Z</td>\n",
       "      <td>90</td>\n",
       "      <td>https://i.ytimg.com/vi/we5gzZq5Avg/default.jpg</td>\n",
       "      <td>120</td>\n",
       "      <td>360</td>\n",
       "      <td>https://i.ytimg.com/vi/we5gzZq5Avg/hqdefault.jpg</td>\n",
       "      <td>480</td>\n",
       "      <td>720.0</td>\n",
       "      <td>https://i.ytimg.com/vi/we5gzZq5Avg/maxresdefau...</td>\n",
       "      <td>1280.0</td>\n",
       "      <td>180</td>\n",
       "      <td>https://i.ytimg.com/vi/we5gzZq5Avg/mqdefault.jpg</td>\n",
       "      <td>320</td>\n",
       "      <td>480.0</td>\n",
       "      <td>https://i.ytimg.com/vi/we5gzZq5Avg/sddefault.jpg</td>\n",
       "      <td>640.0</td>\n",
       "      <td>Julian Jeweil - Air Conditionné</td>\n",
       "      <td>2</td>\n",
       "      <td>3</td>\n",
       "      <td>0</td>\n",
       "      <td>124</td>\n",
       "      <td>13409</td>\n",
       "      <td>True</td>\n",
       "      <td>youtube</td>\n",
       "      <td>False</td>\n",
       "      <td>public</td>\n",
       "      <td>True</td>\n",
       "      <td>processed</td>\n",
       "      <td>38</td>\n",
       "      <td>38</td>\n",
       "    </tr>\n",
       "    <tr>\n",
       "      <th>2</th>\n",
       "      <td>false</td>\n",
       "      <td>None</td>\n",
       "      <td>sd</td>\n",
       "      <td>2d</td>\n",
       "      <td>PT3M7S</td>\n",
       "      <td>False</td>\n",
       "      <td>rectangular</td>\n",
       "      <td>zyzs7STAR3NG-_pZe-0nGkbKoqg</td>\n",
       "      <td>49esza4eiK4</td>\n",
       "      <td>youtube#video</td>\n",
       "      <td>10</td>\n",
       "      <td>UCcHYZ8Ez4gG_2bHEuBL8IfQ</td>\n",
       "      <td>Downtown Records</td>\n",
       "      <td>None</td>\n",
       "      <td>None</td>\n",
       "      <td>myspace.com/etjusticepourtous\\r\\n(Downtown / E...</td>\n",
       "      <td>none</td>\n",
       "      <td>myspace.com/etjusticepourtous\\r\\n(Downtown / E...</td>\n",
       "      <td>Justice - D.A.N.C.E</td>\n",
       "      <td>2007-09-08T02:02:07Z</td>\n",
       "      <td>90</td>\n",
       "      <td>https://i.ytimg.com/vi/49esza4eiK4/default.jpg</td>\n",
       "      <td>120</td>\n",
       "      <td>360</td>\n",
       "      <td>https://i.ytimg.com/vi/49esza4eiK4/hqdefault.jpg</td>\n",
       "      <td>480</td>\n",
       "      <td>NaN</td>\n",
       "      <td>None</td>\n",
       "      <td>NaN</td>\n",
       "      <td>180</td>\n",
       "      <td>https://i.ytimg.com/vi/49esza4eiK4/mqdefault.jpg</td>\n",
       "      <td>320</td>\n",
       "      <td>NaN</td>\n",
       "      <td>None</td>\n",
       "      <td>NaN</td>\n",
       "      <td>Justice - D.A.N.C.E</td>\n",
       "      <td>3168</td>\n",
       "      <td>780</td>\n",
       "      <td>0</td>\n",
       "      <td>25540</td>\n",
       "      <td>10106655</td>\n",
       "      <td>True</td>\n",
       "      <td>youtube</td>\n",
       "      <td>False</td>\n",
       "      <td>public</td>\n",
       "      <td>True</td>\n",
       "      <td>processed</td>\n",
       "      <td>38</td>\n",
       "      <td>38</td>\n",
       "    </tr>\n",
       "    <tr>\n",
       "      <th>3</th>\n",
       "      <td>false</td>\n",
       "      <td>None</td>\n",
       "      <td>hd</td>\n",
       "      <td>2d</td>\n",
       "      <td>PT3M43S</td>\n",
       "      <td>False</td>\n",
       "      <td>rectangular</td>\n",
       "      <td>hX2C15F6fdO5A-stUFMU5Az2PvI</td>\n",
       "      <td>BoO6LfR7ca0</td>\n",
       "      <td>youtube#video</td>\n",
       "      <td>22</td>\n",
       "      <td>UCQ0wLCF7u23gZKJkHFs1Tpg</td>\n",
       "      <td>Music Is Our Drug</td>\n",
       "      <td>None</td>\n",
       "      <td>None</td>\n",
       "      <td>♫ Music Is Our Drug - Spotify Playlist: https:...</td>\n",
       "      <td>none</td>\n",
       "      <td>♫ Music Is Our Drug - Spotify Playlist: https:...</td>\n",
       "      <td>Gramatik - Torture (feat. Eric Krasno)</td>\n",
       "      <td>2014-01-24T12:52:38Z</td>\n",
       "      <td>90</td>\n",
       "      <td>https://i.ytimg.com/vi/BoO6LfR7ca0/default.jpg</td>\n",
       "      <td>120</td>\n",
       "      <td>360</td>\n",
       "      <td>https://i.ytimg.com/vi/BoO6LfR7ca0/hqdefault.jpg</td>\n",
       "      <td>480</td>\n",
       "      <td>720.0</td>\n",
       "      <td>https://i.ytimg.com/vi/BoO6LfR7ca0/maxresdefau...</td>\n",
       "      <td>1280.0</td>\n",
       "      <td>180</td>\n",
       "      <td>https://i.ytimg.com/vi/BoO6LfR7ca0/mqdefault.jpg</td>\n",
       "      <td>320</td>\n",
       "      <td>480.0</td>\n",
       "      <td>https://i.ytimg.com/vi/BoO6LfR7ca0/sddefault.jpg</td>\n",
       "      <td>640.0</td>\n",
       "      <td>Gramatik - Torture (feat. Eric Krasno)</td>\n",
       "      <td>6</td>\n",
       "      <td>0</td>\n",
       "      <td>0</td>\n",
       "      <td>255</td>\n",
       "      <td>29153</td>\n",
       "      <td>True</td>\n",
       "      <td>youtube</td>\n",
       "      <td>False</td>\n",
       "      <td>public</td>\n",
       "      <td>True</td>\n",
       "      <td>processed</td>\n",
       "      <td>38</td>\n",
       "      <td>38</td>\n",
       "    </tr>\n",
       "    <tr>\n",
       "      <th>4</th>\n",
       "      <td>false</td>\n",
       "      <td>None</td>\n",
       "      <td>hd</td>\n",
       "      <td>2d</td>\n",
       "      <td>PT5M</td>\n",
       "      <td>False</td>\n",
       "      <td>rectangular</td>\n",
       "      <td>rYHoV38PLpMbRuX_zhGTVBKNotw</td>\n",
       "      <td>DaH4W1rY9us</td>\n",
       "      <td>youtube#video</td>\n",
       "      <td>10</td>\n",
       "      <td>UCJsTMPZxYD-Q3kEmL4Qijpg</td>\n",
       "      <td>Harvey Pearson</td>\n",
       "      <td>None</td>\n",
       "      <td>None</td>\n",
       "      <td>Buy The Burgh Island EP now:\\nhttps://itunes.a...</td>\n",
       "      <td>none</td>\n",
       "      <td>Buy The Burgh Island EP now:\\nhttps://itunes.a...</td>\n",
       "      <td>Ben Howard - Oats In The Water</td>\n",
       "      <td>2012-12-02T12:41:13Z</td>\n",
       "      <td>90</td>\n",
       "      <td>https://i.ytimg.com/vi/DaH4W1rY9us/default.jpg</td>\n",
       "      <td>120</td>\n",
       "      <td>360</td>\n",
       "      <td>https://i.ytimg.com/vi/DaH4W1rY9us/hqdefault.jpg</td>\n",
       "      <td>480</td>\n",
       "      <td>720.0</td>\n",
       "      <td>https://i.ytimg.com/vi/DaH4W1rY9us/maxresdefau...</td>\n",
       "      <td>1280.0</td>\n",
       "      <td>180</td>\n",
       "      <td>https://i.ytimg.com/vi/DaH4W1rY9us/mqdefault.jpg</td>\n",
       "      <td>320</td>\n",
       "      <td>480.0</td>\n",
       "      <td>https://i.ytimg.com/vi/DaH4W1rY9us/sddefault.jpg</td>\n",
       "      <td>640.0</td>\n",
       "      <td>Ben Howard - Oats In The Water</td>\n",
       "      <td>5303</td>\n",
       "      <td>1784</td>\n",
       "      <td>0</td>\n",
       "      <td>136033</td>\n",
       "      <td>16488714</td>\n",
       "      <td>True</td>\n",
       "      <td>youtube</td>\n",
       "      <td>False</td>\n",
       "      <td>public</td>\n",
       "      <td>True</td>\n",
       "      <td>processed</td>\n",
       "      <td>38</td>\n",
       "      <td>38</td>\n",
       "    </tr>\n",
       "  </tbody>\n",
       "</table>\n",
       "</div>"
      ]
     },
     "metadata": {
      "application/vnd.databricks.v1+output": {
       "addedWidgets": {},
       "arguments": {},
       "data": "<div>\n<style scoped>\n    .dataframe tbody tr th:only-of-type {\n        vertical-align: middle;\n    }\n\n    .dataframe tbody tr th {\n        vertical-align: top;\n    }\n\n    .dataframe thead th {\n        text-align: right;\n    }\n</style>\n<table border=\"1\" class=\"dataframe\">\n  <thead>\n    <tr style=\"text-align: right;\">\n      <th></th>\n      <th>items.contentDetails.caption</th>\n      <th>items.contentDetails.contentRating.ytRating</th>\n      <th>items.contentDetails.definition</th>\n      <th>items.contentDetails.dimension</th>\n      <th>items.contentDetails.duration</th>\n      <th>items.contentDetails.licensedContent</th>\n      <th>items.contentDetails.projection</th>\n      <th>items.etag</th>\n      <th>items.id</th>\n      <th>items.kind</th>\n      <th>items.snippet.categoryId</th>\n      <th>items.snippet.channelId</th>\n      <th>items.snippet.channelTitle</th>\n      <th>items.snippet.defaultAudioLanguage</th>\n      <th>items.snippet.defaultLanguage</th>\n      <th>items.snippet.description</th>\n      <th>items.snippet.liveBroadcastContent</th>\n      <th>items.snippet.localized.description</th>\n      <th>items.snippet.localized.title</th>\n      <th>items.snippet.publishedAt</th>\n      <th>items.snippet.thumbnails.default.height</th>\n      <th>items.snippet.thumbnails.default.url</th>\n      <th>items.snippet.thumbnails.default.width</th>\n      <th>items.snippet.thumbnails.high.height</th>\n      <th>items.snippet.thumbnails.high.url</th>\n      <th>items.snippet.thumbnails.high.width</th>\n      <th>items.snippet.thumbnails.maxres.height</th>\n      <th>items.snippet.thumbnails.maxres.url</th>\n      <th>items.snippet.thumbnails.maxres.width</th>\n      <th>items.snippet.thumbnails.medium.height</th>\n      <th>items.snippet.thumbnails.medium.url</th>\n      <th>items.snippet.thumbnails.medium.width</th>\n      <th>items.snippet.thumbnails.standard.height</th>\n      <th>items.snippet.thumbnails.standard.url</th>\n      <th>items.snippet.thumbnails.standard.width</th>\n      <th>items.snippet.title</th>\n      <th>items.statistics.commentCount</th>\n      <th>items.statistics.dislikeCount</th>\n      <th>items.statistics.favoriteCount</th>\n      <th>items.statistics.likeCount</th>\n      <th>items.statistics.viewCount</th>\n      <th>items.status.embeddable</th>\n      <th>items.status.license</th>\n      <th>items.status.madeForKids</th>\n      <th>items.status.privacyStatus</th>\n      <th>items.status.publicStatsViewable</th>\n      <th>items.status.uploadStatus</th>\n      <th>pageInfo.resultsPerPage</th>\n      <th>pageInfo.totalResults</th>\n    </tr>\n  </thead>\n  <tbody>\n    <tr>\n      <th>0</th>\n      <td>false</td>\n      <td>None</td>\n      <td>sd</td>\n      <td>2d</td>\n      <td>PT3M33S</td>\n      <td>True</td>\n      <td>rectangular</td>\n      <td>SqP7uUVSol30dxvuScN6JUny6T4</td>\n      <td>t1l8Z6gLPzo</td>\n      <td>youtube#video</td>\n      <td>10</td>\n      <td>UCUERSOitwgUq_37kGslN96w</td>\n      <td>VOLO</td>\n      <td>None</td>\n      <td>None</td>\n      <td>Enregistré et mixé par Cyrille PELTIER au \"Kee...</td>\n      <td>none</td>\n      <td>Enregistré et mixé par Cyrille PELTIER au \"Kee...</td>\n      <td>VOLO. \"L'air d'un con\"</td>\n      <td>2013-07-22T12:09:11Z</td>\n      <td>90</td>\n      <td>https://i.ytimg.com/vi/t1l8Z6gLPzo/default.jpg</td>\n      <td>120</td>\n      <td>360</td>\n      <td>https://i.ytimg.com/vi/t1l8Z6gLPzo/hqdefault.jpg</td>\n      <td>480</td>\n      <td>NaN</td>\n      <td>None</td>\n      <td>NaN</td>\n      <td>180</td>\n      <td>https://i.ytimg.com/vi/t1l8Z6gLPzo/mqdefault.jpg</td>\n      <td>320</td>\n      <td>480.0</td>\n      <td>https://i.ytimg.com/vi/t1l8Z6gLPzo/sddefault.jpg</td>\n      <td>640.0</td>\n      <td>VOLO. \"L'air d'un con\"</td>\n      <td>38</td>\n      <td>26</td>\n      <td>0</td>\n      <td>1028</td>\n      <td>223172</td>\n      <td>True</td>\n      <td>youtube</td>\n      <td>False</td>\n      <td>public</td>\n      <td>True</td>\n      <td>processed</td>\n      <td>38</td>\n      <td>38</td>\n    </tr>\n    <tr>\n      <th>1</th>\n      <td>false</td>\n      <td>None</td>\n      <td>hd</td>\n      <td>2d</td>\n      <td>PT7M46S</td>\n      <td>False</td>\n      <td>rectangular</td>\n      <td>m3DnhzTEw9ABiqzBvdasfk5Av_8</td>\n      <td>we5gzZq5Avg</td>\n      <td>youtube#video</td>\n      <td>10</td>\n      <td>UCson549gpvRhPnJ3Whs5onA</td>\n      <td>LongWayToDream</td>\n      <td>None</td>\n      <td>None</td>\n      <td>Air Conditionné EP</td>\n      <td>none</td>\n      <td>Air Conditionné EP</td>\n      <td>Julian Jeweil - Air Conditionné</td>\n      <td>2012-03-17T08:34:30Z</td>\n      <td>90</td>\n      <td>https://i.ytimg.com/vi/we5gzZq5Avg/default.jpg</td>\n      <td>120</td>\n      <td>360</td>\n      <td>https://i.ytimg.com/vi/we5gzZq5Avg/hqdefault.jpg</td>\n      <td>480</td>\n      <td>720.0</td>\n      <td>https://i.ytimg.com/vi/we5gzZq5Avg/maxresdefau...</td>\n      <td>1280.0</td>\n      <td>180</td>\n      <td>https://i.ytimg.com/vi/we5gzZq5Avg/mqdefault.jpg</td>\n      <td>320</td>\n      <td>480.0</td>\n      <td>https://i.ytimg.com/vi/we5gzZq5Avg/sddefault.jpg</td>\n      <td>640.0</td>\n      <td>Julian Jeweil - Air Conditionné</td>\n      <td>2</td>\n      <td>3</td>\n      <td>0</td>\n      <td>124</td>\n      <td>13409</td>\n      <td>True</td>\n      <td>youtube</td>\n      <td>False</td>\n      <td>public</td>\n      <td>True</td>\n      <td>processed</td>\n      <td>38</td>\n      <td>38</td>\n    </tr>\n    <tr>\n      <th>2</th>\n      <td>false</td>\n      <td>None</td>\n      <td>sd</td>\n      <td>2d</td>\n      <td>PT3M7S</td>\n      <td>False</td>\n      <td>rectangular</td>\n      <td>zyzs7STAR3NG-_pZe-0nGkbKoqg</td>\n      <td>49esza4eiK4</td>\n      <td>youtube#video</td>\n      <td>10</td>\n      <td>UCcHYZ8Ez4gG_2bHEuBL8IfQ</td>\n      <td>Downtown Records</td>\n      <td>None</td>\n      <td>None</td>\n      <td>myspace.com/etjusticepourtous\\r\\n(Downtown / E...</td>\n      <td>none</td>\n      <td>myspace.com/etjusticepourtous\\r\\n(Downtown / E...</td>\n      <td>Justice - D.A.N.C.E</td>\n      <td>2007-09-08T02:02:07Z</td>\n      <td>90</td>\n      <td>https://i.ytimg.com/vi/49esza4eiK4/default.jpg</td>\n      <td>120</td>\n      <td>360</td>\n      <td>https://i.ytimg.com/vi/49esza4eiK4/hqdefault.jpg</td>\n      <td>480</td>\n      <td>NaN</td>\n      <td>None</td>\n      <td>NaN</td>\n      <td>180</td>\n      <td>https://i.ytimg.com/vi/49esza4eiK4/mqdefault.jpg</td>\n      <td>320</td>\n      <td>NaN</td>\n      <td>None</td>\n      <td>NaN</td>\n      <td>Justice - D.A.N.C.E</td>\n      <td>3168</td>\n      <td>780</td>\n      <td>0</td>\n      <td>25540</td>\n      <td>10106655</td>\n      <td>True</td>\n      <td>youtube</td>\n      <td>False</td>\n      <td>public</td>\n      <td>True</td>\n      <td>processed</td>\n      <td>38</td>\n      <td>38</td>\n    </tr>\n    <tr>\n      <th>3</th>\n      <td>false</td>\n      <td>None</td>\n      <td>hd</td>\n      <td>2d</td>\n      <td>PT3M43S</td>\n      <td>False</td>\n      <td>rectangular</td>\n      <td>hX2C15F6fdO5A-stUFMU5Az2PvI</td>\n      <td>BoO6LfR7ca0</td>\n      <td>youtube#video</td>\n      <td>22</td>\n      <td>UCQ0wLCF7u23gZKJkHFs1Tpg</td>\n      <td>Music Is Our Drug</td>\n      <td>None</td>\n      <td>None</td>\n      <td>♫ Music Is Our Drug - Spotify Playlist: https:...</td>\n      <td>none</td>\n      <td>♫ Music Is Our Drug - Spotify Playlist: https:...</td>\n      <td>Gramatik - Torture (feat. Eric Krasno)</td>\n      <td>2014-01-24T12:52:38Z</td>\n      <td>90</td>\n      <td>https://i.ytimg.com/vi/BoO6LfR7ca0/default.jpg</td>\n      <td>120</td>\n      <td>360</td>\n      <td>https://i.ytimg.com/vi/BoO6LfR7ca0/hqdefault.jpg</td>\n      <td>480</td>\n      <td>720.0</td>\n      <td>https://i.ytimg.com/vi/BoO6LfR7ca0/maxresdefau...</td>\n      <td>1280.0</td>\n      <td>180</td>\n      <td>https://i.ytimg.com/vi/BoO6LfR7ca0/mqdefault.jpg</td>\n      <td>320</td>\n      <td>480.0</td>\n      <td>https://i.ytimg.com/vi/BoO6LfR7ca0/sddefault.jpg</td>\n      <td>640.0</td>\n      <td>Gramatik - Torture (feat. Eric Krasno)</td>\n      <td>6</td>\n      <td>0</td>\n      <td>0</td>\n      <td>255</td>\n      <td>29153</td>\n      <td>True</td>\n      <td>youtube</td>\n      <td>False</td>\n      <td>public</td>\n      <td>True</td>\n      <td>processed</td>\n      <td>38</td>\n      <td>38</td>\n    </tr>\n    <tr>\n      <th>4</th>\n      <td>false</td>\n      <td>None</td>\n      <td>hd</td>\n      <td>2d</td>\n      <td>PT5M</td>\n      <td>False</td>\n      <td>rectangular</td>\n      <td>rYHoV38PLpMbRuX_zhGTVBKNotw</td>\n      <td>DaH4W1rY9us</td>\n      <td>youtube#video</td>\n      <td>10</td>\n      <td>UCJsTMPZxYD-Q3kEmL4Qijpg</td>\n      <td>Harvey Pearson</td>\n      <td>None</td>\n      <td>None</td>\n      <td>Buy The Burgh Island EP now:\\nhttps://itunes.a...</td>\n      <td>none</td>\n      <td>Buy The Burgh Island EP now:\\nhttps://itunes.a...</td>\n      <td>Ben Howard - Oats In The Water</td>\n      <td>2012-12-02T12:41:13Z</td>\n      <td>90</td>\n      <td>https://i.ytimg.com/vi/DaH4W1rY9us/default.jpg</td>\n      <td>120</td>\n      <td>360</td>\n      <td>https://i.ytimg.com/vi/DaH4W1rY9us/hqdefault.jpg</td>\n      <td>480</td>\n      <td>720.0</td>\n      <td>https://i.ytimg.com/vi/DaH4W1rY9us/maxresdefau...</td>\n      <td>1280.0</td>\n      <td>180</td>\n      <td>https://i.ytimg.com/vi/DaH4W1rY9us/mqdefault.jpg</td>\n      <td>320</td>\n      <td>480.0</td>\n      <td>https://i.ytimg.com/vi/DaH4W1rY9us/sddefault.jpg</td>\n      <td>640.0</td>\n      <td>Ben Howard - Oats In The Water</td>\n      <td>5303</td>\n      <td>1784</td>\n      <td>0</td>\n      <td>136033</td>\n      <td>16488714</td>\n      <td>True</td>\n      <td>youtube</td>\n      <td>False</td>\n      <td>public</td>\n      <td>True</td>\n      <td>processed</td>\n      <td>38</td>\n      <td>38</td>\n    </tr>\n  </tbody>\n</table>\n</div>",
       "datasetInfos": [
        {
         "name": "df",
         "schema": {
          "fields": [
           {
            "metadata": {},
            "name": "items.contentDetails.caption",
            "nullable": true,
            "type": "string"
           },
           {
            "metadata": {},
            "name": "items.contentDetails.contentRating.ytRating",
            "nullable": true,
            "type": "string"
           },
           {
            "metadata": {},
            "name": "items.contentDetails.definition",
            "nullable": true,
            "type": "string"
           },
           {
            "metadata": {},
            "name": "items.contentDetails.dimension",
            "nullable": true,
            "type": "string"
           },
           {
            "metadata": {},
            "name": "items.contentDetails.duration",
            "nullable": true,
            "type": "string"
           },
           {
            "metadata": {},
            "name": "items.contentDetails.licensedContent",
            "nullable": true,
            "type": "boolean"
           },
           {
            "metadata": {},
            "name": "items.contentDetails.projection",
            "nullable": true,
            "type": "string"
           },
           {
            "metadata": {},
            "name": "items.etag",
            "nullable": true,
            "type": "string"
           },
           {
            "metadata": {},
            "name": "items.id",
            "nullable": true,
            "type": "string"
           },
           {
            "metadata": {},
            "name": "items.kind",
            "nullable": true,
            "type": "string"
           },
           {
            "metadata": {},
            "name": "items.snippet.categoryId",
            "nullable": true,
            "type": "string"
           },
           {
            "metadata": {},
            "name": "items.snippet.channelId",
            "nullable": true,
            "type": "string"
           },
           {
            "metadata": {},
            "name": "items.snippet.channelTitle",
            "nullable": true,
            "type": "string"
           },
           {
            "metadata": {},
            "name": "items.snippet.defaultAudioLanguage",
            "nullable": true,
            "type": "string"
           },
           {
            "metadata": {},
            "name": "items.snippet.defaultLanguage",
            "nullable": true,
            "type": "string"
           },
           {
            "metadata": {},
            "name": "items.snippet.description",
            "nullable": true,
            "type": "string"
           },
           {
            "metadata": {},
            "name": "items.snippet.liveBroadcastContent",
            "nullable": true,
            "type": "string"
           },
           {
            "metadata": {},
            "name": "items.snippet.localized.description",
            "nullable": true,
            "type": "string"
           },
           {
            "metadata": {},
            "name": "items.snippet.localized.title",
            "nullable": true,
            "type": "string"
           },
           {
            "metadata": {},
            "name": "items.snippet.publishedAt",
            "nullable": true,
            "type": "string"
           },
           {
            "metadata": {},
            "name": "items.snippet.thumbnails.default.height",
            "nullable": true,
            "type": "long"
           },
           {
            "metadata": {},
            "name": "items.snippet.thumbnails.default.url",
            "nullable": true,
            "type": "string"
           },
           {
            "metadata": {},
            "name": "items.snippet.thumbnails.default.width",
            "nullable": true,
            "type": "long"
           },
           {
            "metadata": {},
            "name": "items.snippet.thumbnails.high.height",
            "nullable": true,
            "type": "long"
           },
           {
            "metadata": {},
            "name": "items.snippet.thumbnails.high.url",
            "nullable": true,
            "type": "string"
           },
           {
            "metadata": {},
            "name": "items.snippet.thumbnails.high.width",
            "nullable": true,
            "type": "long"
           },
           {
            "metadata": {},
            "name": "items.snippet.thumbnails.maxres.height",
            "nullable": true,
            "type": "long"
           },
           {
            "metadata": {},
            "name": "items.snippet.thumbnails.maxres.url",
            "nullable": true,
            "type": "string"
           },
           {
            "metadata": {},
            "name": "items.snippet.thumbnails.maxres.width",
            "nullable": true,
            "type": "long"
           },
           {
            "metadata": {},
            "name": "items.snippet.thumbnails.medium.height",
            "nullable": true,
            "type": "long"
           },
           {
            "metadata": {},
            "name": "items.snippet.thumbnails.medium.url",
            "nullable": true,
            "type": "string"
           },
           {
            "metadata": {},
            "name": "items.snippet.thumbnails.medium.width",
            "nullable": true,
            "type": "long"
           },
           {
            "metadata": {},
            "name": "items.snippet.thumbnails.standard.height",
            "nullable": true,
            "type": "long"
           },
           {
            "metadata": {},
            "name": "items.snippet.thumbnails.standard.url",
            "nullable": true,
            "type": "string"
           },
           {
            "metadata": {},
            "name": "items.snippet.thumbnails.standard.width",
            "nullable": true,
            "type": "long"
           },
           {
            "metadata": {},
            "name": "items.snippet.title",
            "nullable": true,
            "type": "string"
           },
           {
            "metadata": {},
            "name": "items.statistics.commentCount",
            "nullable": true,
            "type": "string"
           },
           {
            "metadata": {},
            "name": "items.statistics.dislikeCount",
            "nullable": true,
            "type": "string"
           },
           {
            "metadata": {},
            "name": "items.statistics.favoriteCount",
            "nullable": true,
            "type": "string"
           },
           {
            "metadata": {},
            "name": "items.statistics.likeCount",
            "nullable": true,
            "type": "string"
           },
           {
            "metadata": {},
            "name": "items.statistics.viewCount",
            "nullable": true,
            "type": "string"
           },
           {
            "metadata": {},
            "name": "items.status.embeddable",
            "nullable": true,
            "type": "boolean"
           },
           {
            "metadata": {},
            "name": "items.status.license",
            "nullable": true,
            "type": "string"
           },
           {
            "metadata": {},
            "name": "items.status.madeForKids",
            "nullable": true,
            "type": "boolean"
           },
           {
            "metadata": {},
            "name": "items.status.privacyStatus",
            "nullable": true,
            "type": "string"
           },
           {
            "metadata": {},
            "name": "items.status.publicStatsViewable",
            "nullable": true,
            "type": "boolean"
           },
           {
            "metadata": {},
            "name": "items.status.uploadStatus",
            "nullable": true,
            "type": "string"
           },
           {
            "metadata": {},
            "name": "pageInfo.resultsPerPage",
            "nullable": true,
            "type": "long"
           },
           {
            "metadata": {},
            "name": "pageInfo.totalResults",
            "nullable": true,
            "type": "long"
           }
          ],
          "type": "struct"
         },
         "tableIdentifier": null,
         "typeStr": "pyspark.sql.dataframe.DataFrame"
        }
       ],
       "removedWidgets": [],
       "textData": "<div class=\"ansiout\">Out[16]: </div>",
       "type": "htmlSandbox"
      }
     },
     "output_type": "display_data"
    }
   ],
   "source": [
    "df = df.drop('etag').drop('kind')\n",
    "df.toPandas().head(5)"
   ]
  },
  {
   "cell_type": "markdown",
   "metadata": {
    "application/vnd.databricks.v1+cell": {
     "inputWidgets": {},
     "nuid": "721ff10b-de9f-4d6f-9724-e842422d7759",
     "showTitle": false,
     "title": ""
    }
   },
   "source": [
    "Now comes an interesting problem: we need the entire dataframe to be processed so its column names become sanitized. There are several way to achieve this...\n",
    "\n",
    "Using `functools.reduce` ([docs](https://docs.python.org/3/library/functools.html#functools.reduce)) is probably the most elegant way to achieve this, but it's not the easiest for beginners... Have a try! The most important is that you end up with the final result: choose your method."
   ]
  },
  {
   "cell_type": "code",
   "execution_count": null,
   "metadata": {
    "application/vnd.databricks.v1+cell": {
     "inputWidgets": {},
     "nuid": "f6b4e95f-aad6-41af-ba69-f4fe63d9f9b2",
     "showTitle": false,
     "title": ""
    }
   },
   "outputs": [
    {
     "data": {
      "text/html": [
       "<style scoped>\n",
       "  .ansiout {\n",
       "    display: block;\n",
       "    unicode-bidi: embed;\n",
       "    white-space: pre-wrap;\n",
       "    word-wrap: break-word;\n",
       "    word-break: break-all;\n",
       "    font-family: \"Source Code Pro\", \"Menlo\", monospace;;\n",
       "    font-size: 13px;\n",
       "    color: #555;\n",
       "    margin-left: 4px;\n",
       "    line-height: 19px;\n",
       "  }\n",
       "</style>\n",
       "<div class=\"ansiout\">Out[17]: [&#39;contentDetails_caption&#39;,\n",
       " &#39;contentDetails_contentRating_ytRating&#39;,\n",
       " &#39;contentDetails_definition&#39;,\n",
       " &#39;contentDetails_dimension&#39;,\n",
       " &#39;contentDetails_duration&#39;,\n",
       " &#39;contentDetails_licensedContent&#39;,\n",
       " &#39;contentDetails_projection&#39;,\n",
       " &#39;etag&#39;,\n",
       " &#39;id&#39;,\n",
       " &#39;kind&#39;,\n",
       " &#39;snippet_categoryId&#39;,\n",
       " &#39;snippet_channelId&#39;,\n",
       " &#39;snippet_channelTitle&#39;,\n",
       " &#39;snippet_defaultAudioLanguage&#39;,\n",
       " &#39;snippet_defaultLanguage&#39;,\n",
       " &#39;snippet_description&#39;,\n",
       " &#39;snippet_liveBroadcastContent&#39;,\n",
       " &#39;snippet_localized_description&#39;,\n",
       " &#39;snippet_localized_title&#39;,\n",
       " &#39;snippet_publishedAt&#39;,\n",
       " &#39;snippet_thumbnails_default_height&#39;,\n",
       " &#39;snippet_thumbnails_default_url&#39;,\n",
       " &#39;snippet_thumbnails_default_width&#39;,\n",
       " &#39;snippet_thumbnails_high_height&#39;,\n",
       " &#39;snippet_thumbnails_high_url&#39;,\n",
       " &#39;snippet_thumbnails_high_width&#39;,\n",
       " &#39;snippet_thumbnails_maxres_height&#39;,\n",
       " &#39;snippet_thumbnails_maxres_url&#39;,\n",
       " &#39;snippet_thumbnails_maxres_width&#39;,\n",
       " &#39;snippet_thumbnails_medium_height&#39;,\n",
       " &#39;snippet_thumbnails_medium_url&#39;,\n",
       " &#39;snippet_thumbnails_medium_width&#39;,\n",
       " &#39;snippet_thumbnails_standard_height&#39;,\n",
       " &#39;snippet_thumbnails_standard_url&#39;,\n",
       " &#39;snippet_thumbnails_standard_width&#39;,\n",
       " &#39;snippet_title&#39;,\n",
       " &#39;statistics_commentCount&#39;,\n",
       " &#39;statistics_dislikeCount&#39;,\n",
       " &#39;statistics_favoriteCount&#39;,\n",
       " &#39;statistics_likeCount&#39;,\n",
       " &#39;statistics_viewCount&#39;,\n",
       " &#39;status_embeddable&#39;,\n",
       " &#39;status_license&#39;,\n",
       " &#39;status_madeForKids&#39;,\n",
       " &#39;status_privacyStatus&#39;,\n",
       " &#39;status_publicStatsViewable&#39;,\n",
       " &#39;status_uploadStatus&#39;,\n",
       " &#39;resultsPerPage&#39;,\n",
       " &#39;totalResults&#39;]</div>"
      ]
     },
     "metadata": {
      "application/vnd.databricks.v1+output": {
       "addedWidgets": {},
       "arguments": {},
       "data": "<div class=\"ansiout\">Out[17]: [&#39;contentDetails_caption&#39;,\n &#39;contentDetails_contentRating_ytRating&#39;,\n &#39;contentDetails_definition&#39;,\n &#39;contentDetails_dimension&#39;,\n &#39;contentDetails_duration&#39;,\n &#39;contentDetails_licensedContent&#39;,\n &#39;contentDetails_projection&#39;,\n &#39;etag&#39;,\n &#39;id&#39;,\n &#39;kind&#39;,\n &#39;snippet_categoryId&#39;,\n &#39;snippet_channelId&#39;,\n &#39;snippet_channelTitle&#39;,\n &#39;snippet_defaultAudioLanguage&#39;,\n &#39;snippet_defaultLanguage&#39;,\n &#39;snippet_description&#39;,\n &#39;snippet_liveBroadcastContent&#39;,\n &#39;snippet_localized_description&#39;,\n &#39;snippet_localized_title&#39;,\n &#39;snippet_publishedAt&#39;,\n &#39;snippet_thumbnails_default_height&#39;,\n &#39;snippet_thumbnails_default_url&#39;,\n &#39;snippet_thumbnails_default_width&#39;,\n &#39;snippet_thumbnails_high_height&#39;,\n &#39;snippet_thumbnails_high_url&#39;,\n &#39;snippet_thumbnails_high_width&#39;,\n &#39;snippet_thumbnails_maxres_height&#39;,\n &#39;snippet_thumbnails_maxres_url&#39;,\n &#39;snippet_thumbnails_maxres_width&#39;,\n &#39;snippet_thumbnails_medium_height&#39;,\n &#39;snippet_thumbnails_medium_url&#39;,\n &#39;snippet_thumbnails_medium_width&#39;,\n &#39;snippet_thumbnails_standard_height&#39;,\n &#39;snippet_thumbnails_standard_url&#39;,\n &#39;snippet_thumbnails_standard_width&#39;,\n &#39;snippet_title&#39;,\n &#39;statistics_commentCount&#39;,\n &#39;statistics_dislikeCount&#39;,\n &#39;statistics_favoriteCount&#39;,\n &#39;statistics_likeCount&#39;,\n &#39;statistics_viewCount&#39;,\n &#39;status_embeddable&#39;,\n &#39;status_license&#39;,\n &#39;status_madeForKids&#39;,\n &#39;status_privacyStatus&#39;,\n &#39;status_publicStatsViewable&#39;,\n &#39;status_uploadStatus&#39;,\n &#39;resultsPerPage&#39;,\n &#39;totalResults&#39;]</div>",
       "datasetInfos": [
        {
         "name": "df_renamed",
         "schema": {
          "fields": [
           {
            "metadata": {},
            "name": "contentDetails_caption",
            "nullable": true,
            "type": "string"
           },
           {
            "metadata": {},
            "name": "contentDetails_contentRating_ytRating",
            "nullable": true,
            "type": "string"
           },
           {
            "metadata": {},
            "name": "contentDetails_definition",
            "nullable": true,
            "type": "string"
           },
           {
            "metadata": {},
            "name": "contentDetails_dimension",
            "nullable": true,
            "type": "string"
           },
           {
            "metadata": {},
            "name": "contentDetails_duration",
            "nullable": true,
            "type": "string"
           },
           {
            "metadata": {},
            "name": "contentDetails_licensedContent",
            "nullable": true,
            "type": "boolean"
           },
           {
            "metadata": {},
            "name": "contentDetails_projection",
            "nullable": true,
            "type": "string"
           },
           {
            "metadata": {},
            "name": "etag",
            "nullable": true,
            "type": "string"
           },
           {
            "metadata": {},
            "name": "id",
            "nullable": true,
            "type": "string"
           },
           {
            "metadata": {},
            "name": "kind",
            "nullable": true,
            "type": "string"
           },
           {
            "metadata": {},
            "name": "snippet_categoryId",
            "nullable": true,
            "type": "string"
           },
           {
            "metadata": {},
            "name": "snippet_channelId",
            "nullable": true,
            "type": "string"
           },
           {
            "metadata": {},
            "name": "snippet_channelTitle",
            "nullable": true,
            "type": "string"
           },
           {
            "metadata": {},
            "name": "snippet_defaultAudioLanguage",
            "nullable": true,
            "type": "string"
           },
           {
            "metadata": {},
            "name": "snippet_defaultLanguage",
            "nullable": true,
            "type": "string"
           },
           {
            "metadata": {},
            "name": "snippet_description",
            "nullable": true,
            "type": "string"
           },
           {
            "metadata": {},
            "name": "snippet_liveBroadcastContent",
            "nullable": true,
            "type": "string"
           },
           {
            "metadata": {},
            "name": "snippet_localized_description",
            "nullable": true,
            "type": "string"
           },
           {
            "metadata": {},
            "name": "snippet_localized_title",
            "nullable": true,
            "type": "string"
           },
           {
            "metadata": {},
            "name": "snippet_publishedAt",
            "nullable": true,
            "type": "string"
           },
           {
            "metadata": {},
            "name": "snippet_thumbnails_default_height",
            "nullable": true,
            "type": "long"
           },
           {
            "metadata": {},
            "name": "snippet_thumbnails_default_url",
            "nullable": true,
            "type": "string"
           },
           {
            "metadata": {},
            "name": "snippet_thumbnails_default_width",
            "nullable": true,
            "type": "long"
           },
           {
            "metadata": {},
            "name": "snippet_thumbnails_high_height",
            "nullable": true,
            "type": "long"
           },
           {
            "metadata": {},
            "name": "snippet_thumbnails_high_url",
            "nullable": true,
            "type": "string"
           },
           {
            "metadata": {},
            "name": "snippet_thumbnails_high_width",
            "nullable": true,
            "type": "long"
           },
           {
            "metadata": {},
            "name": "snippet_thumbnails_maxres_height",
            "nullable": true,
            "type": "long"
           },
           {
            "metadata": {},
            "name": "snippet_thumbnails_maxres_url",
            "nullable": true,
            "type": "string"
           },
           {
            "metadata": {},
            "name": "snippet_thumbnails_maxres_width",
            "nullable": true,
            "type": "long"
           },
           {
            "metadata": {},
            "name": "snippet_thumbnails_medium_height",
            "nullable": true,
            "type": "long"
           },
           {
            "metadata": {},
            "name": "snippet_thumbnails_medium_url",
            "nullable": true,
            "type": "string"
           },
           {
            "metadata": {},
            "name": "snippet_thumbnails_medium_width",
            "nullable": true,
            "type": "long"
           },
           {
            "metadata": {},
            "name": "snippet_thumbnails_standard_height",
            "nullable": true,
            "type": "long"
           },
           {
            "metadata": {},
            "name": "snippet_thumbnails_standard_url",
            "nullable": true,
            "type": "string"
           },
           {
            "metadata": {},
            "name": "snippet_thumbnails_standard_width",
            "nullable": true,
            "type": "long"
           },
           {
            "metadata": {},
            "name": "snippet_title",
            "nullable": true,
            "type": "string"
           },
           {
            "metadata": {},
            "name": "statistics_commentCount",
            "nullable": true,
            "type": "string"
           },
           {
            "metadata": {},
            "name": "statistics_dislikeCount",
            "nullable": true,
            "type": "string"
           },
           {
            "metadata": {},
            "name": "statistics_favoriteCount",
            "nullable": true,
            "type": "string"
           },
           {
            "metadata": {},
            "name": "statistics_likeCount",
            "nullable": true,
            "type": "string"
           },
           {
            "metadata": {},
            "name": "statistics_viewCount",
            "nullable": true,
            "type": "string"
           },
           {
            "metadata": {},
            "name": "status_embeddable",
            "nullable": true,
            "type": "boolean"
           },
           {
            "metadata": {},
            "name": "status_license",
            "nullable": true,
            "type": "string"
           },
           {
            "metadata": {},
            "name": "status_madeForKids",
            "nullable": true,
            "type": "boolean"
           },
           {
            "metadata": {},
            "name": "status_privacyStatus",
            "nullable": true,
            "type": "string"
           },
           {
            "metadata": {},
            "name": "status_publicStatsViewable",
            "nullable": true,
            "type": "boolean"
           },
           {
            "metadata": {},
            "name": "status_uploadStatus",
            "nullable": true,
            "type": "string"
           },
           {
            "metadata": {},
            "name": "resultsPerPage",
            "nullable": true,
            "type": "long"
           },
           {
            "metadata": {},
            "name": "totalResults",
            "nullable": true,
            "type": "long"
           }
          ],
          "type": "struct"
         },
         "tableIdentifier": null,
         "typeStr": "pyspark.sql.dataframe.DataFrame"
        }
       ],
       "removedWidgets": [],
       "type": "html"
      }
     },
     "output_type": "display_data"
    }
   ],
   "source": [
    "# TODO: create a new DataFrame with all columns sanitized: `df_renamed`\n",
    "### BEGIN STRIP ###\n",
    "from functools import reduce\n",
    "\n",
    "#df_renamed = df.toDF(*(sanitize_column_name(col) for col in df.columns))\n",
    "\n",
    "df_renamed = reduce(\n",
    "    lambda memo_df, column_name: memo_df.withColumnRenamed(\n",
    "    column_name, sanitize_column_name(column_name)),\n",
    "    df.columns , df)\n",
    "\n",
    "### END STRIP ###\n",
    "\n",
    "# TODO: print out the columns of `df_renamed` to check if their names have been properly renamed\n",
    "### BEGIN STRIP ###\n",
    "df_renamed.columns\n",
    "### END STRIP ###"
   ]
  },
  {
   "cell_type": "markdown",
   "metadata": {
    "application/vnd.databricks.v1+cell": {
     "inputWidgets": {},
     "nuid": "8514874e-4c10-442a-ba88-d680fba52dc6",
     "showTitle": false,
     "title": ""
    }
   },
   "source": [
    "Now we should be able to query this DataFrame without having to mess with annoying _backticks_ escaping.\n",
    "\n",
    "Let's try it out..."
   ]
  },
  {
   "cell_type": "code",
   "execution_count": null,
   "metadata": {
    "application/vnd.databricks.v1+cell": {
     "inputWidgets": {},
     "nuid": "2d21e3ff-7190-4979-8d17-3f112c8ee922",
     "showTitle": false,
     "title": ""
    }
   },
   "outputs": [
    {
     "data": {
      "text/html": [
       "<style scoped>\n",
       "  .ansiout {\n",
       "    display: block;\n",
       "    unicode-bidi: embed;\n",
       "    white-space: pre-wrap;\n",
       "    word-wrap: break-word;\n",
       "    word-break: break-all;\n",
       "    font-family: \"Source Code Pro\", \"Menlo\", monospace;;\n",
       "    font-size: 13px;\n",
       "    color: #555;\n",
       "    margin-left: 4px;\n",
       "    line-height: 19px;\n",
       "  }\n",
       "</style>\n",
       "<div class=\"ansiout\">+----------------------+\n",
       "contentDetails_caption|\n",
       "+----------------------+\n",
       "                 false|\n",
       "                 false|\n",
       "                 false|\n",
       "                 false|\n",
       "                 false|\n",
       "+----------------------+\n",
       "only showing top 5 rows\n",
       "\n",
       "</div>"
      ]
     },
     "metadata": {
      "application/vnd.databricks.v1+output": {
       "addedWidgets": {},
       "arguments": {},
       "data": "<div class=\"ansiout\">+----------------------+\n|contentDetails_caption|\n+----------------------+\n|                 false|\n|                 false|\n|                 false|\n|                 false|\n|                 false|\n+----------------------+\nonly showing top 5 rows\n\n</div>",
       "datasetInfos": [],
       "removedWidgets": [],
       "type": "html"
      }
     },
     "output_type": "display_data"
    }
   ],
   "source": [
    "# TODO: select the first column of `df` and show the first 5 rows\n",
    "### BEGIN STRIP ###\n",
    "df_renamed.select(\"contentDetails_caption\").show(5)\n",
    "### END STRIP ###"
   ]
  },
  {
   "cell_type": "markdown",
   "metadata": {
    "application/vnd.databricks.v1+cell": {
     "inputWidgets": {},
     "nuid": "f0eaf9f7-eb74-4c9b-b070-ec7af3efe0f0",
     "showTitle": false,
     "title": ""
    }
   },
   "source": [
    "It works! :)"
   ]
  },
  {
   "cell_type": "markdown",
   "metadata": {
    "application/vnd.databricks.v1+cell": {
     "inputWidgets": {},
     "nuid": "833e2395-1c34-41b3-88ce-4c8fd32faa3a",
     "showTitle": false,
     "title": ""
    }
   },
   "source": [
    "## Updating the schema\n",
    "\n",
    "Let's have a look at the current schema, and more importantly, check out the types of the statistics columns..."
   ]
  },
  {
   "cell_type": "code",
   "execution_count": null,
   "metadata": {
    "application/vnd.databricks.v1+cell": {
     "inputWidgets": {},
     "nuid": "7b725993-4bdf-4118-9825-2b7e16623f87",
     "showTitle": false,
     "title": ""
    }
   },
   "outputs": [
    {
     "data": {
      "text/html": [
       "<style scoped>\n",
       "  .ansiout {\n",
       "    display: block;\n",
       "    unicode-bidi: embed;\n",
       "    white-space: pre-wrap;\n",
       "    word-wrap: break-word;\n",
       "    word-break: break-all;\n",
       "    font-family: \"Source Code Pro\", \"Menlo\", monospace;;\n",
       "    font-size: 13px;\n",
       "    color: #555;\n",
       "    margin-left: 4px;\n",
       "    line-height: 19px;\n",
       "  }\n",
       "</style>\n",
       "<div class=\"ansiout\">root\n",
       "-- contentDetails_caption: string (nullable = true)\n",
       "-- contentDetails_contentRating_ytRating: string (nullable = true)\n",
       "-- contentDetails_definition: string (nullable = true)\n",
       "-- contentDetails_dimension: string (nullable = true)\n",
       "-- contentDetails_duration: string (nullable = true)\n",
       "-- contentDetails_licensedContent: boolean (nullable = true)\n",
       "-- contentDetails_projection: string (nullable = true)\n",
       "-- etag: string (nullable = true)\n",
       "-- id: string (nullable = true)\n",
       "-- kind: string (nullable = true)\n",
       "-- snippet_categoryId: string (nullable = true)\n",
       "-- snippet_channelId: string (nullable = true)\n",
       "-- snippet_channelTitle: string (nullable = true)\n",
       "-- snippet_defaultAudioLanguage: string (nullable = true)\n",
       "-- snippet_defaultLanguage: string (nullable = true)\n",
       "-- snippet_description: string (nullable = true)\n",
       "-- snippet_liveBroadcastContent: string (nullable = true)\n",
       "-- snippet_localized_description: string (nullable = true)\n",
       "-- snippet_localized_title: string (nullable = true)\n",
       "-- snippet_publishedAt: string (nullable = true)\n",
       "-- snippet_thumbnails_default_height: long (nullable = true)\n",
       "-- snippet_thumbnails_default_url: string (nullable = true)\n",
       "-- snippet_thumbnails_default_width: long (nullable = true)\n",
       "-- snippet_thumbnails_high_height: long (nullable = true)\n",
       "-- snippet_thumbnails_high_url: string (nullable = true)\n",
       "-- snippet_thumbnails_high_width: long (nullable = true)\n",
       "-- snippet_thumbnails_maxres_height: long (nullable = true)\n",
       "-- snippet_thumbnails_maxres_url: string (nullable = true)\n",
       "-- snippet_thumbnails_maxres_width: long (nullable = true)\n",
       "-- snippet_thumbnails_medium_height: long (nullable = true)\n",
       "-- snippet_thumbnails_medium_url: string (nullable = true)\n",
       "-- snippet_thumbnails_medium_width: long (nullable = true)\n",
       "-- snippet_thumbnails_standard_height: long (nullable = true)\n",
       "-- snippet_thumbnails_standard_url: string (nullable = true)\n",
       "-- snippet_thumbnails_standard_width: long (nullable = true)\n",
       "-- snippet_title: string (nullable = true)\n",
       "-- statistics_commentCount: string (nullable = true)\n",
       "-- statistics_dislikeCount: string (nullable = true)\n",
       "-- statistics_favoriteCount: string (nullable = true)\n",
       "-- statistics_likeCount: string (nullable = true)\n",
       "-- statistics_viewCount: string (nullable = true)\n",
       "-- status_embeddable: boolean (nullable = true)\n",
       "-- status_license: string (nullable = true)\n",
       "-- status_madeForKids: boolean (nullable = true)\n",
       "-- status_privacyStatus: string (nullable = true)\n",
       "-- status_publicStatsViewable: boolean (nullable = true)\n",
       "-- status_uploadStatus: string (nullable = true)\n",
       "-- resultsPerPage: long (nullable = true)\n",
       "-- totalResults: long (nullable = true)\n",
       "\n",
       "</div>"
      ]
     },
     "metadata": {
      "application/vnd.databricks.v1+output": {
       "addedWidgets": {},
       "arguments": {},
       "data": "<div class=\"ansiout\">root\n |-- contentDetails_caption: string (nullable = true)\n |-- contentDetails_contentRating_ytRating: string (nullable = true)\n |-- contentDetails_definition: string (nullable = true)\n |-- contentDetails_dimension: string (nullable = true)\n |-- contentDetails_duration: string (nullable = true)\n |-- contentDetails_licensedContent: boolean (nullable = true)\n |-- contentDetails_projection: string (nullable = true)\n |-- etag: string (nullable = true)\n |-- id: string (nullable = true)\n |-- kind: string (nullable = true)\n |-- snippet_categoryId: string (nullable = true)\n |-- snippet_channelId: string (nullable = true)\n |-- snippet_channelTitle: string (nullable = true)\n |-- snippet_defaultAudioLanguage: string (nullable = true)\n |-- snippet_defaultLanguage: string (nullable = true)\n |-- snippet_description: string (nullable = true)\n |-- snippet_liveBroadcastContent: string (nullable = true)\n |-- snippet_localized_description: string (nullable = true)\n |-- snippet_localized_title: string (nullable = true)\n |-- snippet_publishedAt: string (nullable = true)\n |-- snippet_thumbnails_default_height: long (nullable = true)\n |-- snippet_thumbnails_default_url: string (nullable = true)\n |-- snippet_thumbnails_default_width: long (nullable = true)\n |-- snippet_thumbnails_high_height: long (nullable = true)\n |-- snippet_thumbnails_high_url: string (nullable = true)\n |-- snippet_thumbnails_high_width: long (nullable = true)\n |-- snippet_thumbnails_maxres_height: long (nullable = true)\n |-- snippet_thumbnails_maxres_url: string (nullable = true)\n |-- snippet_thumbnails_maxres_width: long (nullable = true)\n |-- snippet_thumbnails_medium_height: long (nullable = true)\n |-- snippet_thumbnails_medium_url: string (nullable = true)\n |-- snippet_thumbnails_medium_width: long (nullable = true)\n |-- snippet_thumbnails_standard_height: long (nullable = true)\n |-- snippet_thumbnails_standard_url: string (nullable = true)\n |-- snippet_thumbnails_standard_width: long (nullable = true)\n |-- snippet_title: string (nullable = true)\n |-- statistics_commentCount: string (nullable = true)\n |-- statistics_dislikeCount: string (nullable = true)\n |-- statistics_favoriteCount: string (nullable = true)\n |-- statistics_likeCount: string (nullable = true)\n |-- statistics_viewCount: string (nullable = true)\n |-- status_embeddable: boolean (nullable = true)\n |-- status_license: string (nullable = true)\n |-- status_madeForKids: boolean (nullable = true)\n |-- status_privacyStatus: string (nullable = true)\n |-- status_publicStatsViewable: boolean (nullable = true)\n |-- status_uploadStatus: string (nullable = true)\n |-- resultsPerPage: long (nullable = true)\n |-- totalResults: long (nullable = true)\n\n</div>",
       "datasetInfos": [],
       "removedWidgets": [],
       "type": "html"
      }
     },
     "output_type": "display_data"
    }
   ],
   "source": [
    "# TODO: print out the schema of `df_renamed`\n",
    "### BEGIN STRIP ###\n",
    "df_renamed.printSchema()\n",
    "### END STRIP ###"
   ]
  },
  {
   "cell_type": "markdown",
   "metadata": {
    "application/vnd.databricks.v1+cell": {
     "inputWidgets": {},
     "nuid": "7fb7fc67-9df6-4a7e-9d34-7ecb1f2de958",
     "showTitle": false,
     "title": ""
    }
   },
   "source": [
    "As you just saw, all the statistics are casted as `string` instead of numbers! This is bad for later analysis, we need to fix this now. We put you on the right track by importing the type `LongType` that you need to use to cast all your statistics columns into."
   ]
  },
  {
   "cell_type": "code",
   "execution_count": null,
   "metadata": {
    "application/vnd.databricks.v1+cell": {
     "inputWidgets": {},
     "nuid": "e35b6a0f-5289-476d-a9f8-fcdcc6258d29",
     "showTitle": false,
     "title": ""
    }
   },
   "outputs": [
    {
     "data": {
      "text/html": [
       "<style scoped>\n",
       "  .ansiout {\n",
       "    display: block;\n",
       "    unicode-bidi: embed;\n",
       "    white-space: pre-wrap;\n",
       "    word-wrap: break-word;\n",
       "    word-break: break-all;\n",
       "    font-family: \"Source Code Pro\", \"Menlo\", monospace;;\n",
       "    font-size: 13px;\n",
       "    color: #555;\n",
       "    margin-left: 4px;\n",
       "    line-height: 19px;\n",
       "  }\n",
       "</style>\n",
       "<div class=\"ansiout\">root\n",
       "-- contentDetails_caption: string (nullable = true)\n",
       "-- contentDetails_contentRating_ytRating: string (nullable = true)\n",
       "-- contentDetails_definition: string (nullable = true)\n",
       "-- contentDetails_dimension: string (nullable = true)\n",
       "-- contentDetails_duration: string (nullable = true)\n",
       "-- contentDetails_licensedContent: boolean (nullable = true)\n",
       "-- contentDetails_projection: string (nullable = true)\n",
       "-- etag: string (nullable = true)\n",
       "-- id: string (nullable = true)\n",
       "-- kind: string (nullable = true)\n",
       "-- snippet_categoryId: string (nullable = true)\n",
       "-- snippet_channelId: string (nullable = true)\n",
       "-- snippet_channelTitle: string (nullable = true)\n",
       "-- snippet_defaultAudioLanguage: string (nullable = true)\n",
       "-- snippet_defaultLanguage: string (nullable = true)\n",
       "-- snippet_description: string (nullable = true)\n",
       "-- snippet_liveBroadcastContent: string (nullable = true)\n",
       "-- snippet_localized_description: string (nullable = true)\n",
       "-- snippet_localized_title: string (nullable = true)\n",
       "-- snippet_publishedAt: string (nullable = true)\n",
       "-- snippet_thumbnails_default_height: long (nullable = true)\n",
       "-- snippet_thumbnails_default_url: string (nullable = true)\n",
       "-- snippet_thumbnails_default_width: long (nullable = true)\n",
       "-- snippet_thumbnails_high_height: long (nullable = true)\n",
       "-- snippet_thumbnails_high_url: string (nullable = true)\n",
       "-- snippet_thumbnails_high_width: long (nullable = true)\n",
       "-- snippet_thumbnails_maxres_height: long (nullable = true)\n",
       "-- snippet_thumbnails_maxres_url: string (nullable = true)\n",
       "-- snippet_thumbnails_maxres_width: long (nullable = true)\n",
       "-- snippet_thumbnails_medium_height: long (nullable = true)\n",
       "-- snippet_thumbnails_medium_url: string (nullable = true)\n",
       "-- snippet_thumbnails_medium_width: long (nullable = true)\n",
       "-- snippet_thumbnails_standard_height: long (nullable = true)\n",
       "-- snippet_thumbnails_standard_url: string (nullable = true)\n",
       "-- snippet_thumbnails_standard_width: long (nullable = true)\n",
       "-- snippet_title: string (nullable = true)\n",
       "-- statistics_commentCount: long (nullable = true)\n",
       "-- statistics_dislikeCount: long (nullable = true)\n",
       "-- statistics_favoriteCount: long (nullable = true)\n",
       "-- statistics_likeCount: long (nullable = true)\n",
       "-- statistics_viewCount: long (nullable = true)\n",
       "-- status_embeddable: boolean (nullable = true)\n",
       "-- status_license: string (nullable = true)\n",
       "-- status_madeForKids: boolean (nullable = true)\n",
       "-- status_privacyStatus: string (nullable = true)\n",
       "-- status_publicStatsViewable: boolean (nullable = true)\n",
       "-- status_uploadStatus: string (nullable = true)\n",
       "-- resultsPerPage: long (nullable = true)\n",
       "-- totalResults: long (nullable = true)\n",
       "\n",
       "</div>"
      ]
     },
     "metadata": {
      "application/vnd.databricks.v1+output": {
       "addedWidgets": {},
       "arguments": {},
       "data": "<div class=\"ansiout\">root\n |-- contentDetails_caption: string (nullable = true)\n |-- contentDetails_contentRating_ytRating: string (nullable = true)\n |-- contentDetails_definition: string (nullable = true)\n |-- contentDetails_dimension: string (nullable = true)\n |-- contentDetails_duration: string (nullable = true)\n |-- contentDetails_licensedContent: boolean (nullable = true)\n |-- contentDetails_projection: string (nullable = true)\n |-- etag: string (nullable = true)\n |-- id: string (nullable = true)\n |-- kind: string (nullable = true)\n |-- snippet_categoryId: string (nullable = true)\n |-- snippet_channelId: string (nullable = true)\n |-- snippet_channelTitle: string (nullable = true)\n |-- snippet_defaultAudioLanguage: string (nullable = true)\n |-- snippet_defaultLanguage: string (nullable = true)\n |-- snippet_description: string (nullable = true)\n |-- snippet_liveBroadcastContent: string (nullable = true)\n |-- snippet_localized_description: string (nullable = true)\n |-- snippet_localized_title: string (nullable = true)\n |-- snippet_publishedAt: string (nullable = true)\n |-- snippet_thumbnails_default_height: long (nullable = true)\n |-- snippet_thumbnails_default_url: string (nullable = true)\n |-- snippet_thumbnails_default_width: long (nullable = true)\n |-- snippet_thumbnails_high_height: long (nullable = true)\n |-- snippet_thumbnails_high_url: string (nullable = true)\n |-- snippet_thumbnails_high_width: long (nullable = true)\n |-- snippet_thumbnails_maxres_height: long (nullable = true)\n |-- snippet_thumbnails_maxres_url: string (nullable = true)\n |-- snippet_thumbnails_maxres_width: long (nullable = true)\n |-- snippet_thumbnails_medium_height: long (nullable = true)\n |-- snippet_thumbnails_medium_url: string (nullable = true)\n |-- snippet_thumbnails_medium_width: long (nullable = true)\n |-- snippet_thumbnails_standard_height: long (nullable = true)\n |-- snippet_thumbnails_standard_url: string (nullable = true)\n |-- snippet_thumbnails_standard_width: long (nullable = true)\n |-- snippet_title: string (nullable = true)\n |-- statistics_commentCount: long (nullable = true)\n |-- statistics_dislikeCount: long (nullable = true)\n |-- statistics_favoriteCount: long (nullable = true)\n |-- statistics_likeCount: long (nullable = true)\n |-- statistics_viewCount: long (nullable = true)\n |-- status_embeddable: boolean (nullable = true)\n |-- status_license: string (nullable = true)\n |-- status_madeForKids: boolean (nullable = true)\n |-- status_privacyStatus: string (nullable = true)\n |-- status_publicStatsViewable: boolean (nullable = true)\n |-- status_uploadStatus: string (nullable = true)\n |-- resultsPerPage: long (nullable = true)\n |-- totalResults: long (nullable = true)\n\n</div>",
       "datasetInfos": [
        {
         "name": "df_casted",
         "schema": {
          "fields": [
           {
            "metadata": {},
            "name": "contentDetails_caption",
            "nullable": true,
            "type": "string"
           },
           {
            "metadata": {},
            "name": "contentDetails_contentRating_ytRating",
            "nullable": true,
            "type": "string"
           },
           {
            "metadata": {},
            "name": "contentDetails_definition",
            "nullable": true,
            "type": "string"
           },
           {
            "metadata": {},
            "name": "contentDetails_dimension",
            "nullable": true,
            "type": "string"
           },
           {
            "metadata": {},
            "name": "contentDetails_duration",
            "nullable": true,
            "type": "string"
           },
           {
            "metadata": {},
            "name": "contentDetails_licensedContent",
            "nullable": true,
            "type": "boolean"
           },
           {
            "metadata": {},
            "name": "contentDetails_projection",
            "nullable": true,
            "type": "string"
           },
           {
            "metadata": {},
            "name": "etag",
            "nullable": true,
            "type": "string"
           },
           {
            "metadata": {},
            "name": "id",
            "nullable": true,
            "type": "string"
           },
           {
            "metadata": {},
            "name": "kind",
            "nullable": true,
            "type": "string"
           },
           {
            "metadata": {},
            "name": "snippet_categoryId",
            "nullable": true,
            "type": "string"
           },
           {
            "metadata": {},
            "name": "snippet_channelId",
            "nullable": true,
            "type": "string"
           },
           {
            "metadata": {},
            "name": "snippet_channelTitle",
            "nullable": true,
            "type": "string"
           },
           {
            "metadata": {},
            "name": "snippet_defaultAudioLanguage",
            "nullable": true,
            "type": "string"
           },
           {
            "metadata": {},
            "name": "snippet_defaultLanguage",
            "nullable": true,
            "type": "string"
           },
           {
            "metadata": {},
            "name": "snippet_description",
            "nullable": true,
            "type": "string"
           },
           {
            "metadata": {},
            "name": "snippet_liveBroadcastContent",
            "nullable": true,
            "type": "string"
           },
           {
            "metadata": {},
            "name": "snippet_localized_description",
            "nullable": true,
            "type": "string"
           },
           {
            "metadata": {},
            "name": "snippet_localized_title",
            "nullable": true,
            "type": "string"
           },
           {
            "metadata": {},
            "name": "snippet_publishedAt",
            "nullable": true,
            "type": "string"
           },
           {
            "metadata": {},
            "name": "snippet_thumbnails_default_height",
            "nullable": true,
            "type": "long"
           },
           {
            "metadata": {},
            "name": "snippet_thumbnails_default_url",
            "nullable": true,
            "type": "string"
           },
           {
            "metadata": {},
            "name": "snippet_thumbnails_default_width",
            "nullable": true,
            "type": "long"
           },
           {
            "metadata": {},
            "name": "snippet_thumbnails_high_height",
            "nullable": true,
            "type": "long"
           },
           {
            "metadata": {},
            "name": "snippet_thumbnails_high_url",
            "nullable": true,
            "type": "string"
           },
           {
            "metadata": {},
            "name": "snippet_thumbnails_high_width",
            "nullable": true,
            "type": "long"
           },
           {
            "metadata": {},
            "name": "snippet_thumbnails_maxres_height",
            "nullable": true,
            "type": "long"
           },
           {
            "metadata": {},
            "name": "snippet_thumbnails_maxres_url",
            "nullable": true,
            "type": "string"
           },
           {
            "metadata": {},
            "name": "snippet_thumbnails_maxres_width",
            "nullable": true,
            "type": "long"
           },
           {
            "metadata": {},
            "name": "snippet_thumbnails_medium_height",
            "nullable": true,
            "type": "long"
           },
           {
            "metadata": {},
            "name": "snippet_thumbnails_medium_url",
            "nullable": true,
            "type": "string"
           },
           {
            "metadata": {},
            "name": "snippet_thumbnails_medium_width",
            "nullable": true,
            "type": "long"
           },
           {
            "metadata": {},
            "name": "snippet_thumbnails_standard_height",
            "nullable": true,
            "type": "long"
           },
           {
            "metadata": {},
            "name": "snippet_thumbnails_standard_url",
            "nullable": true,
            "type": "string"
           },
           {
            "metadata": {},
            "name": "snippet_thumbnails_standard_width",
            "nullable": true,
            "type": "long"
           },
           {
            "metadata": {},
            "name": "snippet_title",
            "nullable": true,
            "type": "string"
           },
           {
            "metadata": {},
            "name": "statistics_commentCount",
            "nullable": true,
            "type": "long"
           },
           {
            "metadata": {},
            "name": "statistics_dislikeCount",
            "nullable": true,
            "type": "long"
           },
           {
            "metadata": {},
            "name": "statistics_favoriteCount",
            "nullable": true,
            "type": "long"
           },
           {
            "metadata": {},
            "name": "statistics_likeCount",
            "nullable": true,
            "type": "long"
           },
           {
            "metadata": {},
            "name": "statistics_viewCount",
            "nullable": true,
            "type": "long"
           },
           {
            "metadata": {},
            "name": "status_embeddable",
            "nullable": true,
            "type": "boolean"
           },
           {
            "metadata": {},
            "name": "status_license",
            "nullable": true,
            "type": "string"
           },
           {
            "metadata": {},
            "name": "status_madeForKids",
            "nullable": true,
            "type": "boolean"
           },
           {
            "metadata": {},
            "name": "status_privacyStatus",
            "nullable": true,
            "type": "string"
           },
           {
            "metadata": {},
            "name": "status_publicStatsViewable",
            "nullable": true,
            "type": "boolean"
           },
           {
            "metadata": {},
            "name": "status_uploadStatus",
            "nullable": true,
            "type": "string"
           },
           {
            "metadata": {},
            "name": "resultsPerPage",
            "nullable": true,
            "type": "long"
           },
           {
            "metadata": {},
            "name": "totalResults",
            "nullable": true,
            "type": "long"
           }
          ],
          "type": "struct"
         },
         "tableIdentifier": null,
         "typeStr": "pyspark.sql.dataframe.DataFrame"
        }
       ],
       "removedWidgets": [],
       "type": "html"
      }
     },
     "output_type": "display_data"
    }
   ],
   "source": [
    "from pyspark.sql import functions as F\n",
    "from pyspark.sql.types import LongType\n",
    "\n",
    "# TODO: cast all the statistics columns to `LongType`: `df_casted`\n",
    "### BEGIN STRIP ###\n",
    "col_cast = ['statistics_commentCount', 'statistics_dislikeCount', 'statistics_favoriteCount', 'statistics_likeCount', 'statistics_viewCount']\n",
    "df_casted = df_renamed\n",
    "for col_name in col_cast :\n",
    "     df_casted = df_casted.withColumn(col_name, df_casted[col_name].cast('long'))\n",
    "### END STRIP ###\n",
    "\n",
    "# TODO: print out the schema, and check if your casting worked\n",
    "### BEGIN STRIP ###\n",
    "df_casted.printSchema()\n",
    "### END STRIP ###"
   ]
  },
  {
   "cell_type": "code",
   "execution_count": null,
   "metadata": {
    "application/vnd.databricks.v1+cell": {
     "inputWidgets": {},
     "nuid": "9574ff0f-a233-4c0d-80c7-a667e9600770",
     "showTitle": false,
     "title": ""
    }
   },
   "outputs": [
    {
     "data": {
      "text/html": [
       "<style scoped>\n",
       "  .ansiout {\n",
       "    display: block;\n",
       "    unicode-bidi: embed;\n",
       "    white-space: pre-wrap;\n",
       "    word-wrap: break-word;\n",
       "    word-break: break-all;\n",
       "    font-family: \"Source Code Pro\", \"Menlo\", monospace;;\n",
       "    font-size: 13px;\n",
       "    color: #555;\n",
       "    margin-left: 4px;\n",
       "    line-height: 19px;\n",
       "  }\n",
       "</style>\n",
       "<div class=\"ansiout\">root\n",
       "-- contentDetails_caption: string (nullable = true)\n",
       "-- contentDetails_contentRating_ytRating: string (nullable = true)\n",
       "-- contentDetails_definition: string (nullable = true)\n",
       "-- contentDetails_dimension: string (nullable = true)\n",
       "-- contentDetails_duration: string (nullable = true)\n",
       "-- contentDetails_licensedContent: boolean (nullable = true)\n",
       "-- contentDetails_projection: string (nullable = true)\n",
       "-- etag: string (nullable = true)\n",
       "-- id: string (nullable = true)\n",
       "-- kind: string (nullable = true)\n",
       "-- snippet_categoryId: string (nullable = true)\n",
       "-- snippet_channelId: string (nullable = true)\n",
       "-- snippet_channelTitle: string (nullable = true)\n",
       "-- snippet_defaultAudioLanguage: string (nullable = true)\n",
       "-- snippet_defaultLanguage: string (nullable = true)\n",
       "-- snippet_liveBroadcastContent: string (nullable = true)\n",
       "-- snippet_publishedAt: string (nullable = true)\n",
       "-- snippet_thumbnails_default_height: long (nullable = true)\n",
       "-- snippet_thumbnails_default_url: string (nullable = true)\n",
       "-- snippet_thumbnails_default_width: long (nullable = true)\n",
       "-- snippet_thumbnails_high_height: long (nullable = true)\n",
       "-- snippet_thumbnails_high_url: string (nullable = true)\n",
       "-- snippet_thumbnails_high_width: long (nullable = true)\n",
       "-- snippet_thumbnails_maxres_height: long (nullable = true)\n",
       "-- snippet_thumbnails_maxres_url: string (nullable = true)\n",
       "-- snippet_thumbnails_maxres_width: long (nullable = true)\n",
       "-- snippet_thumbnails_medium_height: long (nullable = true)\n",
       "-- snippet_thumbnails_medium_url: string (nullable = true)\n",
       "-- snippet_thumbnails_medium_width: long (nullable = true)\n",
       "-- snippet_thumbnails_standard_height: long (nullable = true)\n",
       "-- snippet_thumbnails_standard_url: string (nullable = true)\n",
       "-- snippet_thumbnails_standard_width: long (nullable = true)\n",
       "-- snippet_title: string (nullable = true)\n",
       "-- statistics_commentCount: long (nullable = true)\n",
       "-- statistics_dislikeCount: long (nullable = true)\n",
       "-- statistics_favoriteCount: long (nullable = true)\n",
       "-- statistics_likeCount: long (nullable = true)\n",
       "-- statistics_viewCount: long (nullable = true)\n",
       "-- status_embeddable: boolean (nullable = true)\n",
       "-- status_license: string (nullable = true)\n",
       "-- status_madeForKids: boolean (nullable = true)\n",
       "-- status_privacyStatus: string (nullable = true)\n",
       "-- status_publicStatsViewable: boolean (nullable = true)\n",
       "-- status_uploadStatus: string (nullable = true)\n",
       "-- resultsPerPage: long (nullable = true)\n",
       "-- totalResults: long (nullable = true)\n",
       "\n",
       "</div>"
      ]
     },
     "metadata": {
      "application/vnd.databricks.v1+output": {
       "addedWidgets": {},
       "arguments": {},
       "data": "<div class=\"ansiout\">root\n |-- contentDetails_caption: string (nullable = true)\n |-- contentDetails_contentRating_ytRating: string (nullable = true)\n |-- contentDetails_definition: string (nullable = true)\n |-- contentDetails_dimension: string (nullable = true)\n |-- contentDetails_duration: string (nullable = true)\n |-- contentDetails_licensedContent: boolean (nullable = true)\n |-- contentDetails_projection: string (nullable = true)\n |-- etag: string (nullable = true)\n |-- id: string (nullable = true)\n |-- kind: string (nullable = true)\n |-- snippet_categoryId: string (nullable = true)\n |-- snippet_channelId: string (nullable = true)\n |-- snippet_channelTitle: string (nullable = true)\n |-- snippet_defaultAudioLanguage: string (nullable = true)\n |-- snippet_defaultLanguage: string (nullable = true)\n |-- snippet_liveBroadcastContent: string (nullable = true)\n |-- snippet_publishedAt: string (nullable = true)\n |-- snippet_thumbnails_default_height: long (nullable = true)\n |-- snippet_thumbnails_default_url: string (nullable = true)\n |-- snippet_thumbnails_default_width: long (nullable = true)\n |-- snippet_thumbnails_high_height: long (nullable = true)\n |-- snippet_thumbnails_high_url: string (nullable = true)\n |-- snippet_thumbnails_high_width: long (nullable = true)\n |-- snippet_thumbnails_maxres_height: long (nullable = true)\n |-- snippet_thumbnails_maxres_url: string (nullable = true)\n |-- snippet_thumbnails_maxres_width: long (nullable = true)\n |-- snippet_thumbnails_medium_height: long (nullable = true)\n |-- snippet_thumbnails_medium_url: string (nullable = true)\n |-- snippet_thumbnails_medium_width: long (nullable = true)\n |-- snippet_thumbnails_standard_height: long (nullable = true)\n |-- snippet_thumbnails_standard_url: string (nullable = true)\n |-- snippet_thumbnails_standard_width: long (nullable = true)\n |-- snippet_title: string (nullable = true)\n |-- statistics_commentCount: long (nullable = true)\n |-- statistics_dislikeCount: long (nullable = true)\n |-- statistics_favoriteCount: long (nullable = true)\n |-- statistics_likeCount: long (nullable = true)\n |-- statistics_viewCount: long (nullable = true)\n |-- status_embeddable: boolean (nullable = true)\n |-- status_license: string (nullable = true)\n |-- status_madeForKids: boolean (nullable = true)\n |-- status_privacyStatus: string (nullable = true)\n |-- status_publicStatsViewable: boolean (nullable = true)\n |-- status_uploadStatus: string (nullable = true)\n |-- resultsPerPage: long (nullable = true)\n |-- totalResults: long (nullable = true)\n\n</div>",
       "datasetInfos": [
        {
         "name": "df_clean",
         "schema": {
          "fields": [
           {
            "metadata": {},
            "name": "contentDetails_caption",
            "nullable": true,
            "type": "string"
           },
           {
            "metadata": {},
            "name": "contentDetails_contentRating_ytRating",
            "nullable": true,
            "type": "string"
           },
           {
            "metadata": {},
            "name": "contentDetails_definition",
            "nullable": true,
            "type": "string"
           },
           {
            "metadata": {},
            "name": "contentDetails_dimension",
            "nullable": true,
            "type": "string"
           },
           {
            "metadata": {},
            "name": "contentDetails_duration",
            "nullable": true,
            "type": "string"
           },
           {
            "metadata": {},
            "name": "contentDetails_licensedContent",
            "nullable": true,
            "type": "boolean"
           },
           {
            "metadata": {},
            "name": "contentDetails_projection",
            "nullable": true,
            "type": "string"
           },
           {
            "metadata": {},
            "name": "etag",
            "nullable": true,
            "type": "string"
           },
           {
            "metadata": {},
            "name": "id",
            "nullable": true,
            "type": "string"
           },
           {
            "metadata": {},
            "name": "kind",
            "nullable": true,
            "type": "string"
           },
           {
            "metadata": {},
            "name": "snippet_categoryId",
            "nullable": true,
            "type": "string"
           },
           {
            "metadata": {},
            "name": "snippet_channelId",
            "nullable": true,
            "type": "string"
           },
           {
            "metadata": {},
            "name": "snippet_channelTitle",
            "nullable": true,
            "type": "string"
           },
           {
            "metadata": {},
            "name": "snippet_defaultAudioLanguage",
            "nullable": true,
            "type": "string"
           },
           {
            "metadata": {},
            "name": "snippet_defaultLanguage",
            "nullable": true,
            "type": "string"
           },
           {
            "metadata": {},
            "name": "snippet_liveBroadcastContent",
            "nullable": true,
            "type": "string"
           },
           {
            "metadata": {},
            "name": "snippet_publishedAt",
            "nullable": true,
            "type": "string"
           },
           {
            "metadata": {},
            "name": "snippet_thumbnails_default_height",
            "nullable": true,
            "type": "long"
           },
           {
            "metadata": {},
            "name": "snippet_thumbnails_default_url",
            "nullable": true,
            "type": "string"
           },
           {
            "metadata": {},
            "name": "snippet_thumbnails_default_width",
            "nullable": true,
            "type": "long"
           },
           {
            "metadata": {},
            "name": "snippet_thumbnails_high_height",
            "nullable": true,
            "type": "long"
           },
           {
            "metadata": {},
            "name": "snippet_thumbnails_high_url",
            "nullable": true,
            "type": "string"
           },
           {
            "metadata": {},
            "name": "snippet_thumbnails_high_width",
            "nullable": true,
            "type": "long"
           },
           {
            "metadata": {},
            "name": "snippet_thumbnails_maxres_height",
            "nullable": true,
            "type": "long"
           },
           {
            "metadata": {},
            "name": "snippet_thumbnails_maxres_url",
            "nullable": true,
            "type": "string"
           },
           {
            "metadata": {},
            "name": "snippet_thumbnails_maxres_width",
            "nullable": true,
            "type": "long"
           },
           {
            "metadata": {},
            "name": "snippet_thumbnails_medium_height",
            "nullable": true,
            "type": "long"
           },
           {
            "metadata": {},
            "name": "snippet_thumbnails_medium_url",
            "nullable": true,
            "type": "string"
           },
           {
            "metadata": {},
            "name": "snippet_thumbnails_medium_width",
            "nullable": true,
            "type": "long"
           },
           {
            "metadata": {},
            "name": "snippet_thumbnails_standard_height",
            "nullable": true,
            "type": "long"
           },
           {
            "metadata": {},
            "name": "snippet_thumbnails_standard_url",
            "nullable": true,
            "type": "string"
           },
           {
            "metadata": {},
            "name": "snippet_thumbnails_standard_width",
            "nullable": true,
            "type": "long"
           },
           {
            "metadata": {
             "redshift_type": "VARCHAR(512)"
            },
            "name": "snippet_title",
            "nullable": true,
            "type": "string"
           },
           {
            "metadata": {},
            "name": "statistics_commentCount",
            "nullable": true,
            "type": "long"
           },
           {
            "metadata": {},
            "name": "statistics_dislikeCount",
            "nullable": true,
            "type": "long"
           },
           {
            "metadata": {},
            "name": "statistics_favoriteCount",
            "nullable": true,
            "type": "long"
           },
           {
            "metadata": {},
            "name": "statistics_likeCount",
            "nullable": true,
            "type": "long"
           },
           {
            "metadata": {},
            "name": "statistics_viewCount",
            "nullable": true,
            "type": "long"
           },
           {
            "metadata": {},
            "name": "status_embeddable",
            "nullable": true,
            "type": "boolean"
           },
           {
            "metadata": {},
            "name": "status_license",
            "nullable": true,
            "type": "string"
           },
           {
            "metadata": {},
            "name": "status_madeForKids",
            "nullable": true,
            "type": "boolean"
           },
           {
            "metadata": {},
            "name": "status_privacyStatus",
            "nullable": true,
            "type": "string"
           },
           {
            "metadata": {},
            "name": "status_publicStatsViewable",
            "nullable": true,
            "type": "boolean"
           },
           {
            "metadata": {},
            "name": "status_uploadStatus",
            "nullable": true,
            "type": "string"
           },
           {
            "metadata": {},
            "name": "resultsPerPage",
            "nullable": true,
            "type": "long"
           },
           {
            "metadata": {},
            "name": "totalResults",
            "nullable": true,
            "type": "long"
           }
          ],
          "type": "struct"
         },
         "tableIdentifier": null,
         "typeStr": "pyspark.sql.dataframe.DataFrame"
        }
       ],
       "removedWidgets": [],
       "type": "html"
      }
     },
     "output_type": "display_data"
    }
   ],
   "source": [
    "# Get rid of the long description content before storing in warehouse\n",
    "to_drop = ['snippet_description', 'snippet_localized_description', 'snippet_localized_title']\n",
    "df_clean = df_casted.drop(*to_drop)\n",
    "\n",
    "# Some titles are longer than the default 256-byte length...\n",
    "df_clean = df_clean.withColumn('snippet_title', df_clean['snippet_title'].alias('snippet_title', metadata={'redshift_type': 'VARCHAR(512)'}))\n",
    "\n",
    "df_clean.printSchema()"
   ]
  },
  {
   "cell_type": "markdown",
   "metadata": {
    "application/vnd.databricks.v1+cell": {
     "inputWidgets": {},
     "nuid": "bb503824-c98f-4bb8-b94a-2a734844393d",
     "showTitle": false,
     "title": ""
    }
   },
   "source": [
    "## Loading data onto Redshift\n",
    "\n",
    "Now that your data is properly formatted, clean and tidy, you just finished the `transform` step of your ETL pipeline, congratulations!\n",
    "\n",
    "What you need to do now is to **LOAD** this data into a place where it can be stored for later analysis. Today, you will load this data into a widely used Data Warehousing solution: [Amazon Redshift](https://aws.amazon.com/redshift/)\n",
    "\n",
    "The [spark-redshift documentation](https://docs.databricks.com/data/data-sources/aws/amazon-redshift.html) can be helpful... Don't hesistate to have a look."
   ]
  },
  {
   "cell_type": "code",
   "execution_count": null,
   "metadata": {
    "application/vnd.databricks.v1+cell": {
     "inputWidgets": {},
     "nuid": "7a5be406-1b3e-413f-a171-ffd05b3556d4",
     "showTitle": false,
     "title": ""
    }
   },
   "outputs": [
    {
     "data": {
      "text/html": [
       "<style scoped>\n",
       "  .ansiout {\n",
       "    display: block;\n",
       "    unicode-bidi: embed;\n",
       "    white-space: pre-wrap;\n",
       "    word-wrap: break-word;\n",
       "    word-break: break-all;\n",
       "    font-family: \"Source Code Pro\", \"Menlo\", monospace;;\n",
       "    font-size: 13px;\n",
       "    color: #555;\n",
       "    margin-left: 4px;\n",
       "    line-height: 19px;\n",
       "  }\n",
       "</style>\n",
       "<div class=\"ansiout\"></div>"
      ]
     },
     "metadata": {
      "application/vnd.databricks.v1+output": {
       "addedWidgets": {},
       "arguments": {},
       "data": "<div class=\"ansiout\"></div>",
       "datasetInfos": [],
       "removedWidgets": [],
       "type": "html"
      }
     },
     "output_type": "display_data"
    }
   ],
   "source": [
    "# TODO: set up your Redshift parameters\n",
    "# NOTE: again, this is not the appropriate way to this... You should, at least, use environment variables for the password\n",
    "#REDSHIFT_USER = '****'\n",
    "#REDSHIFT_PASSWORD = '****'\n",
    "#REDSHIFT_DB = '****'\n",
    "#REDSHIFT_HOST = '****'\n",
    "#REDSHIFT_PORT = 5439\n",
    "\n",
    "#redshift_path_full = \"****\"\n",
    "#REDSHIFT_TABLE = 'youtube_data'\n",
    "#REDSHIFT_IAM_ROLE = '****'\n",
    "#REDSHIFT_TEMP_DIR = ****'\n",
    "\n",
    "#redshift_uri = (f'jdbc:redshift://{REDSHIFT_HOST}:{REDSHIFT_PORT}/{REDSHIFT_DB}?user={REDSHIFT_USER}&password={REDSHIFT_PASSWORD}'\n",
    "                #'&ssl=true&sslfactory=com.amazon.redshift.ssl.NonValidatingFactory')"
   ]
  },
  {
   "cell_type": "markdown",
   "metadata": {
    "application/vnd.databricks.v1+cell": {
     "inputWidgets": {},
     "nuid": "38aea76e-38ef-40b4-9c8e-2dc9a1282913",
     "showTitle": false,
     "title": ""
    }
   },
   "source": [
    "As written in this [tutorial](https://github.com/databricks/spark-redshift/tree/master/tutorial), there are several modes you can choose from when loading data from Spark to Redshift. \n",
    "\n",
    "The 4 `mode` to choose from are:\n",
    "  - `overwrite`: drop the table if it exists, then load the data in a new one\n",
    "  - `append`: create the table if it does not exists, else append the data to the existing table\n",
    "  - `error` (default) : create the table or raise an error if it exists\n",
    "  - `ignore`: same as `overwrite`, but does nothing if table already exists\n",
    "\n",
    "We ask you to use the `overwrite` mode here. Also, you need to set the option `tempformat` to `csv` because the default Avro format does not allow non letter characters (such as `_`) in columns names."
   ]
  },
  {
   "cell_type": "code",
   "execution_count": null,
   "metadata": {
    "application/vnd.databricks.v1+cell": {
     "inputWidgets": {},
     "nuid": "d11c7a8c-981f-4ef3-926e-bd04fcb7b618",
     "showTitle": false,
     "title": ""
    }
   },
   "outputs": [],
   "source": [
    "REDSHIFT_USER = 'awsuser'\n",
    "REDSHIFT_PASSWORD = '****'\n",
    "\n",
    "REDSHIFT_TABLE = 'youtube_table'\n",
    "redshift_path_full = '****'\n",
    "\n",
    "mode = \"overwrite\"\n",
    "properties = {\"user\": REDSHIFT_USER, \"password\": REDSHIFT_PASSWORD, \"driver\": \"org.postgresql.Driver\"}\n",
    "df_clean.limit(10).write.jdbc(url=redshift_path_full, table=REDSHIFT_TABLE, mode=mode, properties=properties)"
   ]
  }
 ],
 "metadata": {
  "application/vnd.databricks.v1+notebook": {
   "dashboards": [],
   "language": "python",
   "notebookName": "04-Redshift_ingestion",
   "notebookOrigID": 2711188377281709,
   "widgets": {}
  },
  "kernelspec": {
   "display_name": "",
   "name": ""
  },
  "language_info": {
   "name": ""
  }
 },
 "nbformat": 4,
 "nbformat_minor": 4
}

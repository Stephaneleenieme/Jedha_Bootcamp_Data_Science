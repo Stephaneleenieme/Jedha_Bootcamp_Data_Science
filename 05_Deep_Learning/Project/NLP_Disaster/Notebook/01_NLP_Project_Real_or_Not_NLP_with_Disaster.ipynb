{
 "cells": [
  {
   "cell_type": "markdown",
   "metadata": {
    "id": "VkKqjTQstn4Z"
   },
   "source": [
    "# Projet - Real or Not? NLP with Disaster Tweets\n",
    "\n",
    "## Project description \n",
    "\n",
    "* Competition - https://www.kaggle.com/c/nlp-getting-started"
   ]
  },
  {
   "cell_type": "code",
   "execution_count": 1,
   "metadata": {
    "colab": {
     "base_uri": "https://localhost:8080/",
     "height": 481
    },
    "id": "_qg9tbrIwyaZ",
    "outputId": "48b1c32c-14a5-4aab-a9e6-af1ee775a6b8"
   },
   "outputs": [
    {
     "name": "stdout",
     "output_type": "stream",
     "text": [
      "Requirement already satisfied: en_core_web_sm==2.2.5 from https://github.com/explosion/spacy-models/releases/download/en_core_web_sm-2.2.5/en_core_web_sm-2.2.5.tar.gz#egg=en_core_web_sm==2.2.5 in /usr/local/lib/python3.6/dist-packages (2.2.5)\n",
      "Requirement already satisfied: spacy>=2.2.2 in /usr/local/lib/python3.6/dist-packages (from en_core_web_sm==2.2.5) (2.2.4)\n",
      "Requirement already satisfied: requests<3.0.0,>=2.13.0 in /usr/local/lib/python3.6/dist-packages (from spacy>=2.2.2->en_core_web_sm==2.2.5) (2.23.0)\n",
      "Requirement already satisfied: numpy>=1.15.0 in /usr/local/lib/python3.6/dist-packages (from spacy>=2.2.2->en_core_web_sm==2.2.5) (1.19.4)\n",
      "Requirement already satisfied: srsly<1.1.0,>=1.0.2 in /usr/local/lib/python3.6/dist-packages (from spacy>=2.2.2->en_core_web_sm==2.2.5) (1.0.5)\n",
      "Requirement already satisfied: wasabi<1.1.0,>=0.4.0 in /usr/local/lib/python3.6/dist-packages (from spacy>=2.2.2->en_core_web_sm==2.2.5) (0.8.0)\n",
      "Requirement already satisfied: blis<0.5.0,>=0.4.0 in /usr/local/lib/python3.6/dist-packages (from spacy>=2.2.2->en_core_web_sm==2.2.5) (0.4.1)\n",
      "Requirement already satisfied: murmurhash<1.1.0,>=0.28.0 in /usr/local/lib/python3.6/dist-packages (from spacy>=2.2.2->en_core_web_sm==2.2.5) (1.0.5)\n",
      "Requirement already satisfied: plac<1.2.0,>=0.9.6 in /usr/local/lib/python3.6/dist-packages (from spacy>=2.2.2->en_core_web_sm==2.2.5) (1.1.3)\n",
      "Requirement already satisfied: preshed<3.1.0,>=3.0.2 in /usr/local/lib/python3.6/dist-packages (from spacy>=2.2.2->en_core_web_sm==2.2.5) (3.0.5)\n",
      "Requirement already satisfied: thinc==7.4.0 in /usr/local/lib/python3.6/dist-packages (from spacy>=2.2.2->en_core_web_sm==2.2.5) (7.4.0)\n",
      "Requirement already satisfied: catalogue<1.1.0,>=0.0.7 in /usr/local/lib/python3.6/dist-packages (from spacy>=2.2.2->en_core_web_sm==2.2.5) (1.0.0)\n",
      "Requirement already satisfied: setuptools in /usr/local/lib/python3.6/dist-packages (from spacy>=2.2.2->en_core_web_sm==2.2.5) (51.0.0)\n",
      "Requirement already satisfied: cymem<2.1.0,>=2.0.2 in /usr/local/lib/python3.6/dist-packages (from spacy>=2.2.2->en_core_web_sm==2.2.5) (2.0.5)\n",
      "Requirement already satisfied: tqdm<5.0.0,>=4.38.0 in /usr/local/lib/python3.6/dist-packages (from spacy>=2.2.2->en_core_web_sm==2.2.5) (4.41.1)\n",
      "Requirement already satisfied: certifi>=2017.4.17 in /usr/local/lib/python3.6/dist-packages (from requests<3.0.0,>=2.13.0->spacy>=2.2.2->en_core_web_sm==2.2.5) (2020.12.5)\n",
      "Requirement already satisfied: idna<3,>=2.5 in /usr/local/lib/python3.6/dist-packages (from requests<3.0.0,>=2.13.0->spacy>=2.2.2->en_core_web_sm==2.2.5) (2.10)\n",
      "Requirement already satisfied: chardet<4,>=3.0.2 in /usr/local/lib/python3.6/dist-packages (from requests<3.0.0,>=2.13.0->spacy>=2.2.2->en_core_web_sm==2.2.5) (3.0.4)\n",
      "Requirement already satisfied: urllib3!=1.25.0,!=1.25.1,<1.26,>=1.21.1 in /usr/local/lib/python3.6/dist-packages (from requests<3.0.0,>=2.13.0->spacy>=2.2.2->en_core_web_sm==2.2.5) (1.24.3)\n",
      "Requirement already satisfied: importlib-metadata>=0.20; python_version < \"3.8\" in /usr/local/lib/python3.6/dist-packages (from catalogue<1.1.0,>=0.0.7->spacy>=2.2.2->en_core_web_sm==2.2.5) (3.3.0)\n",
      "Requirement already satisfied: typing-extensions>=3.6.4; python_version < \"3.8\" in /usr/local/lib/python3.6/dist-packages (from importlib-metadata>=0.20; python_version < \"3.8\"->catalogue<1.1.0,>=0.0.7->spacy>=2.2.2->en_core_web_sm==2.2.5) (3.7.4.3)\n",
      "Requirement already satisfied: zipp>=0.5 in /usr/local/lib/python3.6/dist-packages (from importlib-metadata>=0.20; python_version < \"3.8\"->catalogue<1.1.0,>=0.0.7->spacy>=2.2.2->en_core_web_sm==2.2.5) (3.4.0)\n",
      "\u001b[38;5;2m✔ Download and installation successful\u001b[0m\n",
      "You can now load the model via spacy.load('en_core_web_sm')\n"
     ]
    },
    {
     "data": {
      "application/vnd.google.colaboratory.intrinsic+json": {
       "type": "string"
      },
      "text/plain": [
       "'Spacy version : 2.2.4'"
      ]
     },
     "metadata": {
      "tags": []
     },
     "output_type": "display_data"
    },
    {
     "data": {
      "application/vnd.google.colaboratory.intrinsic+json": {
       "type": "string"
      },
      "text/plain": [
       "'Tenserflow version : 2.4.0'"
      ]
     },
     "metadata": {
      "tags": []
     },
     "output_type": "display_data"
    }
   ],
   "source": [
    "# import usual libraries\n",
    "import pandas as pd \n",
    "import tensorflow as tf\n",
    "import matplotlib.pyplot as plt\n",
    "import pathlib\n",
    "import numpy as np\n",
    "\n",
    "import spacy\n",
    "!python -m spacy download en_core_web_sm\n",
    "import en_core_web_sm\n",
    "\n",
    "\n",
    "display(f\"Spacy version : {spacy.__version__}\")\n",
    "display(f\"Tenserflow version : {tf.__version__}\")"
   ]
  },
  {
   "cell_type": "markdown",
   "metadata": {
    "id": "dD_uwPYDH4_2"
   },
   "source": [
    "### Import data"
   ]
  },
  {
   "cell_type": "code",
   "execution_count": 3,
   "metadata": {
    "colab": {
     "base_uri": "https://localhost:8080/"
    },
    "id": "uU2v9w-Ctn4e",
    "outputId": "c0756fd0-e254-4e63-e799-1299c1be2499"
   },
   "outputs": [
    {
     "name": "stdout",
     "output_type": "stream",
     "text": [
      "Drive already mounted at /content/drive; to attempt to forcibly remount, call drive.mount(\"/content/drive\", force_remount=True).\n"
     ]
    }
   ],
   "source": [
    "from google.colab import drive\n",
    "drive.mount('/content/drive')"
   ]
  },
  {
   "cell_type": "code",
   "execution_count": 5,
   "metadata": {
    "colab": {
     "base_uri": "https://localhost:8080/"
    },
    "id": "ndXrx3gTuwvG",
    "outputId": "3221a6c9-d70c-4b54-e087-893b018329b9"
   },
   "outputs": [
    {
     "name": "stdout",
     "output_type": "stream",
     "text": [
      "mkdir: cannot create directory ‘/root/.kaggle’: File exists\n"
     ]
    }
   ],
   "source": [
    "!mkdir ~/.kaggle\n",
    "!mv /content/kaggle.json /root/.kaggle/kaggle.json\n",
    "!chmod 600 /root/.kaggle/kaggle.json"
   ]
  },
  {
   "cell_type": "markdown",
   "metadata": {
    "id": "ces-DnvbwVOP"
   },
   "source": [
    "1. Loading csv files from Kaggle"
   ]
  },
  {
   "cell_type": "code",
   "execution_count": 6,
   "metadata": {
    "colab": {
     "base_uri": "https://localhost:8080/"
    },
    "id": "GCN80SQFv3TG",
    "outputId": "349ff9f0-c4f6-4f75-ba3e-354474636c9d"
   },
   "outputs": [
    {
     "name": "stdout",
     "output_type": "stream",
     "text": [
      "Downloading train.csv to /content/Kaggle_twitter\n",
      "  0% 0.00/965k [00:00<?, ?B/s]\n",
      "100% 965k/965k [00:00<00:00, 63.8MB/s]\n"
     ]
    }
   ],
   "source": [
    "# Load file train.csv\n",
    "!kaggle competitions download -p /content/Kaggle_twitter -c nlp-getting-started -f train.csv"
   ]
  },
  {
   "cell_type": "code",
   "execution_count": 7,
   "metadata": {
    "colab": {
     "base_uri": "https://localhost:8080/"
    },
    "id": "1NQmX7scvJQe",
    "outputId": "85039314-4cc9-47a2-e6c8-f8c619a33a5d"
   },
   "outputs": [
    {
     "name": "stdout",
     "output_type": "stream",
     "text": [
      "Downloading test.csv to /content/Kaggle_twitter\n",
      "  0% 0.00/411k [00:00<?, ?B/s]\n",
      "100% 411k/411k [00:00<00:00, 60.8MB/s]\n"
     ]
    }
   ],
   "source": [
    "# Load file test.csv\n",
    "!kaggle competitions download -p /content/Kaggle_twitter -c nlp-getting-started -f test.csv"
   ]
  },
  {
   "cell_type": "code",
   "execution_count": 8,
   "metadata": {
    "colab": {
     "base_uri": "https://localhost:8080/"
    },
    "id": "jiAC7GVpwN4P",
    "outputId": "5676fc72-0fd3-44d9-b633-8d03151c1760"
   },
   "outputs": [
    {
     "name": "stdout",
     "output_type": "stream",
     "text": [
      "Downloading sample_submission.csv to /content/Kaggle_twitter\n",
      "  0% 0.00/22.2k [00:00<?, ?B/s]\n",
      "100% 22.2k/22.2k [00:00<00:00, 20.3MB/s]\n"
     ]
    }
   ],
   "source": [
    "# Load a sample of submissions\n",
    "!kaggle competitions download -p /content/Kaggle_twitter -c nlp-getting-started -f sample_submission.csv"
   ]
  },
  {
   "cell_type": "markdown",
   "metadata": {
    "id": "hUsxVxzZxkYT"
   },
   "source": [
    "2. Read files, check datasets frame"
   ]
  },
  {
   "cell_type": "code",
   "execution_count": 9,
   "metadata": {
    "colab": {
     "base_uri": "https://localhost:8080/"
    },
    "id": "xlZx1bEwwQV6",
    "outputId": "f56a1c8d-0640-40dd-c39a-8522a4a5682b"
   },
   "outputs": [
    {
     "data": {
      "text/plain": [
       "['/content/Kaggle_twitter/test.csv',\n",
       " '/content/Kaggle_twitter/train.csv',\n",
       " '/content/Kaggle_twitter/sample_submission.csv']"
      ]
     },
     "execution_count": 9,
     "metadata": {
      "tags": []
     },
     "output_type": "execute_result"
    }
   ],
   "source": [
    "# create file path\n",
    "def create_path(path) :\n",
    "  all_datasets = [dataset for dataset in list(path.glob('*'))]\n",
    "  all_datasets = [str(dataset) for dataset in all_datasets]\n",
    "  return all_datasets\n",
    "\n",
    "path = pathlib.Path(\"/content/Kaggle_twitter\")\n",
    "datasets_path = create_path(path)\n",
    "datasets_path\n"
   ]
  },
  {
   "cell_type": "code",
   "execution_count": 164,
   "metadata": {
    "colab": {
     "base_uri": "https://localhost:8080/",
     "height": 221
    },
    "id": "j4Es7YDyyooP",
    "outputId": "6c736f1d-f3bc-4c01-8415-5157b8917fc1"
   },
   "outputs": [
    {
     "data": {
      "text/html": [
       "<div>\n",
       "<style scoped>\n",
       "    .dataframe tbody tr th:only-of-type {\n",
       "        vertical-align: middle;\n",
       "    }\n",
       "\n",
       "    .dataframe tbody tr th {\n",
       "        vertical-align: top;\n",
       "    }\n",
       "\n",
       "    .dataframe thead th {\n",
       "        text-align: right;\n",
       "    }\n",
       "</style>\n",
       "<table border=\"1\" class=\"dataframe\">\n",
       "  <thead>\n",
       "    <tr style=\"text-align: right;\">\n",
       "      <th></th>\n",
       "      <th>id</th>\n",
       "      <th>keyword</th>\n",
       "      <th>location</th>\n",
       "      <th>text</th>\n",
       "      <th>target</th>\n",
       "    </tr>\n",
       "  </thead>\n",
       "  <tbody>\n",
       "    <tr>\n",
       "      <th>0</th>\n",
       "      <td>1</td>\n",
       "      <td>NaN</td>\n",
       "      <td>NaN</td>\n",
       "      <td>Our Deeds are the Reason of this #earthquake M...</td>\n",
       "      <td>1</td>\n",
       "    </tr>\n",
       "    <tr>\n",
       "      <th>1</th>\n",
       "      <td>4</td>\n",
       "      <td>NaN</td>\n",
       "      <td>NaN</td>\n",
       "      <td>Forest fire near La Ronge Sask. Canada</td>\n",
       "      <td>1</td>\n",
       "    </tr>\n",
       "    <tr>\n",
       "      <th>2</th>\n",
       "      <td>5</td>\n",
       "      <td>NaN</td>\n",
       "      <td>NaN</td>\n",
       "      <td>All residents asked to 'shelter in place' are ...</td>\n",
       "      <td>1</td>\n",
       "    </tr>\n",
       "    <tr>\n",
       "      <th>3</th>\n",
       "      <td>6</td>\n",
       "      <td>NaN</td>\n",
       "      <td>NaN</td>\n",
       "      <td>13,000 people receive #wildfires evacuation or...</td>\n",
       "      <td>1</td>\n",
       "    </tr>\n",
       "    <tr>\n",
       "      <th>4</th>\n",
       "      <td>7</td>\n",
       "      <td>NaN</td>\n",
       "      <td>NaN</td>\n",
       "      <td>Just got sent this photo from Ruby #Alaska as ...</td>\n",
       "      <td>1</td>\n",
       "    </tr>\n",
       "  </tbody>\n",
       "</table>\n",
       "</div>"
      ],
      "text/plain": [
       "   id keyword  ...                                               text target\n",
       "0   1     NaN  ...  Our Deeds are the Reason of this #earthquake M...      1\n",
       "1   4     NaN  ...             Forest fire near La Ronge Sask. Canada      1\n",
       "2   5     NaN  ...  All residents asked to 'shelter in place' are ...      1\n",
       "3   6     NaN  ...  13,000 people receive #wildfires evacuation or...      1\n",
       "4   7     NaN  ...  Just got sent this photo from Ruby #Alaska as ...      1\n",
       "\n",
       "[5 rows x 5 columns]"
      ]
     },
     "metadata": {
      "tags": []
     },
     "output_type": "display_data"
    },
    {
     "data": {
      "text/plain": [
       "(7613, 5)"
      ]
     },
     "metadata": {
      "tags": []
     },
     "output_type": "display_data"
    }
   ],
   "source": [
    "# Create the dataframe from the train.csv file\n",
    "df_train = pd.read_csv('Kaggle_twitter/train.csv')\n",
    "\n",
    "display(df_train.head())\n",
    "display(df_train.shape)"
   ]
  },
  {
   "cell_type": "code",
   "execution_count": 11,
   "metadata": {
    "colab": {
     "base_uri": "https://localhost:8080/"
    },
    "id": "RMNKl8FBr70i",
    "outputId": "ddacdfb0-5303-4bd1-9928-de0000544613"
   },
   "outputs": [
    {
     "data": {
      "text/plain": [
       "USA                          104\n",
       "New York                      71\n",
       "United States                 50\n",
       "London                        45\n",
       "Canada                        29\n",
       "                            ... \n",
       "highlands&slands scotland      1\n",
       "Ames, Iowa                     1\n",
       "Philippines                    1\n",
       "Orlando,FL  USA                1\n",
       "Elsewhere, NZ                  1\n",
       "Name: location, Length: 3341, dtype: int64"
      ]
     },
     "execution_count": 11,
     "metadata": {
      "tags": []
     },
     "output_type": "execute_result"
    }
   ],
   "source": [
    "df_train['location'].value_counts()"
   ]
  },
  {
   "cell_type": "code",
   "execution_count": 12,
   "metadata": {
    "colab": {
     "base_uri": "https://localhost:8080/"
    },
    "id": "UL_pH1dBsMlq",
    "outputId": "c276654a-9f5f-425a-dd59-34a644d30943"
   },
   "outputs": [
    {
     "data": {
      "text/plain": [
       "fatalities               45\n",
       "deluge                   42\n",
       "armageddon               42\n",
       "body%20bags              41\n",
       "damage                   41\n",
       "                         ..\n",
       "forest%20fire            19\n",
       "epicentre                12\n",
       "threat                   11\n",
       "inundation               10\n",
       "radiation%20emergency     9\n",
       "Name: keyword, Length: 221, dtype: int64"
      ]
     },
     "execution_count": 12,
     "metadata": {
      "tags": []
     },
     "output_type": "execute_result"
    }
   ],
   "source": [
    "df_train['keyword'].value_counts()"
   ]
  },
  {
   "cell_type": "markdown",
   "metadata": {
    "id": "LLMEMKXQP_Su"
   },
   "source": [
    "### Preprocessing"
   ]
  },
  {
   "cell_type": "markdown",
   "metadata": {
    "id": "BCkCbda6IZoR"
   },
   "source": [
    "1. Check the null values"
   ]
  },
  {
   "cell_type": "code",
   "execution_count": 13,
   "metadata": {
    "colab": {
     "base_uri": "https://localhost:8080/"
    },
    "id": "Z5EcplvECDf_",
    "outputId": "dbbab6e9-08e4-4cc5-aae1-188f98fdca22"
   },
   "outputs": [
    {
     "name": "stdout",
     "output_type": "stream",
     "text": [
      "id             0\n",
      "keyword       61\n",
      "location    2533\n",
      "text           0\n",
      "target         0\n",
      "dtype: int64\n"
     ]
    }
   ],
   "source": [
    "# Print null values\n",
    "print(df_train.isnull().sum())"
   ]
  },
  {
   "cell_type": "markdown",
   "metadata": {
    "id": "XF2becRjIkpz"
   },
   "source": [
    "2. Keep only the usefull columns "
   ]
  },
  {
   "cell_type": "code",
   "execution_count": 15,
   "metadata": {
    "colab": {
     "base_uri": "https://localhost:8080/",
     "height": 221
    },
    "id": "RggTvh4SGp-G",
    "outputId": "f218b1e9-4f34-4f8c-95a2-eb48d7cee5de"
   },
   "outputs": [
    {
     "data": {
      "text/html": [
       "<div>\n",
       "<style scoped>\n",
       "    .dataframe tbody tr th:only-of-type {\n",
       "        vertical-align: middle;\n",
       "    }\n",
       "\n",
       "    .dataframe tbody tr th {\n",
       "        vertical-align: top;\n",
       "    }\n",
       "\n",
       "    .dataframe thead th {\n",
       "        text-align: right;\n",
       "    }\n",
       "</style>\n",
       "<table border=\"1\" class=\"dataframe\">\n",
       "  <thead>\n",
       "    <tr style=\"text-align: right;\">\n",
       "      <th></th>\n",
       "      <th>text</th>\n",
       "      <th>target</th>\n",
       "    </tr>\n",
       "  </thead>\n",
       "  <tbody>\n",
       "    <tr>\n",
       "      <th>0</th>\n",
       "      <td>Our Deeds are the Reason of this #earthquake M...</td>\n",
       "      <td>1</td>\n",
       "    </tr>\n",
       "    <tr>\n",
       "      <th>1</th>\n",
       "      <td>Forest fire near La Ronge Sask. Canada</td>\n",
       "      <td>1</td>\n",
       "    </tr>\n",
       "    <tr>\n",
       "      <th>2</th>\n",
       "      <td>All residents asked to 'shelter in place' are ...</td>\n",
       "      <td>1</td>\n",
       "    </tr>\n",
       "    <tr>\n",
       "      <th>3</th>\n",
       "      <td>13,000 people receive #wildfires evacuation or...</td>\n",
       "      <td>1</td>\n",
       "    </tr>\n",
       "    <tr>\n",
       "      <th>4</th>\n",
       "      <td>Just got sent this photo from Ruby #Alaska as ...</td>\n",
       "      <td>1</td>\n",
       "    </tr>\n",
       "  </tbody>\n",
       "</table>\n",
       "</div>"
      ],
      "text/plain": [
       "                                                text  target\n",
       "0  Our Deeds are the Reason of this #earthquake M...       1\n",
       "1             Forest fire near La Ronge Sask. Canada       1\n",
       "2  All residents asked to 'shelter in place' are ...       1\n",
       "3  13,000 people receive #wildfires evacuation or...       1\n",
       "4  Just got sent this photo from Ruby #Alaska as ...       1"
      ]
     },
     "metadata": {
      "tags": []
     },
     "output_type": "display_data"
    },
    {
     "data": {
      "text/plain": [
       "(7613, 2)"
      ]
     },
     "metadata": {
      "tags": []
     },
     "output_type": "display_data"
    }
   ],
   "source": [
    "# get the columns we are interested in and look at the shape\n",
    "df_train = df_train[['text', 'target']]\n",
    "\n",
    "display(df_train.head())\n",
    "display(df_train.shape)"
   ]
  },
  {
   "cell_type": "code",
   "execution_count": 170,
   "metadata": {
    "colab": {
     "base_uri": "https://localhost:8080/",
     "height": 35
    },
    "id": "xYV10YCX6-ws",
    "outputId": "d36b99cb-fd7c-428e-f53a-b1bf46394472"
   },
   "outputs": [
    {
     "data": {
      "application/vnd.google.colaboratory.intrinsic+json": {
       "type": "string"
      },
      "text/plain": [
       "'#NowPlaying: Rene Ablaze &amp; Ian Buff - Magnitude http://t.co/Av2JSjfFtc  #EDM'"
      ]
     },
     "execution_count": 170,
     "metadata": {
      "tags": []
     },
     "output_type": "execute_result"
    }
   ],
   "source": [
    "df_train['text'][np.random.randint(100)]"
   ]
  },
  {
   "cell_type": "code",
   "execution_count": 16,
   "metadata": {
    "colab": {
     "base_uri": "https://localhost:8080/"
    },
    "id": "7TgJI6CMlug-",
    "outputId": "047c34cf-3fac-4705-ac41-a98ee115561a"
   },
   "outputs": [
    {
     "data": {
      "text/plain": [
       "0    57.034021\n",
       "1    42.965979\n",
       "Name: target, dtype: float64"
      ]
     },
     "execution_count": 16,
     "metadata": {
      "tags": []
     },
     "output_type": "execute_result"
    }
   ],
   "source": [
    "# check the target and distribution per class\n",
    "df_train['target'].value_counts()/len(df_train)*100"
   ]
  },
  {
   "cell_type": "markdown",
   "metadata": {
    "id": "MdlnGxjwQp-q"
   },
   "source": [
    "## With Spacy"
   ]
  },
  {
   "cell_type": "markdown",
   "metadata": {
    "id": "eRa17kKpLojC"
   },
   "source": [
    "1. Clean our texts to prepare them for training"
   ]
  },
  {
   "cell_type": "code",
   "execution_count": 17,
   "metadata": {
    "id": "RZDnwaU_L3bo"
   },
   "outputs": [],
   "source": [
    "# Load spacy language\n",
    "nlp = en_core_web_sm.load()\n",
    "\n",
    "# import english stop word from spacy\n",
    "from spacy.lang.en.stop_words import STOP_WORDS"
   ]
  },
  {
   "cell_type": "code",
   "execution_count": 18,
   "metadata": {
    "colab": {
     "base_uri": "https://localhost:8080/",
     "height": 204
    },
    "id": "qksxTW9gMggz",
    "outputId": "97c65adc-bc99-47d0-fffa-11105e6050e5"
   },
   "outputs": [
    {
     "data": {
      "text/html": [
       "<div>\n",
       "<style scoped>\n",
       "    .dataframe tbody tr th:only-of-type {\n",
       "        vertical-align: middle;\n",
       "    }\n",
       "\n",
       "    .dataframe tbody tr th {\n",
       "        vertical-align: top;\n",
       "    }\n",
       "\n",
       "    .dataframe thead th {\n",
       "        text-align: right;\n",
       "    }\n",
       "</style>\n",
       "<table border=\"1\" class=\"dataframe\">\n",
       "  <thead>\n",
       "    <tr style=\"text-align: right;\">\n",
       "      <th></th>\n",
       "      <th>text</th>\n",
       "      <th>target</th>\n",
       "      <th>clean_text</th>\n",
       "    </tr>\n",
       "  </thead>\n",
       "  <tbody>\n",
       "    <tr>\n",
       "      <th>0</th>\n",
       "      <td>Our Deeds are the Reason of this #earthquake M...</td>\n",
       "      <td>1</td>\n",
       "      <td>deed reason earthquake allah forgive</td>\n",
       "    </tr>\n",
       "    <tr>\n",
       "      <th>1</th>\n",
       "      <td>Forest fire near La Ronge Sask. Canada</td>\n",
       "      <td>1</td>\n",
       "      <td>forest fire near la ronge sask canada</td>\n",
       "    </tr>\n",
       "    <tr>\n",
       "      <th>2</th>\n",
       "      <td>All residents asked to 'shelter in place' are ...</td>\n",
       "      <td>1</td>\n",
       "      <td>resident ask shelter place notify officer evac...</td>\n",
       "    </tr>\n",
       "    <tr>\n",
       "      <th>3</th>\n",
       "      <td>13,000 people receive #wildfires evacuation or...</td>\n",
       "      <td>1</td>\n",
       "      <td>13000 people receive wildfire evacuation order...</td>\n",
       "    </tr>\n",
       "    <tr>\n",
       "      <th>4</th>\n",
       "      <td>Just got sent this photo from Ruby #Alaska as ...</td>\n",
       "      <td>1</td>\n",
       "      <td>send photo ruby alaska smoke wildfire pour school</td>\n",
       "    </tr>\n",
       "  </tbody>\n",
       "</table>\n",
       "</div>"
      ],
      "text/plain": [
       "                                                text  ...                                         clean_text\n",
       "0  Our Deeds are the Reason of this #earthquake M...  ...               deed reason earthquake allah forgive\n",
       "1             Forest fire near La Ronge Sask. Canada  ...              forest fire near la ronge sask canada\n",
       "2  All residents asked to 'shelter in place' are ...  ...  resident ask shelter place notify officer evac...\n",
       "3  13,000 people receive #wildfires evacuation or...  ...  13000 people receive wildfire evacuation order...\n",
       "4  Just got sent this photo from Ruby #Alaska as ...  ...  send photo ruby alaska smoke wildfire pour school\n",
       "\n",
       "[5 rows x 3 columns]"
      ]
     },
     "execution_count": 18,
     "metadata": {
      "tags": []
     },
     "output_type": "execute_result"
    }
   ],
   "source": [
    "# Create function\n",
    "def clean_lemma_text (text) : \n",
    "  \"\"\"Function which clean our texts and lemmatized them\"\"\"\n",
    "  text = \"\".join([c for c in text if c.isalnum() or c == \" \"])\n",
    "  text = text.replace(\" +\", \" \").lower().strip()\n",
    "  \n",
    "  text = nlp(text)\n",
    "  lemma = \" \".join([token.lemma_ for token in text\n",
    "                    if token.lemma_ not in STOP_WORDS\n",
    "                    and token.lemma_ != '-PRON-'])\n",
    "  return lemma\n",
    "\n",
    "# apply the function on our text and add clean texts in our dataframe\n",
    "df_train_spacy = df_train.copy()\n",
    "df_train_spacy['clean_text'] = df_train_spacy['text'].apply(lambda x : clean_lemma_text (x))\n",
    "df_train_spacy.head()\n"
   ]
  },
  {
   "cell_type": "code",
   "execution_count": 19,
   "metadata": {
    "colab": {
     "base_uri": "https://localhost:8080/",
     "height": 34
    },
    "id": "E23MFtdDQhYo",
    "outputId": "1c970d08-d0d3-4366-86e3-687992b5df7a"
   },
   "outputs": [
    {
     "data": {
      "text/plain": [
       "0"
      ]
     },
     "metadata": {
      "tags": []
     },
     "output_type": "display_data"
    }
   ],
   "source": [
    "# check if there is some clean texts which are empty\n",
    "empty_reviews = df_train_spacy[(df_train_spacy['clean_text'] == \" \") | \n",
    "                         (df_train_spacy['clean_text'] == \"\")]\n",
    "display(len(empty_reviews))"
   ]
  },
  {
   "cell_type": "markdown",
   "metadata": {
    "id": "DfHYGH8eIC2Q"
   },
   "source": [
    "### Tokenize"
   ]
  },
  {
   "cell_type": "markdown",
   "metadata": {
    "id": "JlQLBKcdPuWr"
   },
   "source": [
    "1. Encoding texts and padding texts"
   ]
  },
  {
   "cell_type": "code",
   "execution_count": 20,
   "metadata": {
    "colab": {
     "base_uri": "https://localhost:8080/",
     "height": 204
    },
    "id": "CD0nqhxJJch0",
    "outputId": "6fee731e-75d9-4824-8078-6c04004ad44d"
   },
   "outputs": [
    {
     "data": {
      "text/html": [
       "<div>\n",
       "<style scoped>\n",
       "    .dataframe tbody tr th:only-of-type {\n",
       "        vertical-align: middle;\n",
       "    }\n",
       "\n",
       "    .dataframe tbody tr th {\n",
       "        vertical-align: top;\n",
       "    }\n",
       "\n",
       "    .dataframe thead th {\n",
       "        text-align: right;\n",
       "    }\n",
       "</style>\n",
       "<table border=\"1\" class=\"dataframe\">\n",
       "  <thead>\n",
       "    <tr style=\"text-align: right;\">\n",
       "      <th></th>\n",
       "      <th>text</th>\n",
       "      <th>target</th>\n",
       "      <th>clean_text</th>\n",
       "      <th>text_encoded</th>\n",
       "    </tr>\n",
       "  </thead>\n",
       "  <tbody>\n",
       "    <tr>\n",
       "      <th>0</th>\n",
       "      <td>Our Deeds are the Reason of this #earthquake M...</td>\n",
       "      <td>1</td>\n",
       "      <td>deed reason earthquake allah forgive</td>\n",
       "      <td>[3682, 410, 168, 1367, 1944]</td>\n",
       "    </tr>\n",
       "    <tr>\n",
       "      <th>1</th>\n",
       "      <td>Forest fire near La Ronge Sask. Canada</td>\n",
       "      <td>1</td>\n",
       "      <td>forest fire near la ronge sask canada</td>\n",
       "      <td>[113, 2, 157, 504, 5571, 5572, 954]</td>\n",
       "    </tr>\n",
       "    <tr>\n",
       "      <th>2</th>\n",
       "      <td>All residents asked to 'shelter in place' are ...</td>\n",
       "      <td>1</td>\n",
       "      <td>resident ask shelter place notify officer evac...</td>\n",
       "      <td>[1368, 442, 1691, 318, 5573, 289, 183, 1691, 3...</td>\n",
       "    </tr>\n",
       "    <tr>\n",
       "      <th>3</th>\n",
       "      <td>13,000 people receive #wildfires evacuation or...</td>\n",
       "      <td>1</td>\n",
       "      <td>13000 people receive wildfire evacuation order...</td>\n",
       "      <td>[2313, 6, 2314, 68, 183, 290, 34]</td>\n",
       "    </tr>\n",
       "    <tr>\n",
       "      <th>4</th>\n",
       "      <td>Just got sent this photo from Ruby #Alaska as ...</td>\n",
       "      <td>1</td>\n",
       "      <td>send photo ruby alaska smoke wildfire pour school</td>\n",
       "      <td>[176, 118, 5574, 1692, 169, 68, 2315, 105]</td>\n",
       "    </tr>\n",
       "  </tbody>\n",
       "</table>\n",
       "</div>"
      ],
      "text/plain": [
       "                                                text  ...                                       text_encoded\n",
       "0  Our Deeds are the Reason of this #earthquake M...  ...                       [3682, 410, 168, 1367, 1944]\n",
       "1             Forest fire near La Ronge Sask. Canada  ...                [113, 2, 157, 504, 5571, 5572, 954]\n",
       "2  All residents asked to 'shelter in place' are ...  ...  [1368, 442, 1691, 318, 5573, 289, 183, 1691, 3...\n",
       "3  13,000 people receive #wildfires evacuation or...  ...                  [2313, 6, 2314, 68, 183, 290, 34]\n",
       "4  Just got sent this photo from Ruby #Alaska as ...  ...         [176, 118, 5574, 1692, 169, 68, 2315, 105]\n",
       "\n",
       "[5 rows x 4 columns]"
      ]
     },
     "execution_count": 20,
     "metadata": {
      "tags": []
     },
     "output_type": "execute_result"
    }
   ],
   "source": [
    "# Create a tokenizer instance\n",
    "tokenizer = tf.keras.preprocessing.text.Tokenizer()\n",
    "\n",
    "# Fit tokenizer on our texts\n",
    "tokenizer.fit_on_texts(df_train_spacy['clean_text'])\n",
    "\n",
    "# Encoding texts tokenized and store the result in our dataframe\n",
    "df_train_spacy['text_encoded'] = tokenizer.texts_to_sequences(df_train_spacy['clean_text'])\n",
    "df_train_spacy.head()"
   ]
  },
  {
   "cell_type": "code",
   "execution_count": 21,
   "metadata": {
    "colab": {
     "base_uri": "https://localhost:8080/",
     "height": 289
    },
    "id": "mJ3aa_OyKcf1",
    "outputId": "db1ce2dd-efa9-4ead-b0f8-14fcf19b5cb3"
   },
   "outputs": [
    {
     "data": {
      "text/plain": [
       "array([[3682,  410,  168, 1367, 1944,    0,    0,    0,    0,    0,    0,\n",
       "           0,    0,    0,    0,    0,    0,    0,    0,    0,    0,    0,\n",
       "           0,    0,    0],\n",
       "       [ 113,    2,  157,  504, 5571, 5572,  954,    0,    0,    0,    0,\n",
       "           0,    0,    0,    0,    0,    0,    0,    0,    0,    0,    0,\n",
       "           0,    0,    0],\n",
       "       [1368,  442, 1691,  318, 5573,  289,  183, 1691,  318,  290,  376,\n",
       "           0,    0,    0,    0,    0,    0,    0,    0,    0,    0,    0,\n",
       "           0,    0,    0],\n",
       "       [2313,    6, 2314,   68,  183,  290,   34,    0,    0,    0,    0,\n",
       "           0,    0,    0,    0,    0,    0,    0,    0,    0,    0,    0,\n",
       "           0,    0,    0],\n",
       "       [ 176,  118, 5574, 1692,  169,   68, 2315,  105,    0,    0,    0,\n",
       "           0,    0,    0,    0,    0,    0,    0,    0,    0,    0,    0,\n",
       "           0,    0,    0]], dtype=int32)"
      ]
     },
     "metadata": {
      "tags": []
     },
     "output_type": "display_data"
    },
    {
     "data": {
      "text/plain": [
       "(7613, 25)"
      ]
     },
     "metadata": {
      "tags": []
     },
     "output_type": "display_data"
    }
   ],
   "source": [
    "# Padding texts encoded\n",
    "texts_pad = tf.keras.preprocessing.sequence.pad_sequences(\n",
    "                                             df_train_spacy['text_encoded'],\n",
    "                                             padding = \"post\")\n",
    "display(texts_pad[0:5])\n",
    "display(texts_pad.shape)"
   ]
  },
  {
   "cell_type": "markdown",
   "metadata": {
    "id": "10AnVmn8S1Os"
   },
   "source": [
    "2. Create the tensor dataset from our texts padded and our target"
   ]
  },
  {
   "cell_type": "code",
   "execution_count": 22,
   "metadata": {
    "id": "0kHDLOAzgiIV"
   },
   "outputs": [],
   "source": [
    "#from sklearn.model_selection import train_test_split\n",
    "\n",
    "#X_train, X_test, y_train, y_test = train_test_split(texts_pad,\n",
    "                                                    #df_train_spacy['target'],\n",
    "                                                    #stratify = df_train_spacy['target'])\n",
    "\n",
    "# Create the tensor dataset\n",
    "#tf_data_test = tf.data.Dataset.from_tensor_slices((X_test,\n",
    "                                                    #y_test)).batch(BATCH_SIZE)\n",
    "\n",
    "#text_train, target_train = next(iter(tf_data_train))\n",
    "#print(text_train, \"\\n\", target_train)\n",
    "#print()\n",
    "\n",
    "#text_test, target_test = next(iter(tf_data_test))\n",
    "#print(text_test, \"\\n\\n\", target_test)\n",
    "\n"
   ]
  },
  {
   "cell_type": "code",
   "execution_count": 23,
   "metadata": {
    "colab": {
     "base_uri": "https://localhost:8080/"
    },
    "id": "J33gAbvJSdMq",
    "outputId": "044c9102-5ae7-4990-8bb5-2eca7b2af3a7"
   },
   "outputs": [
    {
     "name": "stdout",
     "output_type": "stream",
     "text": [
      "tf.Tensor(\n",
      "[3682  410  168 1367 1944    0    0    0    0    0    0    0    0    0\n",
      "    0    0    0    0    0    0    0    0    0    0    0], shape=(25,), dtype=int32) \n",
      "\n",
      " tf.Tensor(1, shape=(), dtype=int64)\n"
     ]
    }
   ],
   "source": [
    "# Create the tensor dataset\n",
    "tf_data = tf.data.Dataset.from_tensor_slices((texts_pad,\n",
    "                                              df_train_spacy['target'].values))\n",
    "\n",
    "# Read the first tensor\n",
    "text, target = next(iter(tf_data))\n",
    "print(text, \"\\n\\n\", target)"
   ]
  },
  {
   "cell_type": "markdown",
   "metadata": {
    "id": "yxD1dLTzVGnt"
   },
   "source": [
    "3. Spliting our tensor dataset in train and test set (75% in the train)"
   ]
  },
  {
   "cell_type": "code",
   "execution_count": 32,
   "metadata": {
    "colab": {
     "base_uri": "https://localhost:8080/"
    },
    "id": "pDWsP2f7UAFi",
    "outputId": "5aa0148e-2159-4fa4-8235-2b57dc618fed"
   },
   "outputs": [
    {
     "name": "stdout",
     "output_type": "stream",
     "text": [
      "tf.Tensor(\n",
      "[[ 6578   495    69  2013     0     0     0     0     0     0     0     0\n",
      "      0     0     0     0     0     0     0     0     0     0     0     0\n",
      "      0]\n",
      " [ 1015     7   142    45  1606   274   395     5   773   119   128   120\n",
      "   1473 12816     0     0     0     0     0     0     0     0     0     0\n",
      "      0]\n",
      " [ 5020    13   163   655  3412   156     0     0     0     0     0     0\n",
      "      0     0     0     0     0     0     0     0     0     0     0     0\n",
      "      0]\n",
      " [ 2701    31    17 14093 14094   345 14095  5064   150   205   677     0\n",
      "      0     0     0     0     0     0     0     0     0     0     0     0\n",
      "      0]\n",
      " [ 6913   782  2047   282  3972  2441   354  6914  2048  6915  6916   634\n",
      "      0     0     0     0     0     0     0     0     0     0     0     0\n",
      "      0]\n",
      " [  134  1667  4567  3598  1413   180  1812   134 15681     0     0     0\n",
      "      0     0     0     0     0     0     0     0     0     0     0     0\n",
      "      0]\n",
      " [    5  2251  1323   988  1363  2252   638  2253  2254   115  1911 12556\n",
      "  12557     0     0     0     0     0     0     0     0     0     0     0\n",
      "      0]\n",
      " [ 2799 16113   517   159  4664     1   441     0     0     0     0     0\n",
      "      0     0     0     0     0     0     0     0     0     0     0     0\n",
      "      0]\n",
      " [14770 14771 14772  1112   475  1051 14773 14774  2169   146 14775   292\n",
      "      0     0     0     0     0     0     0     0     0     0     0     0\n",
      "      0]\n",
      " [  358  5976  1093    98  5977  5978  1716  5979  5980     0     0     0\n",
      "      0     0     0     0     0     0     0     0     0     0     0     0\n",
      "      0]\n",
      " [ 4145    42   927   220     8    29   802  3111  1181     0     0     0\n",
      "      0     0     0     0     0     0     0     0     0     0     0     0\n",
      "      0]\n",
      " [  100    20   365   495   453  2020  6557  6558  2957  6559     0     0\n",
      "      0     0     0     0     0     0     0     0     0     0     0     0\n",
      "      0]\n",
      " [12370  1033 12371    92    26 12372     0     0     0     0     0     0\n",
      "      0     0     0     0     0     0     0     0     0     0     0     0\n",
      "      0]\n",
      " [ 1043   631  3411 11423     0     0     0     0     0     0     0     0\n",
      "      0     0     0     0     0     0     0     0     0     0     0     0\n",
      "      0]\n",
      " [ 8146  1756   214    44    29     8   747  1808     0     0     0     0\n",
      "      0     0     0     0     0     0     0     0     0     0     0     0\n",
      "      0]\n",
      " [  595   164   223   596    75   359 16199     0     0     0     0     0\n",
      "      0     0     0     0     0     0     0     0     0     0     0     0\n",
      "      0]], shape=(16, 25), dtype=int32) \n",
      "\n",
      " tf.Tensor([0 1 0 0 0 0 0 0 1 1 1 0 1 0 1 1], shape=(16,), dtype=int64)\n"
     ]
    }
   ],
   "source": [
    "# Train test split with take and skip\n",
    "\n",
    "TAKE_SIZE = int(0.70 * df_train_spacy.shape[0])\n",
    "BATCH_SIZE = 16\n",
    "\n",
    "train_data = tf_data.take(TAKE_SIZE)\n",
    "test_data = tf_data.skip(TAKE_SIZE)\n",
    "\n",
    "train_data = train_data.shuffle(len(train_data)).batch(BATCH_SIZE)\n",
    "test_data = test_data.shuffle(len(test_data)).batch(BATCH_SIZE)\n",
    "\n",
    "# Print a batch of data\n",
    "text, target = next(iter(train_data))\n",
    "print(text, \"\\n\\n\", target)"
   ]
  },
  {
   "cell_type": "markdown",
   "metadata": {
    "id": "DZoO--Z_W66e"
   },
   "source": [
    "### Modeling"
   ]
  },
  {
   "cell_type": "code",
   "execution_count": 33,
   "metadata": {
    "colab": {
     "base_uri": "https://localhost:8080/"
    },
    "id": "Sq-7pRTaW46a",
    "outputId": "f7d7ecf7-65c6-4a39-e195-3c348422810c"
   },
   "outputs": [
    {
     "data": {
      "text/plain": [
       "20503"
      ]
     },
     "execution_count": 33,
     "metadata": {
      "tags": []
     },
     "output_type": "execute_result"
    }
   ],
   "source": [
    "# Vocabulary size\n",
    "vocab_size = len(tokenizer.word_index)\n",
    "vocab_size"
   ]
  },
  {
   "cell_type": "code",
   "execution_count": 171,
   "metadata": {
    "id": "HXSJOpEYhjGJ"
   },
   "outputs": [],
   "source": [
    "# Create our model\n",
    "model_spacy = tf.keras.Sequential([\n",
    "                  # Couche d'Input Word Embedding           \n",
    "                  tf.keras.layers.Embedding(vocab_size +1, 64, \n",
    "                                            input_shape=[text.shape[1],]),\n",
    "                  #tf.keras.layers.Dense(64, kernel_regularizer=tf.keras.regularizers.L2(0.001),\n",
    "                                        #activation='relu',\n",
    "                                        #input_shape=(vocab_size,)),\n",
    "                  # Couche CNN\n",
    "                  tf.keras.layers.Conv1D(16, 3, activation=\"relu\"),  \n",
    "\n",
    "                  # flatten output\n",
    "                  tf.keras.layers.Flatten(),       \n",
    "\n",
    "                  # Couche Dense classique \n",
    "                  tf.keras.layers.Dense(64,\n",
    "                                        #kernel_regularizer = tf.keras.regularizers.L1(0.001), \n",
    "                                        activation='relu'),\n",
    "                  tf.keras.layers.Dropout(0.04),\n",
    "\n",
    "                  tf.keras.layers.Dense(32, activation='relu'),\n",
    "                  #tf.keras.layers.Dense(16, activation='relu'),\n",
    "\n",
    "                  tf.keras.layers.Dropout(0.04),\n",
    "\n",
    "                  tf.keras.layers.Dense(16, activation='relu'),\n",
    "\n",
    "                  #tf.keras.layers.Dropout(0.04),\n",
    "\n",
    "                  tf.keras.layers.Dense(8, activation='relu'),\n",
    "\n",
    "                  # Couche de sortie avec le nombre de neurones en sortie égale au nombre de classe avec fonction softmax\n",
    "                  tf.keras.layers.Dense(1, activation=\"sigmoid\")\n",
    "                                              \n",
    "])"
   ]
  },
  {
   "cell_type": "code",
   "execution_count": 172,
   "metadata": {
    "colab": {
     "base_uri": "https://localhost:8080/"
    },
    "id": "BQPh9TjsiZ1l",
    "outputId": "fba693f4-3a3b-415a-baa7-7dc8178d2924"
   },
   "outputs": [
    {
     "name": "stdout",
     "output_type": "stream",
     "text": [
      "Model: \"sequential_24\"\n",
      "_________________________________________________________________\n",
      "Layer (type)                 Output Shape              Param #   \n",
      "=================================================================\n",
      "embedding_26 (Embedding)     (None, 25, 64)            1312256   \n",
      "_________________________________________________________________\n",
      "conv1d_14 (Conv1D)           (None, 23, 16)            3088      \n",
      "_________________________________________________________________\n",
      "flatten_13 (Flatten)         (None, 368)               0         \n",
      "_________________________________________________________________\n",
      "dense_100 (Dense)            (None, 64)                23616     \n",
      "_________________________________________________________________\n",
      "dropout_29 (Dropout)         (None, 64)                0         \n",
      "_________________________________________________________________\n",
      "dense_101 (Dense)            (None, 32)                2080      \n",
      "_________________________________________________________________\n",
      "dropout_30 (Dropout)         (None, 32)                0         \n",
      "_________________________________________________________________\n",
      "dense_102 (Dense)            (None, 16)                528       \n",
      "_________________________________________________________________\n",
      "dropout_31 (Dropout)         (None, 16)                0         \n",
      "_________________________________________________________________\n",
      "dense_103 (Dense)            (None, 8)                 136       \n",
      "_________________________________________________________________\n",
      "dense_104 (Dense)            (None, 1)                 9         \n",
      "=================================================================\n",
      "Total params: 1,341,713\n",
      "Trainable params: 1,341,713\n",
      "Non-trainable params: 0\n",
      "_________________________________________________________________\n"
     ]
    }
   ],
   "source": [
    "model_spacy.summary()"
   ]
  },
  {
   "cell_type": "code",
   "execution_count": 173,
   "metadata": {
    "id": "NJTqi5klibdv"
   },
   "outputs": [],
   "source": [
    "initial_learning_rate = 0.0003\n",
    "\n",
    "lr_schedule = tf.keras.optimizers.schedules.ExponentialDecay(\n",
    "    initial_learning_rate,\n",
    "    decay_steps=2000,\n",
    "    decay_rate=0.95,\n",
    "    staircase=True)"
   ]
  },
  {
   "cell_type": "code",
   "execution_count": 174,
   "metadata": {
    "id": "7-vwljCnip35"
   },
   "outputs": [],
   "source": [
    "model_spacy.compile(optimizer=tf.keras.optimizers.Adam(learning_rate = lr_schedule),\n",
    "                    #loss = tf.keras.losses.CategoricalCrossentropy(from_logits=True),\n",
    "                    #metrics = [tf.keras.metrics.CategoricalAccuracy()])\n",
    "                    loss = tf.keras.losses.binary_crossentropy,\n",
    "                    metrics = [tf.keras.metrics.binary_accuracy])"
   ]
  },
  {
   "cell_type": "code",
   "execution_count": 175,
   "metadata": {
    "colab": {
     "base_uri": "https://localhost:8080/"
    },
    "id": "bLZl0rpAjQ0c",
    "outputId": "3d13c05c-3283-49b9-9a39-1911f3501188"
   },
   "outputs": [
    {
     "name": "stdout",
     "output_type": "stream",
     "text": [
      "Epoch 1/10\n",
      "334/334 [==============================] - 5s 13ms/step - loss: 0.6836 - binary_accuracy: 0.5660 - val_loss: 0.6322 - val_binary_accuracy: 0.6729\n",
      "Epoch 2/10\n",
      "334/334 [==============================] - 4s 13ms/step - loss: 0.4861 - binary_accuracy: 0.7956 - val_loss: 0.5239 - val_binary_accuracy: 0.7377\n",
      "Epoch 3/10\n",
      "334/334 [==============================] - 4s 13ms/step - loss: 0.2285 - binary_accuracy: 0.9238 - val_loss: 0.5765 - val_binary_accuracy: 0.7452\n",
      "Epoch 4/10\n",
      "334/334 [==============================] - 4s 13ms/step - loss: 0.1040 - binary_accuracy: 0.9683 - val_loss: 0.7320 - val_binary_accuracy: 0.7005\n",
      "Epoch 5/10\n",
      "334/334 [==============================] - 4s 13ms/step - loss: 0.0497 - binary_accuracy: 0.9864 - val_loss: 0.8143 - val_binary_accuracy: 0.6891\n",
      "Epoch 6/10\n",
      "334/334 [==============================] - 4s 13ms/step - loss: 0.0540 - binary_accuracy: 0.9869 - val_loss: 0.8178 - val_binary_accuracy: 0.7045\n",
      "Epoch 7/10\n",
      "334/334 [==============================] - 4s 13ms/step - loss: 0.0269 - binary_accuracy: 0.9909 - val_loss: 0.9363 - val_binary_accuracy: 0.6905\n",
      "Epoch 8/10\n",
      "334/334 [==============================] - 4s 13ms/step - loss: 0.0253 - binary_accuracy: 0.9916 - val_loss: 0.9275 - val_binary_accuracy: 0.7158\n",
      "Epoch 9/10\n",
      "334/334 [==============================] - 4s 13ms/step - loss: 0.0175 - binary_accuracy: 0.9956 - val_loss: 1.0000 - val_binary_accuracy: 0.6948\n",
      "Epoch 10/10\n",
      "334/334 [==============================] - 5s 13ms/step - loss: 0.0133 - binary_accuracy: 0.9955 - val_loss: 1.0292 - val_binary_accuracy: 0.7001\n"
     ]
    }
   ],
   "source": [
    "history_spacy = model_spacy.fit(train_data,\n",
    "                                validation_data = test_data,\n",
    "                                epochs = 10)"
   ]
  },
  {
   "cell_type": "code",
   "execution_count": 212,
   "metadata": {
    "colab": {
     "base_uri": "https://localhost:8080/",
     "height": 388
    },
    "id": "xg2A4DUnjcjj",
    "outputId": "c81f1eea-7b61-420a-a02b-20e8e28ba84f"
   },
   "outputs": [
    {
     "data": {
      "image/png": "[encoded data removed]",
      "text/plain": [
       "<Figure size 720x432 with 1 Axes>"
      ]
     },
     "metadata": {
      "needs_background": "dark",
      "tags": []
     },
     "output_type": "display_data"
    }
   ],
   "source": [
    "plt.figure(figsize=(10, 6))\n",
    "plt.plot(history_spacy.history[\"loss\"], label = 'Train loss')\n",
    "plt.plot(history_spacy.history[\"val_loss\"], label = 'Test loss')\n",
    "#plt.legend(bbox_to_anchor=(1.05, 1), loc='upper left', borderaxespad=0.)\n",
    "plt.legend(loc=\"upper left\")\n",
    "\n",
    "plt.ylabel(\"Loss\", color = 'white')\n",
    "plt.xlabel(\"Epochs\", color = 'white')\n",
    "plt.xticks(color = 'white')\n",
    "plt.yticks(color = 'white')\n",
    "plt.show()"
   ]
  },
  {
   "cell_type": "code",
   "execution_count": 213,
   "metadata": {
    "colab": {
     "base_uri": "https://localhost:8080/",
     "height": 388
    },
    "id": "1NY8MnDTlRVt",
    "outputId": "3b46eece-3793-4288-a15e-9e3b4eaed423"
   },
   "outputs": [
    {
     "data": {
      "image/png": "[encoded data removed]",
      "text/plain": [
       "<Figure size 720x432 with 1 Axes>"
      ]
     },
     "metadata": {
      "needs_background": "dark",
      "tags": []
     },
     "output_type": "display_data"
    }
   ],
   "source": [
    "plt.figure(figsize=(10, 6))\n",
    "plt.plot(history_spacy.history[\"binary_accuracy\"],\n",
    "         label = 'Train accuracy')\n",
    "plt.plot(history_spacy.history[\"val_binary_accuracy\"],\n",
    "         label = 'Test accuracy')\n",
    "#plt.legend(bbox_to_anchor=(1.05, 1), loc='upper left', borderaxespad=0.)\n",
    "plt.legend(loc=\"center right\")\n",
    "\n",
    "plt.ylabel(\"Accuracy\", color = 'white')\n",
    "plt.xlabel(\"Epochs\", color = 'white')\n",
    "plt.xticks(color = 'white')\n",
    "plt.yticks(color = 'white')\n",
    "plt.show()"
   ]
  },
  {
   "cell_type": "markdown",
   "metadata": {
    "id": "SwkBmCQ9VWzF"
   },
   "source": [
    "### Without Spacy"
   ]
  },
  {
   "cell_type": "code",
   "execution_count": 165,
   "metadata": {
    "colab": {
     "base_uri": "https://localhost:8080/",
     "height": 204
    },
    "id": "Vn_N4iFEWN7z",
    "outputId": "d67efc60-a61e-46b0-d096-63df8d7de957"
   },
   "outputs": [
    {
     "data": {
      "text/html": [
       "<div>\n",
       "<style scoped>\n",
       "    .dataframe tbody tr th:only-of-type {\n",
       "        vertical-align: middle;\n",
       "    }\n",
       "\n",
       "    .dataframe tbody tr th {\n",
       "        vertical-align: top;\n",
       "    }\n",
       "\n",
       "    .dataframe thead th {\n",
       "        text-align: right;\n",
       "    }\n",
       "</style>\n",
       "<table border=\"1\" class=\"dataframe\">\n",
       "  <thead>\n",
       "    <tr style=\"text-align: right;\">\n",
       "      <th></th>\n",
       "      <th>id</th>\n",
       "      <th>keyword</th>\n",
       "      <th>location</th>\n",
       "      <th>text</th>\n",
       "      <th>target</th>\n",
       "      <th>text_encoded</th>\n",
       "    </tr>\n",
       "  </thead>\n",
       "  <tbody>\n",
       "    <tr>\n",
       "      <th>0</th>\n",
       "      <td>1</td>\n",
       "      <td>NaN</td>\n",
       "      <td>NaN</td>\n",
       "      <td>Our Deeds are the Reason of this #earthquake M...</td>\n",
       "      <td>1</td>\n",
       "      <td>[508, 5474, 23, 1, 2628, 5, 24, 566, 868, 8700...</td>\n",
       "    </tr>\n",
       "    <tr>\n",
       "      <th>1</th>\n",
       "      <td>4</td>\n",
       "      <td>NaN</td>\n",
       "      <td>NaN</td>\n",
       "      <td>Forest fire near La Ronge Sask. Canada</td>\n",
       "      <td>1</td>\n",
       "      <td>[430, 55, 214, 1368, 8702, 8703, 2629]</td>\n",
       "    </tr>\n",
       "    <tr>\n",
       "      <th>2</th>\n",
       "      <td>5</td>\n",
       "      <td>NaN</td>\n",
       "      <td>NaN</td>\n",
       "      <td>All residents asked to 'shelter in place' are ...</td>\n",
       "      <td>1</td>\n",
       "      <td>[204, 3161, 1633, 3, 8704, 4, 8705, 23, 140, 8...</td>\n",
       "    </tr>\n",
       "    <tr>\n",
       "      <th>3</th>\n",
       "      <td>6</td>\n",
       "      <td>NaN</td>\n",
       "      <td>NaN</td>\n",
       "      <td>13,000 people receive #wildfires evacuation or...</td>\n",
       "      <td>1</td>\n",
       "      <td>[8708, 59, 5475, 1634, 348, 1369, 4, 94]</td>\n",
       "    </tr>\n",
       "    <tr>\n",
       "      <th>4</th>\n",
       "      <td>7</td>\n",
       "      <td>NaN</td>\n",
       "      <td>NaN</td>\n",
       "      <td>Just got sent this photo from Ruby #Alaska as ...</td>\n",
       "      <td>1</td>\n",
       "      <td>[225, 81, 1252, 24, 1253, 19, 8709, 3163, 28, ...</td>\n",
       "    </tr>\n",
       "  </tbody>\n",
       "</table>\n",
       "</div>"
      ],
      "text/plain": [
       "   id keyword  ... target                                       text_encoded\n",
       "0   1     NaN  ...      1  [508, 5474, 23, 1, 2628, 5, 24, 566, 868, 8700...\n",
       "1   4     NaN  ...      1             [430, 55, 214, 1368, 8702, 8703, 2629]\n",
       "2   5     NaN  ...      1  [204, 3161, 1633, 3, 8704, 4, 8705, 23, 140, 8...\n",
       "3   6     NaN  ...      1           [8708, 59, 5475, 1634, 348, 1369, 4, 94]\n",
       "4   7     NaN  ...      1  [225, 81, 1252, 24, 1253, 19, 8709, 3163, 28, ...\n",
       "\n",
       "[5 rows x 6 columns]"
      ]
     },
     "execution_count": 165,
     "metadata": {
      "tags": []
     },
     "output_type": "execute_result"
    }
   ],
   "source": [
    "# Create a tokenizer instance\n",
    "#tokenizer = tf.keras.preprocessing.text.Tokenizer()\n",
    "tokenizer = tf.keras.preprocessing.text.Tokenizer(num_words=None, filters='#$%&()*+-<=>@[\\\\]^_`{|}~\\t\\n',\n",
    "                     lower = False, split = ' ')\n",
    "\n",
    "# Fit tokenizer on our texts\n",
    "tokenizer.fit_on_texts(df_train['text'])\n",
    "\n",
    "# Encoding texts tokenized and store the result in our dataframe\n",
    "df_train['text_encoded'] = tokenizer.texts_to_sequences(df_train['text'])\n",
    "df_train.head()"
   ]
  },
  {
   "cell_type": "code",
   "execution_count": 62,
   "metadata": {
    "colab": {
     "base_uri": "https://localhost:8080/",
     "height": 306
    },
    "id": "Ieat6cM2WN70",
    "outputId": "cf69bb97-6dbc-41ab-8101-e5c466629847"
   },
   "outputs": [
    {
     "data": {
      "text/plain": [
       "array([[ 119, 4633,   24,    4,  868,    8,   21,  263,  138, 1619, 4634,\n",
       "          89,   40,    0,    0,    0,    0,    0,    0,    0,    0,    0,\n",
       "           0,    0,    0,    0,    0,    0,    0,    0,    0,    0,    0],\n",
       "       [ 189,   45,  229,  799, 6954, 6955, 1404,    0,    0,    0,    0,\n",
       "           0,    0,    0,    0,    0,    0,    0,    0,    0,    0,    0,\n",
       "           0,    0,    0,    0,    0,    0,    0,    0,    0,    0,    0],\n",
       "       [  40, 1751, 1620,    7, 6956,    6, 6957,   24,  136, 6958,   20,\n",
       "        1752,   39,  441,  256,   57, 2158,    6,  714, 1405,   24, 1106,\n",
       "           0,    0,    0,    0,    0,    0,    0,    0,    0,    0,    0],\n",
       "       [ 835, 2921,   59, 4635, 1500,  256, 1405,    6,   96,    0,    0,\n",
       "           0,    0,    0,    0,    0,    0,    0,    0,    0,    0,    0,\n",
       "           0,    0,    0,    0,    0,    0,    0,    0,    0,    0,    0],\n",
       "       [  34,  100, 1221,   21,  320,   22, 6959, 2159,   30,  271,   22,\n",
       "        1500, 6960,   69,    5,  187,    0,    0,    0,    0,    0,    0,\n",
       "           0,    0,    0,    0,    0,    0,    0,    0,    0,    0,    0]],\n",
       "      dtype=int32)"
      ]
     },
     "metadata": {
      "tags": []
     },
     "output_type": "display_data"
    },
    {
     "data": {
      "text/plain": [
       "(7613, 33)"
      ]
     },
     "metadata": {
      "tags": []
     },
     "output_type": "display_data"
    }
   ],
   "source": [
    "# Padding texts encoded\n",
    "texts_pad = tf.keras.preprocessing.sequence.pad_sequences(\n",
    "                                             df_train['text_encoded'],\n",
    "                                             padding = \"post\")\n",
    "display(texts_pad[0:5])\n",
    "display(texts_pad.shape)"
   ]
  },
  {
   "cell_type": "markdown",
   "metadata": {
    "id": "4cehp5T5WN71"
   },
   "source": [
    "2. Create the tensor dataset from our texts padded and our target"
   ]
  },
  {
   "cell_type": "code",
   "execution_count": 63,
   "metadata": {
    "colab": {
     "base_uri": "https://localhost:8080/"
    },
    "id": "5uaxn1GzWN71",
    "outputId": "a04b186e-854c-4bb1-d037-11e8b4a6cf05"
   },
   "outputs": [
    {
     "name": "stdout",
     "output_type": "stream",
     "text": [
      "tf.Tensor(\n",
      "[ 119 4633   24    4  868    8   21  263  138 1619 4634   89   40    0\n",
      "    0    0    0    0    0    0    0    0    0    0    0    0    0    0\n",
      "    0    0    0    0    0], shape=(33,), dtype=int32) \n",
      "\n",
      " tf.Tensor(1, shape=(), dtype=int64)\n"
     ]
    }
   ],
   "source": [
    "# Create the tensor dataset\n",
    "tf_data = tf.data.Dataset.from_tensor_slices((texts_pad,\n",
    "                                              df_train['target'].values))\n",
    "\n",
    "# Read the first tensor\n",
    "text, target = next(iter(tf_data))\n",
    "print(text, \"\\n\\n\", target)"
   ]
  },
  {
   "cell_type": "markdown",
   "metadata": {
    "id": "XbBMCYCaWN72"
   },
   "source": [
    "3. Spliting our tensor dataset in train and test set (75% in the train)"
   ]
  },
  {
   "cell_type": "code",
   "execution_count": 64,
   "metadata": {
    "colab": {
     "base_uri": "https://localhost:8080/"
    },
    "id": "Rgag9I3HWN72",
    "outputId": "03f75730-f63d-4533-d1b6-9619e4d30ae2"
   },
   "outputs": [
    {
     "name": "stdout",
     "output_type": "stream",
     "text": [
      "tf.Tensor(\n",
      "[[  159     4  9984  9985    65  3993   302  9986     5   547   432    13\n",
      "   1456  1869   852   455    73     0     0     0     0     0     0     0\n",
      "      0     0     0     0     0     0     0     0     0]\n",
      " [    5    52   970   765    55    20 12186    23     1     2 12187    13\n",
      "   2113     0     0     0     0     0     0     0     0     0     0     0\n",
      "      0     0     0     0     0     0     0     0     0]\n",
      " [ 1393  1038  1908    45   260   136   596     6  1393   191     8    75\n",
      "   1709     6 14984 14985     3     1     2 14986     0     0     0     0\n",
      "      0     0     0     0     0     0     0     0     0]\n",
      " [ 1249   276  4536  2133    19     4   216   935     5   276  1271    74\n",
      "   6495     5  6496  3770  2860     3     1     2 17101     0     0     0\n",
      "      0     0     0     0     0     0     0     0     0]\n",
      " [14209    51    10    27     7   126  1874    15  6132  4387   267    34\n",
      "    515     0     0     0     0     0     0     0     0     0     0     0\n",
      "      0     0     0     0     0     0     0     0     0]\n",
      " [18600  2085   575  1219   153   466    66   569  1074   812  1146   370\n",
      "      0     0     0     0     0     0     0     0     0     0     0     0\n",
      "      0     0     0     0     0     0     0     0     0]\n",
      " [11562   680   104    10    26   654     5   299   379    35   642    33\n",
      "   2723     5   459     8  5664    27   996    18   185   360     0     0\n",
      "      0     0     0     0     0     0     0     0     0]\n",
      " [10174   727   149     4   997     5   511  3242    30   874  4014     8\n",
      "   1084   313  1766     5   383     6   942     3     1     2 10175     0\n",
      "      0     0     0     0     0     0     0     0     0]\n",
      " [   10  1019     5    72     7     5   121  1130     3     1     2 14764\n",
      "    107   761  4416  4417   516  2855  2856   963  1529  2046 14765 14766\n",
      "      0     0     0     0     0     0     0     0     0]\n",
      " [ 2886   518   614    29   483   326 17059 17060 17061  2887     0     0\n",
      "      0     0     0     0     0     0     0     0     0     0     0     0\n",
      "      0     0     0     0     0     0     0     0     0]\n",
      " [  517  6251  6252     0     0     0     0     0     0     0     0     0\n",
      "      0     0     0     0     0     0     0     0     0     0     0     0\n",
      "      0     0     0     0     0     0     0     0     0]\n",
      " [ 7433    49   173   170  2198    42   671   171   105    29   880  1117\n",
      "    174     5   674    29    25     5  1524    12    97  3655    23     1\n",
      "      2  3656     0     0     0     0     0     0     0]\n",
      " [   35   137    10  2007    99     5  1084 13179    15   347  3853     9\n",
      "    824   589 13180     0     0     0     0     0     0     0     0     0\n",
      "      0     0     0     0     0     0     0     0     0]\n",
      " [  554  6330    16   312    13   715    94     8  2140    23     1     2\n",
      "  15672     0     0     0     0     0     0     0     0     0     0     0\n",
      "      0     0     0     0     0     0     0     0     0]\n",
      " [ 3664  4743     4   637  1282     8  2059 14387     9     4   738  2417\n",
      "      8  6153 14388     3     1     2 14389     3     1     2 14390     0\n",
      "      0     0     0     0     0     0     0     0     0]\n",
      " [  193  1044   561   890     7   558   725    30   604   763   183   767\n",
      "    147     3     1     2 16281   616   166     0     0     0     0     0\n",
      "      0     0     0     0     0     0     0     0     0]], shape=(16, 33), dtype=int32) \n",
      "\n",
      " tf.Tensor([0 0 1 0 0 1 0 1 0 0 1 1 0 1 1 0], shape=(16,), dtype=int64)\n"
     ]
    }
   ],
   "source": [
    "# Train test split with take and skip\n",
    "TAKE_SIZE = int(0.75 * df_train.shape[0])\n",
    "BATCH_SIZE = 16\n",
    "\n",
    "train_data = tf_data.take(TAKE_SIZE)\n",
    "test_data = tf_data.skip(TAKE_SIZE)\n",
    "\n",
    "train_data = train_data.shuffle(len(train_data)).batch(BATCH_SIZE)\n",
    "test_data = test_data.shuffle(len(test_data)).batch(BATCH_SIZE)\n",
    "\n",
    "# Print a batch of data\n",
    "text, target = next(iter(train_data))\n",
    "print(text, \"\\n\\n\", target)"
   ]
  },
  {
   "cell_type": "markdown",
   "metadata": {
    "id": "4Lp3EvdeWN72"
   },
   "source": [
    "### Modeling"
   ]
  },
  {
   "cell_type": "code",
   "execution_count": 65,
   "metadata": {
    "colab": {
     "base_uri": "https://localhost:8080/"
    },
    "id": "dRKWkWguWN73",
    "outputId": "1b6e98e2-731f-42af-ac95-5a8e8d21705c"
   },
   "outputs": [
    {
     "data": {
      "text/plain": [
       "22700"
      ]
     },
     "execution_count": 65,
     "metadata": {
      "tags": []
     },
     "output_type": "execute_result"
    }
   ],
   "source": [
    "# Vocabulary size\n",
    "vocab_size = len(tokenizer.word_index)\n",
    "vocab_size"
   ]
  },
  {
   "cell_type": "code",
   "execution_count": 66,
   "metadata": {
    "id": "HGi_pZd7WN73"
   },
   "outputs": [],
   "source": [
    "# Create our model\n",
    "model = tf.keras.Sequential([\n",
    "                  # Couche d'Input Word Embedding           \n",
    "                  tf.keras.layers.Embedding(vocab_size +1, 128,\n",
    "                                            input_shape=[text.shape[1],]),\n",
    "\n",
    "                  # Couche CNN\n",
    "                  tf.keras.layers.Conv1D(16, 3, activation=\"relu\"),  \n",
    "\n",
    "                  # flatten output\n",
    "                  tf.keras.layers.Flatten(),       \n",
    "\n",
    "                  # Couche Dense classique \n",
    "                  tf.keras.layers.Dense(128, activation='relu'),\n",
    "                  tf.keras.layers.Dense(64, activation='relu'),\n",
    "                  tf.keras.layers.Dense(32, activation='relu'),\n",
    "\n",
    "                  tf.keras.layers.Dropout(0.10),\n",
    "\n",
    "                  tf.keras.layers.Dense(16, activation='relu'),\n",
    "                  tf.keras.layers.Dense(8, activation='relu'),\n",
    "\n",
    "                  # Couche de sortie avec le nombre de neurones en sortie égale au nombre de classe avec fonction softmax\n",
    "                  tf.keras.layers.Dense(1, activation=\"sigmoid\")\n",
    "                                              \n",
    "])"
   ]
  },
  {
   "cell_type": "code",
   "execution_count": 67,
   "metadata": {
    "colab": {
     "base_uri": "https://localhost:8080/"
    },
    "id": "kzl_i_RdWN73",
    "outputId": "6317be37-3660-4e05-eb7d-abf8ce22776b"
   },
   "outputs": [
    {
     "name": "stdout",
     "output_type": "stream",
     "text": [
      "Model: \"sequential_3\"\n",
      "_________________________________________________________________\n",
      "Layer (type)                 Output Shape              Param #   \n",
      "=================================================================\n",
      "embedding_3 (Embedding)      (None, 33, 128)           2905728   \n",
      "_________________________________________________________________\n",
      "conv1d_3 (Conv1D)            (None, 31, 16)            6160      \n",
      "_________________________________________________________________\n",
      "flatten_3 (Flatten)          (None, 496)               0         \n",
      "_________________________________________________________________\n",
      "dense_18 (Dense)             (None, 128)               63616     \n",
      "_________________________________________________________________\n",
      "dense_19 (Dense)             (None, 64)                8256      \n",
      "_________________________________________________________________\n",
      "dense_20 (Dense)             (None, 32)                2080      \n",
      "_________________________________________________________________\n",
      "dropout_3 (Dropout)          (None, 32)                0         \n",
      "_________________________________________________________________\n",
      "dense_21 (Dense)             (None, 16)                528       \n",
      "_________________________________________________________________\n",
      "dense_22 (Dense)             (None, 8)                 136       \n",
      "_________________________________________________________________\n",
      "dense_23 (Dense)             (None, 1)                 9         \n",
      "=================================================================\n",
      "Total params: 2,986,513\n",
      "Trainable params: 2,986,513\n",
      "Non-trainable params: 0\n",
      "_________________________________________________________________\n"
     ]
    }
   ],
   "source": [
    "model.summary()"
   ]
  },
  {
   "cell_type": "code",
   "execution_count": 68,
   "metadata": {
    "id": "QIiw6g4OWN74"
   },
   "outputs": [],
   "source": [
    "initial_learning_rate = 0.003\n",
    "\n",
    "lr_schedule = tf.keras.optimizers.schedules.ExponentialDecay(\n",
    "    initial_learning_rate,\n",
    "    decay_steps=5000,\n",
    "    decay_rate=0.95,\n",
    "    staircase=True)"
   ]
  },
  {
   "cell_type": "code",
   "execution_count": 69,
   "metadata": {
    "id": "yW0lzkDZWN74"
   },
   "outputs": [],
   "source": [
    "model.compile(optimizer=tf.keras.optimizers.Adam(learning_rate = lr_schedule),\n",
    "              loss = tf.keras.losses.binary_crossentropy,\n",
    "              metrics = [tf.keras.metrics.binary_accuracy])"
   ]
  },
  {
   "cell_type": "code",
   "execution_count": 70,
   "metadata": {
    "colab": {
     "base_uri": "https://localhost:8080/"
    },
    "id": "jOAeeK3SWN74",
    "outputId": "b80d2662-9ab8-46e7-8690-c17ef44adec0"
   },
   "outputs": [
    {
     "name": "stdout",
     "output_type": "stream",
     "text": [
      "Epoch 1/20\n",
      "357/357 [==============================] - 11s 28ms/step - loss: 0.6339 - binary_accuracy: 0.6316 - val_loss: 0.4718 - val_binary_accuracy: 0.7836\n",
      "Epoch 2/20\n",
      "357/357 [==============================] - 9s 26ms/step - loss: 0.2856 - binary_accuracy: 0.8895 - val_loss: 0.5567 - val_binary_accuracy: 0.7264\n",
      "Epoch 3/20\n",
      "357/357 [==============================] - 9s 26ms/step - loss: 0.0656 - binary_accuracy: 0.9786 - val_loss: 0.6973 - val_binary_accuracy: 0.7211\n",
      "Epoch 4/20\n",
      "357/357 [==============================] - 10s 27ms/step - loss: 0.0423 - binary_accuracy: 0.9860 - val_loss: 0.9152 - val_binary_accuracy: 0.6859\n",
      "Epoch 5/20\n",
      "357/357 [==============================] - 9s 26ms/step - loss: 0.0209 - binary_accuracy: 0.9938 - val_loss: 1.1766 - val_binary_accuracy: 0.6817\n",
      "Epoch 6/20\n",
      "357/357 [==============================] - 10s 27ms/step - loss: 0.0146 - binary_accuracy: 0.9926 - val_loss: 1.5243 - val_binary_accuracy: 0.7017\n",
      "Epoch 7/20\n",
      "357/357 [==============================] - 9s 26ms/step - loss: 0.0077 - binary_accuracy: 0.9956 - val_loss: 1.5092 - val_binary_accuracy: 0.7096\n",
      "Epoch 8/20\n",
      "357/357 [==============================] - 9s 27ms/step - loss: 0.0084 - binary_accuracy: 0.9960 - val_loss: 2.2581 - val_binary_accuracy: 0.6949\n",
      "Epoch 9/20\n",
      "357/357 [==============================] - 9s 26ms/step - loss: 0.0077 - binary_accuracy: 0.9947 - val_loss: 2.0961 - val_binary_accuracy: 0.7138\n",
      "Epoch 10/20\n",
      "357/357 [==============================] - 10s 27ms/step - loss: 0.0090 - binary_accuracy: 0.9940 - val_loss: 2.3462 - val_binary_accuracy: 0.7159\n",
      "Epoch 11/20\n",
      "357/357 [==============================] - 10s 27ms/step - loss: 0.0075 - binary_accuracy: 0.9961 - val_loss: 2.2368 - val_binary_accuracy: 0.7306\n",
      "Epoch 12/20\n",
      "357/357 [==============================] - 9s 27ms/step - loss: 0.0053 - binary_accuracy: 0.9971 - val_loss: 2.5374 - val_binary_accuracy: 0.7248\n",
      "Epoch 13/20\n",
      "357/357 [==============================] - 9s 26ms/step - loss: 0.0068 - binary_accuracy: 0.9959 - val_loss: 2.6569 - val_binary_accuracy: 0.7211\n",
      "Epoch 14/20\n",
      "357/357 [==============================] - 9s 26ms/step - loss: 0.0127 - binary_accuracy: 0.9953 - val_loss: 0.9917 - val_binary_accuracy: 0.6607\n",
      "Epoch 15/20\n",
      "357/357 [==============================] - 9s 26ms/step - loss: 0.0469 - binary_accuracy: 0.9835 - val_loss: 1.4053 - val_binary_accuracy: 0.6796\n",
      "Epoch 16/20\n",
      "357/357 [==============================] - 9s 26ms/step - loss: 0.0164 - binary_accuracy: 0.9933 - val_loss: 1.1198 - val_binary_accuracy: 0.6964\n",
      "Epoch 17/20\n",
      "357/357 [==============================] - 9s 27ms/step - loss: 0.0084 - binary_accuracy: 0.9963 - val_loss: 1.4218 - val_binary_accuracy: 0.7148\n",
      "Epoch 18/20\n",
      "357/357 [==============================] - 9s 27ms/step - loss: 0.0092 - binary_accuracy: 0.9948 - val_loss: 1.4603 - val_binary_accuracy: 0.7143\n",
      "Epoch 19/20\n",
      "357/357 [==============================] - 9s 27ms/step - loss: 0.0083 - binary_accuracy: 0.9960 - val_loss: 2.1917 - val_binary_accuracy: 0.6996\n",
      "Epoch 20/20\n",
      "357/357 [==============================] - 9s 27ms/step - loss: 0.0064 - binary_accuracy: 0.9972 - val_loss: 2.3618 - val_binary_accuracy: 0.6964\n"
     ]
    }
   ],
   "source": [
    "history = model.fit(train_data,\n",
    "                    validation_data = test_data,\n",
    "                    epochs = 20)"
   ]
  },
  {
   "cell_type": "code",
   "execution_count": 71,
   "metadata": {
    "colab": {
     "base_uri": "https://localhost:8080/",
     "height": 388
    },
    "id": "XpFfGVlqWN75",
    "outputId": "f04babd9-8632-4972-88ff-a7cae3fadbb5"
   },
   "outputs": [
    {
     "data": {
      "image/png": "[encoded data removed]",
      "text/plain": [
       "<Figure size 720x432 with 1 Axes>"
      ]
     },
     "metadata": {
      "needs_background": "dark",
      "tags": []
     },
     "output_type": "display_data"
    }
   ],
   "source": [
    "plt.figure(figsize=(10, 6))\n",
    "plt.plot(history.history[\"loss\"], label = 'Train loss')\n",
    "plt.plot(history.history[\"val_loss\"], label = 'Test loss')\n",
    "#plt.legend(bbox_to_anchor=(1.05, 1), loc='upper left', borderaxespad=0.)\n",
    "plt.legend(loc=\"upper right\")\n",
    "\n",
    "plt.ylabel(\"Loss\", color = 'white')\n",
    "plt.xlabel(\"Epochs\", color = 'white')\n",
    "plt.xticks(color = 'white')\n",
    "plt.yticks(color = 'white')\n",
    "plt.show()"
   ]
  },
  {
   "cell_type": "code",
   "execution_count": 72,
   "metadata": {
    "colab": {
     "base_uri": "https://localhost:8080/",
     "height": 388
    },
    "id": "9MVgzLeDWN75",
    "outputId": "b9ac8493-2f19-44c0-b890-96464b47f9bf"
   },
   "outputs": [
    {
     "data": {
      "image/png": "[encoded data removed]",
      "text/plain": [
       "<Figure size 720x432 with 1 Axes>"
      ]
     },
     "metadata": {
      "needs_background": "dark",
      "tags": []
     },
     "output_type": "display_data"
    }
   ],
   "source": [
    "plt.figure(figsize=(10, 6))\n",
    "plt.plot(history.history[\"binary_accuracy\"],\n",
    "         label = 'Train accuracy')\n",
    "plt.plot(history.history[\"val_binary_accuracy\"],\n",
    "         label = 'Test accuracy')\n",
    "#plt.legend(bbox_to_anchor=(1.05, 1), loc='upper left', borderaxespad=0.)\n",
    "plt.legend(loc=\"upper left\")\n",
    "\n",
    "plt.ylabel(\"Accuracy\", color = 'white')\n",
    "plt.xlabel(\"Epochs\", color = 'white')\n",
    "plt.xticks(color = 'white')\n",
    "plt.yticks(color = 'white')\n",
    "plt.show()"
   ]
  },
  {
   "cell_type": "markdown",
   "metadata": {
    "id": "zYH9uHYjs4YU"
   },
   "source": [
    "### Recurent Neural Network (RNN)"
   ]
  },
  {
   "cell_type": "code",
   "execution_count": 149,
   "metadata": {
    "colab": {
     "base_uri": "https://localhost:8080/"
    },
    "id": "XXGGaao_uA4t",
    "outputId": "6b877db4-4081-4594-e331-838e5468b963"
   },
   "outputs": [
    {
     "data": {
      "text/plain": [
       "25"
      ]
     },
     "execution_count": 149,
     "metadata": {
      "tags": []
     },
     "output_type": "execute_result"
    }
   ],
   "source": [
    "texts_pad.shape[1]"
   ]
  },
  {
   "cell_type": "code",
   "execution_count": 187,
   "metadata": {
    "id": "yQSaMpuQaxmf"
   },
   "outputs": [],
   "source": [
    "model_rnn = tf.keras.Sequential([\n",
    "           # Embedding layer\n",
    "           tf.keras.layers.Embedding(vocab_size +1, 64,\n",
    "                                     input_shape = [text.shape[1],]),\n",
    "           \n",
    "           # Bidirectional LSTM layer\n",
    "           #tf.keras.layers.Bidirectional(\n",
    "           tf.keras.layers.LSTM(64, return_sequences=True),\n",
    "\n",
    "           # Bidirectional LSTM new layer\n",
    "           #tf.keras.layers.Bidirectional(\n",
    "           #tf.keras.layers.LSTM(64, return_sequences=False),\n",
    "           \n",
    "           # RepeatVector layer\n",
    "           #tf.keras.layers.RepeatVector(texts_pad.shape[1]),\n",
    "           \n",
    "           # LSTM new layer\n",
    "           tf.keras.layers.LSTM(32, return_sequences=True),\n",
    "\n",
    "           # TimeDistributed layer\n",
    "           #tf.keras.layers.TimeDistributed(\n",
    "           tf.keras.layers.Dense(1, activation=\"sigmoid\")\n",
    "])"
   ]
  },
  {
   "cell_type": "code",
   "execution_count": 188,
   "metadata": {
    "id": "i_Wdj1F2ufn3"
   },
   "outputs": [],
   "source": [
    "initial_learning_rate = 0.003\n",
    "\n",
    "lr_schedule = tf.keras.optimizers.schedules.ExponentialDecay(\n",
    "    initial_learning_rate,\n",
    "    decay_steps=5000,\n",
    "    decay_rate=0.95,\n",
    "    staircase=True)"
   ]
  },
  {
   "cell_type": "code",
   "execution_count": 189,
   "metadata": {
    "id": "er2Hof_8u4kR"
   },
   "outputs": [],
   "source": [
    "model_rnn.compile(optimizer=tf.keras.optimizers.Adam(learning_rate = lr_schedule),\n",
    "              loss = tf.keras.losses.binary_crossentropy,\n",
    "              metrics = [tf.keras.metrics.binary_accuracy])"
   ]
  },
  {
   "cell_type": "code",
   "execution_count": 190,
   "metadata": {
    "colab": {
     "base_uri": "https://localhost:8080/",
     "height": 477
    },
    "id": "yGexuJpWu99r",
    "outputId": "d5611a7b-9187-4ac5-f265-570419b5f033"
   },
   "outputs": [
    {
     "name": "stdout",
     "output_type": "stream",
     "text": [
      "Epoch 1/20\n",
      "334/334 [==============================] - 9s 19ms/step - loss: 0.5976 - binary_accuracy: 0.6727 - val_loss: 0.5325 - val_binary_accuracy: 0.7398\n",
      "Epoch 2/20\n",
      "334/334 [==============================] - 6s 17ms/step - loss: 0.2799 - binary_accuracy: 0.8899 - val_loss: 0.7143 - val_binary_accuracy: 0.6853\n",
      "Epoch 3/20\n",
      "334/334 [==============================] - 6s 17ms/step - loss: 0.1569 - binary_accuracy: 0.9476 - val_loss: 0.8916 - val_binary_accuracy: 0.6846\n",
      "Epoch 4/20\n",
      "160/334 [=============>................] - ETA: 2s - loss: 0.0875 - binary_accuracy: 0.9696"
     ]
    },
    {
     "ename": "KeyboardInterrupt",
     "evalue": "ignored",
     "output_type": "error",
     "traceback": [
      "\u001b[0;31m---------------------------------------------------------------------------\u001b[0m",
      "\u001b[0;31mKeyboardInterrupt\u001b[0m                         Traceback (most recent call last)",
      "\u001b[0;32m<ipython-input-190-fc46b6a9505c>\u001b[0m in \u001b[0;36m<module>\u001b[0;34m()\u001b[0m\n\u001b[1;32m      1\u001b[0m history_rnn = model_rnn.fit(train_data,\n\u001b[1;32m      2\u001b[0m                     \u001b[0mvalidation_data\u001b[0m \u001b[0;34m=\u001b[0m \u001b[0mtest_data\u001b[0m\u001b[0;34m,\u001b[0m\u001b[0;34m\u001b[0m\u001b[0;34m\u001b[0m\u001b[0m\n\u001b[0;32m----> 3\u001b[0;31m                     epochs = 20)\n\u001b[0m",
      "\u001b[0;32m/usr/local/lib/python3.6/dist-packages/tensorflow/python/keras/engine/training.py\u001b[0m in \u001b[0;36mfit\u001b[0;34m(self, x, y, batch_size, epochs, verbose, callbacks, validation_split, validation_data, shuffle, class_weight, sample_weight, initial_epoch, steps_per_epoch, validation_steps, validation_batch_size, validation_freq, max_queue_size, workers, use_multiprocessing)\u001b[0m\n\u001b[1;32m   1098\u001b[0m                 _r=1):\n\u001b[1;32m   1099\u001b[0m               \u001b[0mcallbacks\u001b[0m\u001b[0;34m.\u001b[0m\u001b[0mon_train_batch_begin\u001b[0m\u001b[0;34m(\u001b[0m\u001b[0mstep\u001b[0m\u001b[0;34m)\u001b[0m\u001b[0;34m\u001b[0m\u001b[0;34m\u001b[0m\u001b[0m\n\u001b[0;32m-> 1100\u001b[0;31m               \u001b[0mtmp_logs\u001b[0m \u001b[0;34m=\u001b[0m \u001b[0mself\u001b[0m\u001b[0;34m.\u001b[0m\u001b[0mtrain_function\u001b[0m\u001b[0;34m(\u001b[0m\u001b[0miterator\u001b[0m\u001b[0;34m)\u001b[0m\u001b[0;34m\u001b[0m\u001b[0;34m\u001b[0m\u001b[0m\n\u001b[0m\u001b[1;32m   1101\u001b[0m               \u001b[0;32mif\u001b[0m \u001b[0mdata_handler\u001b[0m\u001b[0;34m.\u001b[0m\u001b[0mshould_sync\u001b[0m\u001b[0;34m:\u001b[0m\u001b[0;34m\u001b[0m\u001b[0;34m\u001b[0m\u001b[0m\n\u001b[1;32m   1102\u001b[0m                 \u001b[0mcontext\u001b[0m\u001b[0;34m.\u001b[0m\u001b[0masync_wait\u001b[0m\u001b[0;34m(\u001b[0m\u001b[0;34m)\u001b[0m\u001b[0;34m\u001b[0m\u001b[0;34m\u001b[0m\u001b[0m\n",
      "\u001b[0;32m/usr/local/lib/python3.6/dist-packages/tensorflow/python/eager/def_function.py\u001b[0m in \u001b[0;36m__call__\u001b[0;34m(self, *args, **kwds)\u001b[0m\n\u001b[1;32m    826\u001b[0m     \u001b[0mtracing_count\u001b[0m \u001b[0;34m=\u001b[0m \u001b[0mself\u001b[0m\u001b[0;34m.\u001b[0m\u001b[0mexperimental_get_tracing_count\u001b[0m\u001b[0;34m(\u001b[0m\u001b[0;34m)\u001b[0m\u001b[0;34m\u001b[0m\u001b[0;34m\u001b[0m\u001b[0m\n\u001b[1;32m    827\u001b[0m     \u001b[0;32mwith\u001b[0m \u001b[0mtrace\u001b[0m\u001b[0;34m.\u001b[0m\u001b[0mTrace\u001b[0m\u001b[0;34m(\u001b[0m\u001b[0mself\u001b[0m\u001b[0;34m.\u001b[0m\u001b[0m_name\u001b[0m\u001b[0;34m)\u001b[0m \u001b[0;32mas\u001b[0m \u001b[0mtm\u001b[0m\u001b[0;34m:\u001b[0m\u001b[0;34m\u001b[0m\u001b[0;34m\u001b[0m\u001b[0m\n\u001b[0;32m--> 828\u001b[0;31m       \u001b[0mresult\u001b[0m \u001b[0;34m=\u001b[0m \u001b[0mself\u001b[0m\u001b[0;34m.\u001b[0m\u001b[0m_call\u001b[0m\u001b[0;34m(\u001b[0m\u001b[0;34m*\u001b[0m\u001b[0margs\u001b[0m\u001b[0;34m,\u001b[0m \u001b[0;34m**\u001b[0m\u001b[0mkwds\u001b[0m\u001b[0;34m)\u001b[0m\u001b[0;34m\u001b[0m\u001b[0;34m\u001b[0m\u001b[0m\n\u001b[0m\u001b[1;32m    829\u001b[0m       \u001b[0mcompiler\u001b[0m \u001b[0;34m=\u001b[0m \u001b[0;34m\"xla\"\u001b[0m \u001b[0;32mif\u001b[0m \u001b[0mself\u001b[0m\u001b[0;34m.\u001b[0m\u001b[0m_experimental_compile\u001b[0m \u001b[0;32melse\u001b[0m \u001b[0;34m\"nonXla\"\u001b[0m\u001b[0;34m\u001b[0m\u001b[0;34m\u001b[0m\u001b[0m\n\u001b[1;32m    830\u001b[0m       \u001b[0mnew_tracing_count\u001b[0m \u001b[0;34m=\u001b[0m \u001b[0mself\u001b[0m\u001b[0;34m.\u001b[0m\u001b[0mexperimental_get_tracing_count\u001b[0m\u001b[0;34m(\u001b[0m\u001b[0;34m)\u001b[0m\u001b[0;34m\u001b[0m\u001b[0;34m\u001b[0m\u001b[0m\n",
      "\u001b[0;32m/usr/local/lib/python3.6/dist-packages/tensorflow/python/eager/def_function.py\u001b[0m in \u001b[0;36m_call\u001b[0;34m(self, *args, **kwds)\u001b[0m\n\u001b[1;32m    853\u001b[0m       \u001b[0;31m# In this case we have created variables on the first call, so we run the\u001b[0m\u001b[0;34m\u001b[0m\u001b[0;34m\u001b[0m\u001b[0;34m\u001b[0m\u001b[0m\n\u001b[1;32m    854\u001b[0m       \u001b[0;31m# defunned version which is guaranteed to never create variables.\u001b[0m\u001b[0;34m\u001b[0m\u001b[0;34m\u001b[0m\u001b[0;34m\u001b[0m\u001b[0m\n\u001b[0;32m--> 855\u001b[0;31m       \u001b[0;32mreturn\u001b[0m \u001b[0mself\u001b[0m\u001b[0;34m.\u001b[0m\u001b[0m_stateless_fn\u001b[0m\u001b[0;34m(\u001b[0m\u001b[0;34m*\u001b[0m\u001b[0margs\u001b[0m\u001b[0;34m,\u001b[0m \u001b[0;34m**\u001b[0m\u001b[0mkwds\u001b[0m\u001b[0;34m)\u001b[0m  \u001b[0;31m# pylint: disable=not-callable\u001b[0m\u001b[0;34m\u001b[0m\u001b[0;34m\u001b[0m\u001b[0m\n\u001b[0m\u001b[1;32m    856\u001b[0m     \u001b[0;32melif\u001b[0m \u001b[0mself\u001b[0m\u001b[0;34m.\u001b[0m\u001b[0m_stateful_fn\u001b[0m \u001b[0;32mis\u001b[0m \u001b[0;32mnot\u001b[0m \u001b[0;32mNone\u001b[0m\u001b[0;34m:\u001b[0m\u001b[0;34m\u001b[0m\u001b[0;34m\u001b[0m\u001b[0m\n\u001b[1;32m    857\u001b[0m       \u001b[0;31m# Release the lock early so that multiple threads can perform the call\u001b[0m\u001b[0;34m\u001b[0m\u001b[0;34m\u001b[0m\u001b[0;34m\u001b[0m\u001b[0m\n",
      "\u001b[0;32m/usr/local/lib/python3.6/dist-packages/tensorflow/python/eager/function.py\u001b[0m in \u001b[0;36m__call__\u001b[0;34m(self, *args, **kwargs)\u001b[0m\n\u001b[1;32m   2941\u001b[0m        filtered_flat_args) = self._maybe_define_function(args, kwargs)\n\u001b[1;32m   2942\u001b[0m     return graph_function._call_flat(\n\u001b[0;32m-> 2943\u001b[0;31m         filtered_flat_args, captured_inputs=graph_function.captured_inputs)  # pylint: disable=protected-access\n\u001b[0m\u001b[1;32m   2944\u001b[0m \u001b[0;34m\u001b[0m\u001b[0m\n\u001b[1;32m   2945\u001b[0m   \u001b[0;34m@\u001b[0m\u001b[0mproperty\u001b[0m\u001b[0;34m\u001b[0m\u001b[0;34m\u001b[0m\u001b[0m\n",
      "\u001b[0;32m/usr/local/lib/python3.6/dist-packages/tensorflow/python/eager/function.py\u001b[0m in \u001b[0;36m_call_flat\u001b[0;34m(self, args, captured_inputs, cancellation_manager)\u001b[0m\n\u001b[1;32m   1917\u001b[0m       \u001b[0;31m# No tape is watching; skip to running the function.\u001b[0m\u001b[0;34m\u001b[0m\u001b[0;34m\u001b[0m\u001b[0;34m\u001b[0m\u001b[0m\n\u001b[1;32m   1918\u001b[0m       return self._build_call_outputs(self._inference_function.call(\n\u001b[0;32m-> 1919\u001b[0;31m           ctx, args, cancellation_manager=cancellation_manager))\n\u001b[0m\u001b[1;32m   1920\u001b[0m     forward_backward = self._select_forward_and_backward_functions(\n\u001b[1;32m   1921\u001b[0m         \u001b[0margs\u001b[0m\u001b[0;34m,\u001b[0m\u001b[0;34m\u001b[0m\u001b[0;34m\u001b[0m\u001b[0m\n",
      "\u001b[0;32m/usr/local/lib/python3.6/dist-packages/tensorflow/python/eager/function.py\u001b[0m in \u001b[0;36mcall\u001b[0;34m(self, ctx, args, cancellation_manager)\u001b[0m\n\u001b[1;32m    558\u001b[0m               \u001b[0minputs\u001b[0m\u001b[0;34m=\u001b[0m\u001b[0margs\u001b[0m\u001b[0;34m,\u001b[0m\u001b[0;34m\u001b[0m\u001b[0;34m\u001b[0m\u001b[0m\n\u001b[1;32m    559\u001b[0m               \u001b[0mattrs\u001b[0m\u001b[0;34m=\u001b[0m\u001b[0mattrs\u001b[0m\u001b[0;34m,\u001b[0m\u001b[0;34m\u001b[0m\u001b[0;34m\u001b[0m\u001b[0m\n\u001b[0;32m--> 560\u001b[0;31m               ctx=ctx)\n\u001b[0m\u001b[1;32m    561\u001b[0m         \u001b[0;32melse\u001b[0m\u001b[0;34m:\u001b[0m\u001b[0;34m\u001b[0m\u001b[0;34m\u001b[0m\u001b[0m\n\u001b[1;32m    562\u001b[0m           outputs = execute.execute_with_cancellation(\n",
      "\u001b[0;32m/usr/local/lib/python3.6/dist-packages/tensorflow/python/eager/execute.py\u001b[0m in \u001b[0;36mquick_execute\u001b[0;34m(op_name, num_outputs, inputs, attrs, ctx, name)\u001b[0m\n\u001b[1;32m     58\u001b[0m     \u001b[0mctx\u001b[0m\u001b[0;34m.\u001b[0m\u001b[0mensure_initialized\u001b[0m\u001b[0;34m(\u001b[0m\u001b[0;34m)\u001b[0m\u001b[0;34m\u001b[0m\u001b[0;34m\u001b[0m\u001b[0m\n\u001b[1;32m     59\u001b[0m     tensors = pywrap_tfe.TFE_Py_Execute(ctx._handle, device_name, op_name,\n\u001b[0;32m---> 60\u001b[0;31m                                         inputs, attrs, num_outputs)\n\u001b[0m\u001b[1;32m     61\u001b[0m   \u001b[0;32mexcept\u001b[0m \u001b[0mcore\u001b[0m\u001b[0;34m.\u001b[0m\u001b[0m_NotOkStatusException\u001b[0m \u001b[0;32mas\u001b[0m \u001b[0me\u001b[0m\u001b[0;34m:\u001b[0m\u001b[0;34m\u001b[0m\u001b[0;34m\u001b[0m\u001b[0m\n\u001b[1;32m     62\u001b[0m     \u001b[0;32mif\u001b[0m \u001b[0mname\u001b[0m \u001b[0;32mis\u001b[0m \u001b[0;32mnot\u001b[0m \u001b[0;32mNone\u001b[0m\u001b[0;34m:\u001b[0m\u001b[0;34m\u001b[0m\u001b[0;34m\u001b[0m\u001b[0m\n",
      "\u001b[0;31mKeyboardInterrupt\u001b[0m: "
     ]
    }
   ],
   "source": [
    "history_rnn = model_rnn.fit(train_data,\n",
    "                    validation_data = test_data,\n",
    "                    epochs = 20)"
   ]
  },
  {
   "cell_type": "code",
   "execution_count": null,
   "metadata": {
    "id": "NUTwkiXRvoaK"
   },
   "outputs": [],
   "source": []
  }
 ],
 "metadata": {
  "accelerator": "GPU",
  "colab": {
   "collapsed_sections": [],
   "name": "07-NLP_Project_Real_or_Not_NLP_with_Disaster.ipynb",
   "provenance": []
  },
  "kernelspec": {
   "display_name": "Python 3",
   "language": "python",
   "name": "python3"
  },
  "language_info": {
   "codemirror_mode": {
    "name": "ipython",
    "version": 3
   },
   "file_extension": ".py",
   "mimetype": "text/x-python",
   "name": "python",
   "nbconvert_exporter": "python",
   "pygments_lexer": "ipython3",
   "version": "3.8.3"
  }
 },
 "nbformat": 4,
 "nbformat_minor": 4
}

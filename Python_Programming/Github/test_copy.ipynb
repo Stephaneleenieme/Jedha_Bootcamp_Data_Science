{
 "cells": [
  {
   "cell_type": "markdown",
   "metadata": {
    "colab_type": "text",
    "id": "1NCGks54kp_n"
   },
   "source": [
    "# How much do you get for your savings ?"
   ]
  },
  {
   "cell_type": "markdown",
   "metadata": {
    "colab_type": "text",
    "id": "75Xe4f7vksGZ"
   },
   "source": [
    "It is said that if Christopher Columbus had set aside €1 that he had left at 2% interest per year, today his heirs would no longer need to work to live their lives. Let's try to calculate the same thing for our savings. "
   ]
  },
  {
   "cell_type": "markdown",
   "metadata": {
    "colab_type": "text",
    "id": "v4ugjwIakv2c"
   },
   "source": [
    "1. So let's create a function that will allow us to know how much money a user will have in total after a certain number of years.\n",
    "\n",
    "2. The user should be able to call the function which will then ask for :\n",
    "\n",
    "    1. The total amount he wishes to place\n",
    "    2. The number of years he wants to invest his money for\n",
    "    3. The rate of interest to which he is entitled\n",
    "    \n",
    "3. Pay attention to the errors that the user may enter.\n",
    "\n",
    "    4. If he enters a string of characters rather than a number, an error should be displayed.\n",
    "    5. If the user enters negative numbers, an error should also be output.\n",
    "    6. Finally, it is very likely that the user will write the interest rate as a percentage (e.g. 10%). Raise an error if this is the case, to prevent him from inputting a percentage.\n",
    "    \n",
    "4. Finally, the program should only show one number with a maximum of two digits after the decimal point.\n"
   ]
  },
  {
   "cell_type": "code",
   "execution_count": 1,
   "metadata": {},
   "outputs": [],
   "source": [
    "import math"
   ]
  },
  {
   "cell_type": "code",
   "execution_count": 2,
   "metadata": {
    "colab": {
     "base_uri": "https://localhost:8080/",
     "height": 173
    },
    "colab_type": "code",
    "id": "ovkcocqXkp2k",
    "outputId": "c6b46d9b-3503-4490-f19a-4a7e35194eea"
   },
   "outputs": [
    {
     "data": {
      "text/plain": [
       "2718.28"
      ]
     },
     "execution_count": 2,
     "metadata": {},
     "output_type": "execute_result"
    }
   ],
   "source": [
    "a = 1000*((2.71828)**(0.10*10))\n",
    "a"
   ]
  },
  {
   "cell_type": "code",
   "execution_count": 3,
   "metadata": {
    "colab": {},
    "colab_type": "code",
    "id": "K_2poSknltX4",
    "tags": []
   },
   "outputs": [
    {
     "data": {
      "text/plain": [
       "2593.7424601000025"
      ]
     },
     "execution_count": 3,
     "metadata": {},
     "output_type": "execute_result"
    }
   ],
   "source": [
    "b = 1000*((1+0.1)**10)\n",
    "b"
   ]
  },
  {
   "cell_type": "code",
   "execution_count": 7,
   "metadata": {},
   "outputs": [],
   "source": [
    "def final_sum() :\n",
    "    try : \n",
    "        amount = float(input('Enter the amount :'))\n",
    "        interest = float(input('Enter the interests :'))\n",
    "        years = float(input('Enter number of years :'))\n",
    "        \n",
    "        if amount < 0 or interest < 0 or years < 0 or interest > 1 :\n",
    "            raise ValueError()\n",
    "        \n",
    "        result = amount*((1+interest)**years)\n",
    "        \n",
    "    except TypeError :\n",
    "        print(\"Please, enter a numerical value\")\n",
    "    except ValueError :\n",
    "        print(\"Please, enter a positive number\")\n",
    "    else :\n",
    "        print(\"For an amount of {}, with interests of {} and {} years, you can expect {:.2f} of final amount\".format(amount, interest, years, result))\n",
    "           "
   ]
  },
  {
   "cell_type": "code",
   "execution_count": 10,
   "metadata": {},
   "outputs": [
    {
     "name": "stdin",
     "output_type": "stream",
     "text": [
      "Enter the amount : -1345\n",
      "Enter the interests : 0.7\n",
      "Enter number of years : 9\n"
     ]
    },
    {
     "name": "stdout",
     "output_type": "stream",
     "text": [
      "Please, enter a positive number\n"
     ]
    }
   ],
   "source": [
    "final_sum()"
   ]
  },
  {
   "cell_type": "code",
   "execution_count": null,
   "metadata": {},
   "outputs": [],
   "source": [
    "def final_sum() :\n",
    "    try : \n",
    "        amount = float(input('Enter the amount :'))\n",
    "        interest = float(input('Enter the interests :'))\n",
    "        years = float(input('Enter number of years :'))\n",
    "        \n",
    "        if amount < 0 or interest < 0 or years < 0 or interest > 1 :\n",
    "            raise ValueError()\n",
    "        \n",
    "        result = amount*((1+interest)**years)\n",
    "        \n",
    "    except TypeError :\n",
    "        print(\"Please, enter a numerical value\")\n",
    "    except ValueError :\n",
    "        print(\"Please, enter a positive number\")\n",
    "    else :\n",
    "        print(\"For an amount of {}, with interests of {} and {} years, you can expect {:.2f} of final amount\".format(amount, interest, years, result))\n",
    "           "
   ]
  },
  {
   "cell_type": "code",
   "execution_count": null,
   "metadata": {},
   "outputs": [],
   "source": []
  }
 ],
 "metadata": {
  "colab": {
   "name": "Fondamentaux Python - Mini Projets S1-2B.ipynb",
   "provenance": [],
   "version": "0.3.2"
  },
  "kernelspec": {
   "display_name": "Python 3",
   "language": "python",
   "name": "python3"
  },
  "language_info": {
   "codemirror_mode": {
    "name": "ipython",
    "version": 3
   },
   "file_extension": ".py",
   "mimetype": "text/x-python",
   "name": "python",
   "nbconvert_exporter": "python",
   "pygments_lexer": "ipython3",
   "version": "3.8.5"
  }
 },
 "nbformat": 4,
 "nbformat_minor": 4
}
